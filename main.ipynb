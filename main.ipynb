{
 "cells": [
  {
   "cell_type": "markdown",
   "metadata": {},
   "source": [
    "<h1>UA Energy Mini-Project</h1>\n",
    "\n",
    "_This notebook is used to collect and analyse data from [UA-Energy.org](https://ua-energy.org), a website covering energy news in Ukraine_\n",
    "\n",
    "***\n",
    "The analysis starts with <b>web-scraping</b> the data from the website and proceed to analysing it using <b>regular expressions</b> and data visualisation techniques.\n",
    "\n",
    "<h2>Table of Contents</h2>\n",
    "\n",
    "[**Web Scraping**](#1.-Web-Scraping)\n",
    "1. [Obtaining links to articles](#1.1-Obtaining-links-to-articles)\n",
    "2. [Obtaining articles](#1.2-Obtaining-articles)\n",
    "3. [Merging metadata to articles](#1.3-Merging-metadata-to-articles)\n",
    "\n",
    "[**Data Analysis**](#2.-Data-Analysis)\n",
    "1. [Exploring tags](#2.1-Exploring-tags)\n",
    "2. [Named entity recognition](#2.2-Named-entity-recognition)\n",
    "\n",
    "[**Dashboard**](#Dashboard)"
   ]
  },
  {
   "cell_type": "markdown",
   "metadata": {},
   "source": [
    "## Libraries"
   ]
  },
  {
   "cell_type": "code",
   "execution_count": 1,
   "metadata": {},
   "outputs": [
    {
     "name": "stdout",
     "output_type": "stream",
     "text": [
      "Loaded!\n"
     ]
    }
   ],
   "source": [
    "#Standard library imports\n",
    "import re\n",
    "\n",
    "#Third party imports\n",
    "import numpy as np\n",
    "import pandas as pd\n",
    "import altair as alt\n",
    "#import requests\n",
    "#from bs4 import BeautifulSoup\n",
    "from tqdm import tqdm\n",
    "\n",
    "#Local imports\n",
    "import uaenergy as energy\n",
    "\n",
    "print(\"Loaded!\")"
   ]
  },
  {
   "cell_type": "markdown",
   "metadata": {},
   "source": [
    "## 1. Web Scraping"
   ]
  },
  {
   "cell_type": "markdown",
   "metadata": {},
   "source": [
    "<font size = 3>\n",
    "    In this section, I collect data from the website using a custom-built set of scraping functions. I start by collecting titles, links and dates of articles from a newspage before going on to collect article texts and tags in the next section.\n",
    "</font>"
   ]
  },
  {
   "cell_type": "code",
   "execution_count": 2,
   "metadata": {},
   "outputs": [
    {
     "name": "stdout",
     "output_type": "stream",
     "text": [
      "https://ua-energy.org\n"
     ]
    }
   ],
   "source": [
    "website = \"https://ua-energy.org\"\n",
    "print(website)"
   ]
  },
  {
   "cell_type": "markdown",
   "metadata": {},
   "source": [
    "### 1.1 Obtaining links to articles"
   ]
  },
  {
   "cell_type": "markdown",
   "metadata": {},
   "source": [
    "<div class=\"alert alert-warning\">\n",
    "\n",
    "**Note:** The news section of the website is a one-pager, which is not easy to scrape without <a href=\"https://selenium-python.readthedocs.io\">Selenium</a>. However, the news Archive can be used to obtain articles published on a given date. This allows to collect all the articles from the website in an orderly fashion with ease.\n",
    "\n",
    "</div>"
   ]
  },
  {
   "cell_type": "code",
   "execution_count": 3,
   "metadata": {},
   "outputs": [
    {
     "name": "stdout",
     "output_type": "stream",
     "text": [
      "Number of dates: 1991\n"
     ]
    }
   ],
   "source": [
    "#Creating a likely date range for the articles\n",
    "dates = pd.date_range(start = \"2015-01-01\", end = \"2020-06-13\")\n",
    "dates = [date.strftime('%d-%m-%Y') for date in dates]\n",
    "print(f\"Number of dates: {len(dates)}\")"
   ]
  },
  {
   "cell_type": "code",
   "execution_count": 4,
   "metadata": {},
   "outputs": [
    {
     "name": "stderr",
     "output_type": "stream",
     "text": [
      "100%|██████████| 1991/1991 [12:01<00:00,  2.76it/s]"
     ]
    },
    {
     "name": "stdout",
     "output_type": "stream",
     "text": [
      "Shape:(6605, 3)\n"
     ]
    },
    {
     "name": "stderr",
     "output_type": "stream",
     "text": [
      "\n"
     ]
    },
    {
     "data": {
      "text/html": [
       "<div>\n",
       "<style scoped>\n",
       "    .dataframe tbody tr th:only-of-type {\n",
       "        vertical-align: middle;\n",
       "    }\n",
       "\n",
       "    .dataframe tbody tr th {\n",
       "        vertical-align: top;\n",
       "    }\n",
       "\n",
       "    .dataframe thead th {\n",
       "        text-align: right;\n",
       "    }\n",
       "</style>\n",
       "<table border=\"1\" class=\"dataframe\">\n",
       "  <thead>\n",
       "    <tr style=\"text-align: right;\">\n",
       "      <th></th>\n",
       "      <th>Title</th>\n",
       "      <th>Link</th>\n",
       "      <th>Date</th>\n",
       "    </tr>\n",
       "  </thead>\n",
       "  <tbody>\n",
       "    <tr>\n",
       "      <th>0</th>\n",
       "      <td>Якщо буде попит з боку Європи чи Китаю, РФ гот...</td>\n",
       "      <td>/uk/posts/yakshcho-bude-popyt-z-boku-yevropy-c...</td>\n",
       "      <td>23 лютого 2017, 07:11</td>\n",
       "    </tr>\n",
       "    <tr>\n",
       "      <th>1</th>\n",
       "      <td>Насалик у четвер в Кабміні прозвітує про стан ...</td>\n",
       "      <td>/uk/posts/nasalyk-u-chetver-v-kabmini-prozvitu...</td>\n",
       "      <td>13 березня 2017, 19:38</td>\n",
       "    </tr>\n",
       "    <tr>\n",
       "      <th>2</th>\n",
       "      <td>Україна припинила відбір газу з підземних сховищ</td>\n",
       "      <td>/uk/posts/ukraina-prypynyla-vidbir-hazu-z-pidz...</td>\n",
       "      <td>13 березня 2017, 13:09</td>\n",
       "    </tr>\n",
       "    <tr>\n",
       "      <th>3</th>\n",
       "      <td>Будівництво Каховської ГЕС-2 коштуватиме 13,5 ...</td>\n",
       "      <td>/uk/posts/budivnytstvo-kakhovskoi-hes-2-koshtu...</td>\n",
       "      <td>13 березня 2017, 12:43</td>\n",
       "    </tr>\n",
       "    <tr>\n",
       "      <th>4</th>\n",
       "      <td>Brent дорожчає на тлі бурової активності в США</td>\n",
       "      <td>/uk/posts/brent-dorozhchaie-na-tli-burovoi-akt...</td>\n",
       "      <td>13 березня 2017, 12:33</td>\n",
       "    </tr>\n",
       "  </tbody>\n",
       "</table>\n",
       "</div>"
      ],
      "text/plain": [
       "                                               Title  \\\n",
       "0  Якщо буде попит з боку Європи чи Китаю, РФ гот...   \n",
       "1  Насалик у четвер в Кабміні прозвітує про стан ...   \n",
       "2   Україна припинила відбір газу з підземних сховищ   \n",
       "3  Будівництво Каховської ГЕС-2 коштуватиме 13,5 ...   \n",
       "4     Brent дорожчає на тлі бурової активності в США   \n",
       "\n",
       "                                                Link                    Date  \n",
       "0  /uk/posts/yakshcho-bude-popyt-z-boku-yevropy-c...   23 лютого 2017, 07:11  \n",
       "1  /uk/posts/nasalyk-u-chetver-v-kabmini-prozvitu...  13 березня 2017, 19:38  \n",
       "2  /uk/posts/ukraina-prypynyla-vidbir-hazu-z-pidz...  13 березня 2017, 13:09  \n",
       "3  /uk/posts/budivnytstvo-kakhovskoi-hes-2-koshtu...  13 березня 2017, 12:43  \n",
       "4  /uk/posts/brent-dorozhchaie-na-tli-burovoi-akt...  13 березня 2017, 12:33  "
      ]
     },
     "metadata": {},
     "output_type": "display_data"
    }
   ],
   "source": [
    "#Scraping titles, dates and links to the articles and putting the data into a dataframe\n",
    "df_news = pd.concat([energy.parse_news(date) for date in tqdm(dates)], ignore_index=True)\n",
    "print(f\"Shape:{df_news.shape}\")\n",
    "display(df_news.head())"
   ]
  },
  {
   "cell_type": "code",
   "execution_count": 5,
   "metadata": {},
   "outputs": [
    {
     "name": "stdout",
     "output_type": "stream",
     "text": [
      "Saved!\n"
     ]
    }
   ],
   "source": [
    "#Saving the data\n",
    "#df_news.to_excel(\"UAEnergy_Out1_News.xlsx\", index = False)\n",
    "print(\"Saved!\")"
   ]
  },
  {
   "cell_type": "markdown",
   "metadata": {},
   "source": [
    "### 1.2 Obtaining articles"
   ]
  },
  {
   "cell_type": "code",
   "execution_count": 6,
   "metadata": {},
   "outputs": [
    {
     "name": "stdout",
     "output_type": "stream",
     "text": [
      "Shape:(6605, 3)\n"
     ]
    },
    {
     "data": {
      "text/html": [
       "<div>\n",
       "<style scoped>\n",
       "    .dataframe tbody tr th:only-of-type {\n",
       "        vertical-align: middle;\n",
       "    }\n",
       "\n",
       "    .dataframe tbody tr th {\n",
       "        vertical-align: top;\n",
       "    }\n",
       "\n",
       "    .dataframe thead th {\n",
       "        text-align: right;\n",
       "    }\n",
       "</style>\n",
       "<table border=\"1\" class=\"dataframe\">\n",
       "  <thead>\n",
       "    <tr style=\"text-align: right;\">\n",
       "      <th></th>\n",
       "      <th>Title</th>\n",
       "      <th>Link</th>\n",
       "      <th>Date</th>\n",
       "    </tr>\n",
       "  </thead>\n",
       "  <tbody>\n",
       "    <tr>\n",
       "      <th>0</th>\n",
       "      <td>Якщо буде попит з боку Європи чи Китаю, РФ гот...</td>\n",
       "      <td>/uk/posts/yakshcho-bude-popyt-z-boku-yevropy-c...</td>\n",
       "      <td>23 лютого 2017, 07:11</td>\n",
       "    </tr>\n",
       "    <tr>\n",
       "      <th>1</th>\n",
       "      <td>Насалик у четвер в Кабміні прозвітує про стан ...</td>\n",
       "      <td>/uk/posts/nasalyk-u-chetver-v-kabmini-prozvitu...</td>\n",
       "      <td>13 березня 2017, 19:38</td>\n",
       "    </tr>\n",
       "    <tr>\n",
       "      <th>2</th>\n",
       "      <td>Україна припинила відбір газу з підземних сховищ</td>\n",
       "      <td>/uk/posts/ukraina-prypynyla-vidbir-hazu-z-pidz...</td>\n",
       "      <td>13 березня 2017, 13:09</td>\n",
       "    </tr>\n",
       "    <tr>\n",
       "      <th>3</th>\n",
       "      <td>Будівництво Каховської ГЕС-2 коштуватиме 13,5 ...</td>\n",
       "      <td>/uk/posts/budivnytstvo-kakhovskoi-hes-2-koshtu...</td>\n",
       "      <td>13 березня 2017, 12:43</td>\n",
       "    </tr>\n",
       "    <tr>\n",
       "      <th>4</th>\n",
       "      <td>Brent дорожчає на тлі бурової активності в США</td>\n",
       "      <td>/uk/posts/brent-dorozhchaie-na-tli-burovoi-akt...</td>\n",
       "      <td>13 березня 2017, 12:33</td>\n",
       "    </tr>\n",
       "  </tbody>\n",
       "</table>\n",
       "</div>"
      ],
      "text/plain": [
       "                                               Title  \\\n",
       "0  Якщо буде попит з боку Європи чи Китаю, РФ гот...   \n",
       "1  Насалик у четвер в Кабміні прозвітує про стан ...   \n",
       "2   Україна припинила відбір газу з підземних сховищ   \n",
       "3  Будівництво Каховської ГЕС-2 коштуватиме 13,5 ...   \n",
       "4     Brent дорожчає на тлі бурової активності в США   \n",
       "\n",
       "                                                Link                    Date  \n",
       "0  /uk/posts/yakshcho-bude-popyt-z-boku-yevropy-c...   23 лютого 2017, 07:11  \n",
       "1  /uk/posts/nasalyk-u-chetver-v-kabmini-prozvitu...  13 березня 2017, 19:38  \n",
       "2  /uk/posts/ukraina-prypynyla-vidbir-hazu-z-pidz...  13 березня 2017, 13:09  \n",
       "3  /uk/posts/budivnytstvo-kakhovskoi-hes-2-koshtu...  13 березня 2017, 12:43  \n",
       "4  /uk/posts/brent-dorozhchaie-na-tli-burovoi-akt...  13 березня 2017, 12:33  "
      ]
     },
     "metadata": {},
     "output_type": "display_data"
    }
   ],
   "source": [
    "#Reading back the data\n",
    "df_news = pd.read_excel(\"UAEnergy_Out1_News.xlsx\")\n",
    "print(f\"Shape:{df_news.shape}\")\n",
    "display(df_news.head())"
   ]
  },
  {
   "cell_type": "code",
   "execution_count": 7,
   "metadata": {},
   "outputs": [
    {
     "name": "stdout",
     "output_type": "stream",
     "text": [
      "/uk/posts/v-ukraini-isnuiut-bilshe-500-vydiv-alternatyvnoho-palyva\n"
     ]
    }
   ],
   "source": [
    "#Obtaining a random link to an article for demonstration\n",
    "link = df_news[\"Link\"].sample().values[0]\n",
    "print(link)"
   ]
  },
  {
   "cell_type": "code",
   "execution_count": 8,
   "metadata": {},
   "outputs": [
    {
     "data": {
      "text/plain": [
       "('https://ua-energy.org/uk/posts/v-ukraini-isnuiut-bilshe-500-vydiv-alternatyvnoho-palyva',\n",
       " 'Держенергоефективності опублікувало реєстр альтернативного палива для опалення та пального для авто В Україні зареєстровано 586 видів альтернативного палива, яке можна використовувати для опалення або як автомобільне пальне. Такі дані оприлюднило Держенергоефективності.\\xa0 Найбільше зареєстровано видів рідкого палива - більше 300 видів. Частину з них можна використовувати як моторне паливо для авто, частину - як додаток до пального. Твердого палива в Україні теж багато - 284 види. До них відносять паливні брикети, пелети, гранули тощо з різних видів сировини (дерево, тирса, соняшникове лушпиння, солома зернових культур).\\xa0 Нагадаємо, в Україні діють стимулюючі тарифи для розвитку альтернативного палива: для станцій, що виробляють електроенергію, діють \"зелені\" тарифи, а для станцій, що використовують альтернативне паливо і виробляють тепло, встановлено тариф на рівні 90% від газового.\\xa0',\n",
       " {'/uk/tags/alternatyvna-enerhetyka': 'альтернативна енергетика',\n",
       "  '/uk/tags/biopalyvo': 'Біопаливо',\n",
       "  '/uk/tags/derzhenerhoefektyvnosti': 'Держенергоефективності'},\n",
       " None)"
      ]
     },
     "execution_count": 8,
     "metadata": {},
     "output_type": "execute_result"
    }
   ],
   "source": [
    "#Scraping the link with my custom function\n",
    "energy.get_article_content(link)"
   ]
  },
  {
   "cell_type": "code",
   "execution_count": 9,
   "metadata": {},
   "outputs": [
    {
     "name": "stderr",
     "output_type": "stream",
     "text": [
      "100%|██████████| 6605/6605 [1:44:58<00:00,  1.05it/s]  "
     ]
    },
    {
     "name": "stdout",
     "output_type": "stream",
     "text": [
      "Shape:(6605, 4)\n"
     ]
    },
    {
     "name": "stderr",
     "output_type": "stream",
     "text": [
      "\n"
     ]
    },
    {
     "data": {
      "text/html": [
       "<div>\n",
       "<style scoped>\n",
       "    .dataframe tbody tr th:only-of-type {\n",
       "        vertical-align: middle;\n",
       "    }\n",
       "\n",
       "    .dataframe tbody tr th {\n",
       "        vertical-align: top;\n",
       "    }\n",
       "\n",
       "    .dataframe thead th {\n",
       "        text-align: right;\n",
       "    }\n",
       "</style>\n",
       "<table border=\"1\" class=\"dataframe\">\n",
       "  <thead>\n",
       "    <tr style=\"text-align: right;\">\n",
       "      <th></th>\n",
       "      <th>Link</th>\n",
       "      <th>Text</th>\n",
       "      <th>Tags</th>\n",
       "      <th>Linked_Articles</th>\n",
       "    </tr>\n",
       "  </thead>\n",
       "  <tbody>\n",
       "    <tr>\n",
       "      <th>0</th>\n",
       "      <td>https://ua-energy.org/uk/posts/yakshcho-bude-p...</td>\n",
       "      <td>Потенциал действующих газовых месторождений Р...</td>\n",
       "      <td>None</td>\n",
       "      <td>None</td>\n",
       "    </tr>\n",
       "    <tr>\n",
       "      <th>1</th>\n",
       "      <td>https://ua-energy.org/uk/posts/nasalyk-u-chetv...</td>\n",
       "      <td>Кабінет міністрів України у четвер заслухає зв...</td>\n",
       "      <td>None</td>\n",
       "      <td>None</td>\n",
       "    </tr>\n",
       "    <tr>\n",
       "      <th>2</th>\n",
       "      <td>https://ua-energy.org/uk/posts/ukraina-prypyny...</td>\n",
       "      <td>Україна припинила відбір газу з підземних схов...</td>\n",
       "      <td>None</td>\n",
       "      <td>None</td>\n",
       "    </tr>\n",
       "    <tr>\n",
       "      <th>3</th>\n",
       "      <td>https://ua-energy.org/uk/posts/budivnytstvo-ka...</td>\n",
       "      <td>Уряд схвалив техніко-економічне обґрунтування ...</td>\n",
       "      <td>None</td>\n",
       "      <td>None</td>\n",
       "    </tr>\n",
       "    <tr>\n",
       "      <th>4</th>\n",
       "      <td>https://ua-energy.org/uk/posts/brent-dorozhcha...</td>\n",
       "      <td>Ціни на нафту знизилися до тримісячного мініму...</td>\n",
       "      <td>None</td>\n",
       "      <td>None</td>\n",
       "    </tr>\n",
       "  </tbody>\n",
       "</table>\n",
       "</div>"
      ],
      "text/plain": [
       "                                                Link  \\\n",
       "0  https://ua-energy.org/uk/posts/yakshcho-bude-p...   \n",
       "1  https://ua-energy.org/uk/posts/nasalyk-u-chetv...   \n",
       "2  https://ua-energy.org/uk/posts/ukraina-prypyny...   \n",
       "3  https://ua-energy.org/uk/posts/budivnytstvo-ka...   \n",
       "4  https://ua-energy.org/uk/posts/brent-dorozhcha...   \n",
       "\n",
       "                                                Text  Tags Linked_Articles  \n",
       "0   Потенциал действующих газовых месторождений Р...  None            None  \n",
       "1  Кабінет міністрів України у четвер заслухає зв...  None            None  \n",
       "2  Україна припинила відбір газу з підземних схов...  None            None  \n",
       "3  Уряд схвалив техніко-економічне обґрунтування ...  None            None  \n",
       "4  Ціни на нафту знизилися до тримісячного мініму...  None            None  "
      ]
     },
     "metadata": {},
     "output_type": "display_data"
    }
   ],
   "source": [
    "#Scraping all the links and creating a dataset\n",
    "df_articles = pd.DataFrame([energy.get_article_content(link) for link in tqdm(df_news[\"Link\"])], \n",
    "                           columns = [\"Link\", \"Text\", \"Tags\", \"Linked_Articles\"])\n",
    "print(f\"Shape:{df_articles.shape}\")\n",
    "display(df_articles.head())"
   ]
  },
  {
   "cell_type": "code",
   "execution_count": 10,
   "metadata": {},
   "outputs": [
    {
     "name": "stdout",
     "output_type": "stream",
     "text": [
      "Saved!\n"
     ]
    }
   ],
   "source": [
    "#Saving the file in an Excel file\n",
    "#df_articles.to_excel(\"UAEnergy_Out2_Articles.xlsx\", index = False)\n",
    "print(\"Saved!\")"
   ]
  },
  {
   "cell_type": "markdown",
   "metadata": {},
   "source": [
    "### 1.3 Merging metadata to articles"
   ]
  },
  {
   "cell_type": "code",
   "execution_count": 11,
   "metadata": {},
   "outputs": [
    {
     "name": "stdout",
     "output_type": "stream",
     "text": [
      "Shape:(6605, 3)\n"
     ]
    },
    {
     "data": {
      "text/html": [
       "<div>\n",
       "<style scoped>\n",
       "    .dataframe tbody tr th:only-of-type {\n",
       "        vertical-align: middle;\n",
       "    }\n",
       "\n",
       "    .dataframe tbody tr th {\n",
       "        vertical-align: top;\n",
       "    }\n",
       "\n",
       "    .dataframe thead th {\n",
       "        text-align: right;\n",
       "    }\n",
       "</style>\n",
       "<table border=\"1\" class=\"dataframe\">\n",
       "  <thead>\n",
       "    <tr style=\"text-align: right;\">\n",
       "      <th></th>\n",
       "      <th>Title</th>\n",
       "      <th>Link</th>\n",
       "      <th>Date</th>\n",
       "    </tr>\n",
       "  </thead>\n",
       "  <tbody>\n",
       "    <tr>\n",
       "      <th>0</th>\n",
       "      <td>Якщо буде попит з боку Європи чи Китаю, РФ гот...</td>\n",
       "      <td>/uk/posts/yakshcho-bude-popyt-z-boku-yevropy-c...</td>\n",
       "      <td>23 лютого 2017, 07:11</td>\n",
       "    </tr>\n",
       "    <tr>\n",
       "      <th>1</th>\n",
       "      <td>Насалик у четвер в Кабміні прозвітує про стан ...</td>\n",
       "      <td>/uk/posts/nasalyk-u-chetver-v-kabmini-prozvitu...</td>\n",
       "      <td>13 березня 2017, 19:38</td>\n",
       "    </tr>\n",
       "    <tr>\n",
       "      <th>2</th>\n",
       "      <td>Україна припинила відбір газу з підземних сховищ</td>\n",
       "      <td>/uk/posts/ukraina-prypynyla-vidbir-hazu-z-pidz...</td>\n",
       "      <td>13 березня 2017, 13:09</td>\n",
       "    </tr>\n",
       "    <tr>\n",
       "      <th>3</th>\n",
       "      <td>Будівництво Каховської ГЕС-2 коштуватиме 13,5 ...</td>\n",
       "      <td>/uk/posts/budivnytstvo-kakhovskoi-hes-2-koshtu...</td>\n",
       "      <td>13 березня 2017, 12:43</td>\n",
       "    </tr>\n",
       "    <tr>\n",
       "      <th>4</th>\n",
       "      <td>Brent дорожчає на тлі бурової активності в США</td>\n",
       "      <td>/uk/posts/brent-dorozhchaie-na-tli-burovoi-akt...</td>\n",
       "      <td>13 березня 2017, 12:33</td>\n",
       "    </tr>\n",
       "  </tbody>\n",
       "</table>\n",
       "</div>"
      ],
      "text/plain": [
       "                                               Title  \\\n",
       "0  Якщо буде попит з боку Європи чи Китаю, РФ гот...   \n",
       "1  Насалик у четвер в Кабміні прозвітує про стан ...   \n",
       "2   Україна припинила відбір газу з підземних сховищ   \n",
       "3  Будівництво Каховської ГЕС-2 коштуватиме 13,5 ...   \n",
       "4     Brent дорожчає на тлі бурової активності в США   \n",
       "\n",
       "                                                Link                    Date  \n",
       "0  /uk/posts/yakshcho-bude-popyt-z-boku-yevropy-c...   23 лютого 2017, 07:11  \n",
       "1  /uk/posts/nasalyk-u-chetver-v-kabmini-prozvitu...  13 березня 2017, 19:38  \n",
       "2  /uk/posts/ukraina-prypynyla-vidbir-hazu-z-pidz...  13 березня 2017, 13:09  \n",
       "3  /uk/posts/budivnytstvo-kakhovskoi-hes-2-koshtu...  13 березня 2017, 12:43  \n",
       "4  /uk/posts/brent-dorozhchaie-na-tli-burovoi-akt...  13 березня 2017, 12:33  "
      ]
     },
     "metadata": {},
     "output_type": "display_data"
    }
   ],
   "source": [
    "#Reading the news file\n",
    "df_news = pd.read_excel(\"UAEnergy_Out1_News.xlsx\")\n",
    "print(f\"Shape:{df_news.shape}\")\n",
    "display(df_news.head())"
   ]
  },
  {
   "cell_type": "code",
   "execution_count": 12,
   "metadata": {},
   "outputs": [
    {
     "name": "stdout",
     "output_type": "stream",
     "text": [
      "Shape:(6605, 4)\n"
     ]
    },
    {
     "data": {
      "text/html": [
       "<div>\n",
       "<style scoped>\n",
       "    .dataframe tbody tr th:only-of-type {\n",
       "        vertical-align: middle;\n",
       "    }\n",
       "\n",
       "    .dataframe tbody tr th {\n",
       "        vertical-align: top;\n",
       "    }\n",
       "\n",
       "    .dataframe thead th {\n",
       "        text-align: right;\n",
       "    }\n",
       "</style>\n",
       "<table border=\"1\" class=\"dataframe\">\n",
       "  <thead>\n",
       "    <tr style=\"text-align: right;\">\n",
       "      <th></th>\n",
       "      <th>Link</th>\n",
       "      <th>Text</th>\n",
       "      <th>Tags</th>\n",
       "      <th>Linked_Articles</th>\n",
       "    </tr>\n",
       "  </thead>\n",
       "  <tbody>\n",
       "    <tr>\n",
       "      <th>0</th>\n",
       "      <td>https://ua-energy.org/uk/posts/yakshcho-bude-p...</td>\n",
       "      <td>Потенциал действующих газовых месторождений Р...</td>\n",
       "      <td>NaN</td>\n",
       "      <td>NaN</td>\n",
       "    </tr>\n",
       "    <tr>\n",
       "      <th>1</th>\n",
       "      <td>https://ua-energy.org/uk/posts/nasalyk-u-chetv...</td>\n",
       "      <td>Кабінет міністрів України у четвер заслухає зв...</td>\n",
       "      <td>NaN</td>\n",
       "      <td>NaN</td>\n",
       "    </tr>\n",
       "    <tr>\n",
       "      <th>2</th>\n",
       "      <td>https://ua-energy.org/uk/posts/ukraina-prypyny...</td>\n",
       "      <td>Україна припинила відбір газу з підземних схов...</td>\n",
       "      <td>NaN</td>\n",
       "      <td>NaN</td>\n",
       "    </tr>\n",
       "    <tr>\n",
       "      <th>3</th>\n",
       "      <td>https://ua-energy.org/uk/posts/budivnytstvo-ka...</td>\n",
       "      <td>Уряд схвалив техніко-економічне обґрунтування ...</td>\n",
       "      <td>NaN</td>\n",
       "      <td>NaN</td>\n",
       "    </tr>\n",
       "    <tr>\n",
       "      <th>4</th>\n",
       "      <td>https://ua-energy.org/uk/posts/brent-dorozhcha...</td>\n",
       "      <td>Ціни на нафту знизилися до тримісячного мініму...</td>\n",
       "      <td>NaN</td>\n",
       "      <td>NaN</td>\n",
       "    </tr>\n",
       "  </tbody>\n",
       "</table>\n",
       "</div>"
      ],
      "text/plain": [
       "                                                Link  \\\n",
       "0  https://ua-energy.org/uk/posts/yakshcho-bude-p...   \n",
       "1  https://ua-energy.org/uk/posts/nasalyk-u-chetv...   \n",
       "2  https://ua-energy.org/uk/posts/ukraina-prypyny...   \n",
       "3  https://ua-energy.org/uk/posts/budivnytstvo-ka...   \n",
       "4  https://ua-energy.org/uk/posts/brent-dorozhcha...   \n",
       "\n",
       "                                                Text Tags Linked_Articles  \n",
       "0   Потенциал действующих газовых месторождений Р...  NaN             NaN  \n",
       "1  Кабінет міністрів України у четвер заслухає зв...  NaN             NaN  \n",
       "2  Україна припинила відбір газу з підземних схов...  NaN             NaN  \n",
       "3  Уряд схвалив техніко-економічне обґрунтування ...  NaN             NaN  \n",
       "4  Ціни на нафту знизилися до тримісячного мініму...  NaN             NaN  "
      ]
     },
     "metadata": {},
     "output_type": "display_data"
    }
   ],
   "source": [
    "#Reading the articles file\n",
    "df_articles = pd.read_excel(\"UAEnergy_Out2_Articles.xlsx\")\n",
    "print(f\"Shape:{df_articles.shape}\")\n",
    "display(df_articles.head())"
   ]
  },
  {
   "cell_type": "code",
   "execution_count": 13,
   "metadata": {},
   "outputs": [],
   "source": [
    "#Standardasing the links\n",
    "df_news[\"Link\"] = website + df_news[\"Link\"]"
   ]
  },
  {
   "cell_type": "code",
   "execution_count": 14,
   "metadata": {},
   "outputs": [
    {
     "name": "stdout",
     "output_type": "stream",
     "text": [
      "Shape before:(6605, 4)\n",
      "Shape after:(6607, 6)\n",
      "Duplicates count: 3\n"
     ]
    },
    {
     "data": {
      "text/html": [
       "<div>\n",
       "<style scoped>\n",
       "    .dataframe tbody tr th:only-of-type {\n",
       "        vertical-align: middle;\n",
       "    }\n",
       "\n",
       "    .dataframe tbody tr th {\n",
       "        vertical-align: top;\n",
       "    }\n",
       "\n",
       "    .dataframe thead th {\n",
       "        text-align: right;\n",
       "    }\n",
       "</style>\n",
       "<table border=\"1\" class=\"dataframe\">\n",
       "  <thead>\n",
       "    <tr style=\"text-align: right;\">\n",
       "      <th></th>\n",
       "      <th>Link</th>\n",
       "      <th>Text</th>\n",
       "      <th>Tags</th>\n",
       "      <th>Linked_Articles</th>\n",
       "      <th>Title</th>\n",
       "      <th>Date</th>\n",
       "    </tr>\n",
       "  </thead>\n",
       "  <tbody>\n",
       "    <tr>\n",
       "      <th>0</th>\n",
       "      <td>https://ua-energy.org/uk/posts/yakshcho-bude-p...</td>\n",
       "      <td>Потенциал действующих газовых месторождений Р...</td>\n",
       "      <td>NaN</td>\n",
       "      <td>NaN</td>\n",
       "      <td>Якщо буде попит з боку Європи чи Китаю, РФ гот...</td>\n",
       "      <td>23 лютого 2017, 07:11</td>\n",
       "    </tr>\n",
       "    <tr>\n",
       "      <th>1</th>\n",
       "      <td>https://ua-energy.org/uk/posts/nasalyk-u-chetv...</td>\n",
       "      <td>Кабінет міністрів України у четвер заслухає зв...</td>\n",
       "      <td>NaN</td>\n",
       "      <td>NaN</td>\n",
       "      <td>Насалик у четвер в Кабміні прозвітує про стан ...</td>\n",
       "      <td>13 березня 2017, 19:38</td>\n",
       "    </tr>\n",
       "    <tr>\n",
       "      <th>2</th>\n",
       "      <td>https://ua-energy.org/uk/posts/ukraina-prypyny...</td>\n",
       "      <td>Україна припинила відбір газу з підземних схов...</td>\n",
       "      <td>NaN</td>\n",
       "      <td>NaN</td>\n",
       "      <td>Україна припинила відбір газу з підземних сховищ</td>\n",
       "      <td>13 березня 2017, 13:09</td>\n",
       "    </tr>\n",
       "    <tr>\n",
       "      <th>3</th>\n",
       "      <td>https://ua-energy.org/uk/posts/budivnytstvo-ka...</td>\n",
       "      <td>Уряд схвалив техніко-економічне обґрунтування ...</td>\n",
       "      <td>NaN</td>\n",
       "      <td>NaN</td>\n",
       "      <td>Будівництво Каховської ГЕС-2 коштуватиме 13,5 ...</td>\n",
       "      <td>13 березня 2017, 12:43</td>\n",
       "    </tr>\n",
       "    <tr>\n",
       "      <th>4</th>\n",
       "      <td>https://ua-energy.org/uk/posts/brent-dorozhcha...</td>\n",
       "      <td>Ціни на нафту знизилися до тримісячного мініму...</td>\n",
       "      <td>NaN</td>\n",
       "      <td>NaN</td>\n",
       "      <td>Brent дорожчає на тлі бурової активності в США</td>\n",
       "      <td>13 березня 2017, 12:33</td>\n",
       "    </tr>\n",
       "  </tbody>\n",
       "</table>\n",
       "</div>"
      ],
      "text/plain": [
       "                                                Link  \\\n",
       "0  https://ua-energy.org/uk/posts/yakshcho-bude-p...   \n",
       "1  https://ua-energy.org/uk/posts/nasalyk-u-chetv...   \n",
       "2  https://ua-energy.org/uk/posts/ukraina-prypyny...   \n",
       "3  https://ua-energy.org/uk/posts/budivnytstvo-ka...   \n",
       "4  https://ua-energy.org/uk/posts/brent-dorozhcha...   \n",
       "\n",
       "                                                Text Tags Linked_Articles  \\\n",
       "0   Потенциал действующих газовых месторождений Р...  NaN             NaN   \n",
       "1  Кабінет міністрів України у четвер заслухає зв...  NaN             NaN   \n",
       "2  Україна припинила відбір газу з підземних схов...  NaN             NaN   \n",
       "3  Уряд схвалив техніко-економічне обґрунтування ...  NaN             NaN   \n",
       "4  Ціни на нафту знизилися до тримісячного мініму...  NaN             NaN   \n",
       "\n",
       "                                               Title                    Date  \n",
       "0  Якщо буде попит з боку Європи чи Китаю, РФ гот...   23 лютого 2017, 07:11  \n",
       "1  Насалик у четвер в Кабміні прозвітує про стан ...  13 березня 2017, 19:38  \n",
       "2   Україна припинила відбір газу з підземних сховищ  13 березня 2017, 13:09  \n",
       "3  Будівництво Каховської ГЕС-2 коштуватиме 13,5 ...  13 березня 2017, 12:43  \n",
       "4     Brent дорожчає на тлі бурової активності в США  13 березня 2017, 12:33  "
      ]
     },
     "metadata": {},
     "output_type": "display_data"
    }
   ],
   "source": [
    "#Merging articles with metadata from news\n",
    "print(f\"Shape before:{df_articles.shape}\")\n",
    "df_articles = df_articles.merge(df_news, on = \"Link\", how = \"inner\")\n",
    "print(f\"Shape after:{df_articles.shape}\")\n",
    "print(\"Duplicates count:\", df_articles.duplicated().sum())\n",
    "display(df_articles.head())"
   ]
  },
  {
   "cell_type": "code",
   "execution_count": 15,
   "metadata": {},
   "outputs": [
    {
     "data": {
      "text/html": [
       "<div>\n",
       "<style scoped>\n",
       "    .dataframe tbody tr th:only-of-type {\n",
       "        vertical-align: middle;\n",
       "    }\n",
       "\n",
       "    .dataframe tbody tr th {\n",
       "        vertical-align: top;\n",
       "    }\n",
       "\n",
       "    .dataframe thead th {\n",
       "        text-align: right;\n",
       "    }\n",
       "</style>\n",
       "<table border=\"1\" class=\"dataframe\">\n",
       "  <thead>\n",
       "    <tr style=\"text-align: right;\">\n",
       "      <th></th>\n",
       "      <th>Link</th>\n",
       "      <th>Text</th>\n",
       "      <th>Tags</th>\n",
       "      <th>Linked_Articles</th>\n",
       "      <th>Title</th>\n",
       "      <th>Date</th>\n",
       "    </tr>\n",
       "  </thead>\n",
       "  <tbody>\n",
       "    <tr>\n",
       "      <th>2769</th>\n",
       "      <td>https://ua-energy.org/uk/posts/prokuratura-ne-...</td>\n",
       "      <td>Прокуратура не побачила порушень в діях судді ...</td>\n",
       "      <td>NaN</td>\n",
       "      <td>NaN</td>\n",
       "      <td>Прокуратура не побачила порушень у діях судді,...</td>\n",
       "      <td>05 червня 2018, 12:37</td>\n",
       "    </tr>\n",
       "    <tr>\n",
       "      <th>2770</th>\n",
       "      <td>https://ua-energy.org/uk/posts/prokuratura-ne-...</td>\n",
       "      <td>Прокуратура не побачила порушень в діях судді ...</td>\n",
       "      <td>NaN</td>\n",
       "      <td>NaN</td>\n",
       "      <td>Прокуратура не побачила порушень у діях судді,...</td>\n",
       "      <td>05 червня 2018, 12:37</td>\n",
       "    </tr>\n",
       "    <tr>\n",
       "      <th>2771</th>\n",
       "      <td>https://ua-energy.org/uk/posts/prokuratura-ne-...</td>\n",
       "      <td>Прокуратура не побачила порушень в діях судді ...</td>\n",
       "      <td>NaN</td>\n",
       "      <td>NaN</td>\n",
       "      <td>Прокуратура не побачила порушень у діях судді,...</td>\n",
       "      <td>05 червня 2018, 12:37</td>\n",
       "    </tr>\n",
       "    <tr>\n",
       "      <th>2772</th>\n",
       "      <td>https://ua-energy.org/uk/posts/prokuratura-ne-...</td>\n",
       "      <td>Прокуратура не побачила порушень в діях судді ...</td>\n",
       "      <td>NaN</td>\n",
       "      <td>NaN</td>\n",
       "      <td>Прокуратура не побачила порушень у діях судді,...</td>\n",
       "      <td>05 червня 2018, 12:37</td>\n",
       "    </tr>\n",
       "  </tbody>\n",
       "</table>\n",
       "</div>"
      ],
      "text/plain": [
       "                                                   Link  \\\n",
       "2769  https://ua-energy.org/uk/posts/prokuratura-ne-...   \n",
       "2770  https://ua-energy.org/uk/posts/prokuratura-ne-...   \n",
       "2771  https://ua-energy.org/uk/posts/prokuratura-ne-...   \n",
       "2772  https://ua-energy.org/uk/posts/prokuratura-ne-...   \n",
       "\n",
       "                                                   Text Tags Linked_Articles  \\\n",
       "2769  Прокуратура не побачила порушень в діях судді ...  NaN             NaN   \n",
       "2770  Прокуратура не побачила порушень в діях судді ...  NaN             NaN   \n",
       "2771  Прокуратура не побачила порушень в діях судді ...  NaN             NaN   \n",
       "2772  Прокуратура не побачила порушень в діях судді ...  NaN             NaN   \n",
       "\n",
       "                                                  Title                   Date  \n",
       "2769  Прокуратура не побачила порушень у діях судді,...  05 червня 2018, 12:37  \n",
       "2770  Прокуратура не побачила порушень у діях судді,...  05 червня 2018, 12:37  \n",
       "2771  Прокуратура не побачила порушень у діях судді,...  05 червня 2018, 12:37  \n",
       "2772  Прокуратура не побачила порушень у діях судді,...  05 червня 2018, 12:37  "
      ]
     },
     "metadata": {},
     "output_type": "display_data"
    }
   ],
   "source": [
    "#Exploring duplicates\n",
    "display(df_articles.loc[df_articles.duplicated(keep = False)])"
   ]
  },
  {
   "cell_type": "code",
   "execution_count": 16,
   "metadata": {},
   "outputs": [],
   "source": [
    "#Arranging the columns in the desired order\n",
    "to_order = ['Link', 'Title', 'Date', 'Text', 'Tags', 'Linked_Articles']"
   ]
  },
  {
   "cell_type": "code",
   "execution_count": 17,
   "metadata": {},
   "outputs": [
    {
     "name": "stdout",
     "output_type": "stream",
     "text": [
      "Shape before:(6607, 6)\n",
      "Shape after:(6604, 6)\n"
     ]
    },
    {
     "data": {
      "text/html": [
       "<div>\n",
       "<style scoped>\n",
       "    .dataframe tbody tr th:only-of-type {\n",
       "        vertical-align: middle;\n",
       "    }\n",
       "\n",
       "    .dataframe tbody tr th {\n",
       "        vertical-align: top;\n",
       "    }\n",
       "\n",
       "    .dataframe thead th {\n",
       "        text-align: right;\n",
       "    }\n",
       "</style>\n",
       "<table border=\"1\" class=\"dataframe\">\n",
       "  <thead>\n",
       "    <tr style=\"text-align: right;\">\n",
       "      <th></th>\n",
       "      <th>Link</th>\n",
       "      <th>Title</th>\n",
       "      <th>Date</th>\n",
       "      <th>Text</th>\n",
       "      <th>Tags</th>\n",
       "      <th>Linked_Articles</th>\n",
       "    </tr>\n",
       "  </thead>\n",
       "  <tbody>\n",
       "    <tr>\n",
       "      <th>0</th>\n",
       "      <td>https://ua-energy.org/uk/posts/yakshcho-bude-p...</td>\n",
       "      <td>Якщо буде попит з боку Європи чи Китаю, РФ гот...</td>\n",
       "      <td>23 лютого 2017, 07:11</td>\n",
       "      <td>Потенциал действующих газовых месторождений Р...</td>\n",
       "      <td>NaN</td>\n",
       "      <td>NaN</td>\n",
       "    </tr>\n",
       "    <tr>\n",
       "      <th>1</th>\n",
       "      <td>https://ua-energy.org/uk/posts/nasalyk-u-chetv...</td>\n",
       "      <td>Насалик у четвер в Кабміні прозвітує про стан ...</td>\n",
       "      <td>13 березня 2017, 19:38</td>\n",
       "      <td>Кабінет міністрів України у четвер заслухає зв...</td>\n",
       "      <td>NaN</td>\n",
       "      <td>NaN</td>\n",
       "    </tr>\n",
       "    <tr>\n",
       "      <th>2</th>\n",
       "      <td>https://ua-energy.org/uk/posts/ukraina-prypyny...</td>\n",
       "      <td>Україна припинила відбір газу з підземних сховищ</td>\n",
       "      <td>13 березня 2017, 13:09</td>\n",
       "      <td>Україна припинила відбір газу з підземних схов...</td>\n",
       "      <td>NaN</td>\n",
       "      <td>NaN</td>\n",
       "    </tr>\n",
       "    <tr>\n",
       "      <th>3</th>\n",
       "      <td>https://ua-energy.org/uk/posts/budivnytstvo-ka...</td>\n",
       "      <td>Будівництво Каховської ГЕС-2 коштуватиме 13,5 ...</td>\n",
       "      <td>13 березня 2017, 12:43</td>\n",
       "      <td>Уряд схвалив техніко-економічне обґрунтування ...</td>\n",
       "      <td>NaN</td>\n",
       "      <td>NaN</td>\n",
       "    </tr>\n",
       "    <tr>\n",
       "      <th>4</th>\n",
       "      <td>https://ua-energy.org/uk/posts/brent-dorozhcha...</td>\n",
       "      <td>Brent дорожчає на тлі бурової активності в США</td>\n",
       "      <td>13 березня 2017, 12:33</td>\n",
       "      <td>Ціни на нафту знизилися до тримісячного мініму...</td>\n",
       "      <td>NaN</td>\n",
       "      <td>NaN</td>\n",
       "    </tr>\n",
       "  </tbody>\n",
       "</table>\n",
       "</div>"
      ],
      "text/plain": [
       "                                                Link  \\\n",
       "0  https://ua-energy.org/uk/posts/yakshcho-bude-p...   \n",
       "1  https://ua-energy.org/uk/posts/nasalyk-u-chetv...   \n",
       "2  https://ua-energy.org/uk/posts/ukraina-prypyny...   \n",
       "3  https://ua-energy.org/uk/posts/budivnytstvo-ka...   \n",
       "4  https://ua-energy.org/uk/posts/brent-dorozhcha...   \n",
       "\n",
       "                                               Title                    Date  \\\n",
       "0  Якщо буде попит з боку Європи чи Китаю, РФ гот...   23 лютого 2017, 07:11   \n",
       "1  Насалик у четвер в Кабміні прозвітує про стан ...  13 березня 2017, 19:38   \n",
       "2   Україна припинила відбір газу з підземних сховищ  13 березня 2017, 13:09   \n",
       "3  Будівництво Каховської ГЕС-2 коштуватиме 13,5 ...  13 березня 2017, 12:43   \n",
       "4     Brent дорожчає на тлі бурової активності в США  13 березня 2017, 12:33   \n",
       "\n",
       "                                                Text Tags Linked_Articles  \n",
       "0   Потенциал действующих газовых месторождений Р...  NaN             NaN  \n",
       "1  Кабінет міністрів України у четвер заслухає зв...  NaN             NaN  \n",
       "2  Україна припинила відбір газу з підземних схов...  NaN             NaN  \n",
       "3  Уряд схвалив техніко-економічне обґрунтування ...  NaN             NaN  \n",
       "4  Ціни на нафту знизилися до тримісячного мініму...  NaN             NaN  "
      ]
     },
     "metadata": {},
     "output_type": "display_data"
    }
   ],
   "source": [
    "#Dropping duplicated rows and reordering the columns\n",
    "print(f\"Shape before:{df_articles.shape}\")\n",
    "df_articles.drop_duplicates(inplace = True)\n",
    "df_articles = df_articles.reindex(to_order, axis = 1)\n",
    "print(f\"Shape after:{df_articles.shape}\")\n",
    "display(df_articles.head())"
   ]
  },
  {
   "cell_type": "code",
   "execution_count": 18,
   "metadata": {},
   "outputs": [
    {
     "name": "stdout",
     "output_type": "stream",
     "text": [
      "Saved!\n"
     ]
    }
   ],
   "source": [
    "#Saving the final dataset to an Excel file\n",
    "df_articles.to_excel(\"UAEnergy_Out3_MergedArticles.xlsx\", index = False)\n",
    "print(\"Saved!\")"
   ]
  },
  {
   "cell_type": "markdown",
   "metadata": {},
   "source": [
    "## 2. Data Analysis"
   ]
  },
  {
   "cell_type": "markdown",
   "metadata": {},
   "source": [
    "<font size = 3>\n",
    "    In this section, I perform exploratory data analysis to answer the following questions:\n",
    "    <ol>\n",
    "        <li>how frequently are articles published?</li>\n",
    "        <li>which tags are most common on the website?</li>\n",
    "        <li>how often are some key organisations and countries mentioned in texts?</li>\n",
    "        <li>who are the most frequently mentioned persons on the wesite?</li>\n",
    "    </ol>\n",
    "</font>"
   ]
  },
  {
   "cell_type": "code",
   "execution_count": 2,
   "metadata": {},
   "outputs": [
    {
     "name": "stdout",
     "output_type": "stream",
     "text": [
      "Shape:(6604, 6)\n"
     ]
    },
    {
     "data": {
      "text/html": [
       "<div>\n",
       "<style scoped>\n",
       "    .dataframe tbody tr th:only-of-type {\n",
       "        vertical-align: middle;\n",
       "    }\n",
       "\n",
       "    .dataframe tbody tr th {\n",
       "        vertical-align: top;\n",
       "    }\n",
       "\n",
       "    .dataframe thead th {\n",
       "        text-align: right;\n",
       "    }\n",
       "</style>\n",
       "<table border=\"1\" class=\"dataframe\">\n",
       "  <thead>\n",
       "    <tr style=\"text-align: right;\">\n",
       "      <th></th>\n",
       "      <th>Link</th>\n",
       "      <th>Title</th>\n",
       "      <th>Date</th>\n",
       "      <th>Text</th>\n",
       "      <th>Tags</th>\n",
       "      <th>Linked_Articles</th>\n",
       "    </tr>\n",
       "  </thead>\n",
       "  <tbody>\n",
       "    <tr>\n",
       "      <th>0</th>\n",
       "      <td>https://ua-energy.org/uk/posts/yakshcho-bude-p...</td>\n",
       "      <td>Якщо буде попит з боку Європи чи Китаю, РФ гот...</td>\n",
       "      <td>23 лютого 2017, 07:11</td>\n",
       "      <td>Потенциал действующих газовых месторождений Р...</td>\n",
       "      <td>NaN</td>\n",
       "      <td>NaN</td>\n",
       "    </tr>\n",
       "    <tr>\n",
       "      <th>1</th>\n",
       "      <td>https://ua-energy.org/uk/posts/nasalyk-u-chetv...</td>\n",
       "      <td>Насалик у четвер в Кабміні прозвітує про стан ...</td>\n",
       "      <td>13 березня 2017, 19:38</td>\n",
       "      <td>Кабінет міністрів України у четвер заслухає зв...</td>\n",
       "      <td>NaN</td>\n",
       "      <td>NaN</td>\n",
       "    </tr>\n",
       "    <tr>\n",
       "      <th>2</th>\n",
       "      <td>https://ua-energy.org/uk/posts/ukraina-prypyny...</td>\n",
       "      <td>Україна припинила відбір газу з підземних сховищ</td>\n",
       "      <td>13 березня 2017, 13:09</td>\n",
       "      <td>Україна припинила відбір газу з підземних схов...</td>\n",
       "      <td>NaN</td>\n",
       "      <td>NaN</td>\n",
       "    </tr>\n",
       "    <tr>\n",
       "      <th>3</th>\n",
       "      <td>https://ua-energy.org/uk/posts/budivnytstvo-ka...</td>\n",
       "      <td>Будівництво Каховської ГЕС-2 коштуватиме 13,5 ...</td>\n",
       "      <td>13 березня 2017, 12:43</td>\n",
       "      <td>Уряд схвалив техніко-економічне обґрунтування ...</td>\n",
       "      <td>NaN</td>\n",
       "      <td>NaN</td>\n",
       "    </tr>\n",
       "    <tr>\n",
       "      <th>4</th>\n",
       "      <td>https://ua-energy.org/uk/posts/brent-dorozhcha...</td>\n",
       "      <td>Brent дорожчає на тлі бурової активності в США</td>\n",
       "      <td>13 березня 2017, 12:33</td>\n",
       "      <td>Ціни на нафту знизилися до тримісячного мініму...</td>\n",
       "      <td>NaN</td>\n",
       "      <td>NaN</td>\n",
       "    </tr>\n",
       "  </tbody>\n",
       "</table>\n",
       "</div>"
      ],
      "text/plain": [
       "                                                Link  \\\n",
       "0  https://ua-energy.org/uk/posts/yakshcho-bude-p...   \n",
       "1  https://ua-energy.org/uk/posts/nasalyk-u-chetv...   \n",
       "2  https://ua-energy.org/uk/posts/ukraina-prypyny...   \n",
       "3  https://ua-energy.org/uk/posts/budivnytstvo-ka...   \n",
       "4  https://ua-energy.org/uk/posts/brent-dorozhcha...   \n",
       "\n",
       "                                               Title                    Date  \\\n",
       "0  Якщо буде попит з боку Європи чи Китаю, РФ гот...   23 лютого 2017, 07:11   \n",
       "1  Насалик у четвер в Кабміні прозвітує про стан ...  13 березня 2017, 19:38   \n",
       "2   Україна припинила відбір газу з підземних сховищ  13 березня 2017, 13:09   \n",
       "3  Будівництво Каховської ГЕС-2 коштуватиме 13,5 ...  13 березня 2017, 12:43   \n",
       "4     Brent дорожчає на тлі бурової активності в США  13 березня 2017, 12:33   \n",
       "\n",
       "                                                Text Tags Linked_Articles  \n",
       "0   Потенциал действующих газовых месторождений Р...  NaN             NaN  \n",
       "1  Кабінет міністрів України у четвер заслухає зв...  NaN             NaN  \n",
       "2  Україна припинила відбір газу з підземних схов...  NaN             NaN  \n",
       "3  Уряд схвалив техніко-економічне обґрунтування ...  NaN             NaN  \n",
       "4  Ціни на нафту знизилися до тримісячного мініму...  NaN             NaN  "
      ]
     },
     "metadata": {},
     "output_type": "display_data"
    }
   ],
   "source": [
    "#Reading the full dataset\n",
    "df_articles = pd.read_excel(\"UAEnergy_Out3_MergedArticles.xlsx\")\n",
    "print(f\"Shape:{df_articles.shape}\")\n",
    "display(df_articles.head())"
   ]
  },
  {
   "cell_type": "code",
   "execution_count": 3,
   "metadata": {},
   "outputs": [],
   "source": [
    "#Converting strings to objects and date string to datetime\n",
    "df_articles[\"Tags\"] = df_articles[\"Tags\"].fillna('1').apply(eval).replace({1:None})\n",
    "df_articles[\"Linked_Articles\"] = df_articles[\"Linked_Articles\"].fillna('1').apply(eval).replace({1:None})\n",
    "df_articles[\"Date\"] = df_articles[\"Date\"].apply(energy.replace_months)"
   ]
  },
  {
   "cell_type": "code",
   "execution_count": 4,
   "metadata": {},
   "outputs": [
    {
     "name": "stdout",
     "output_type": "stream",
     "text": [
      "<class 'pandas.core.frame.DataFrame'>\n",
      "RangeIndex: 6604 entries, 0 to 6603\n",
      "Data columns (total 6 columns):\n",
      " #   Column           Non-Null Count  Dtype         \n",
      "---  ------           --------------  -----         \n",
      " 0   Link             6604 non-null   object        \n",
      " 1   Title            6604 non-null   object        \n",
      " 2   Date             6604 non-null   datetime64[ns]\n",
      " 3   Text             6603 non-null   object        \n",
      " 4   Tags             5192 non-null   object        \n",
      " 5   Linked_Articles  1553 non-null   object        \n",
      "dtypes: datetime64[ns](1), object(5)\n",
      "memory usage: 309.7+ KB\n"
     ]
    }
   ],
   "source": [
    "#Some descriptives of the dataset\n",
    "df_articles.info()"
   ]
  },
  {
   "cell_type": "code",
   "execution_count": 5,
   "metadata": {},
   "outputs": [
    {
     "data": {
      "text/plain": [
       "Link                  0\n",
       "Title                 0\n",
       "Date                  0\n",
       "Text                  1\n",
       "Tags               1412\n",
       "Linked_Articles    5051\n",
       "dtype: int64"
      ]
     },
     "metadata": {},
     "output_type": "display_data"
    }
   ],
   "source": [
    "#There are some articles with no tags and many articles with no links to other articles\n",
    "display(df_articles.isna().sum())"
   ]
  },
  {
   "cell_type": "code",
   "execution_count": 6,
   "metadata": {},
   "outputs": [
    {
     "name": "stdout",
     "output_type": "stream",
     "text": [
      "Shape before:(6604, 6)\n",
      "Shape after:(6603, 6)\n"
     ]
    }
   ],
   "source": [
    "#Removing one link with no text\n",
    "print(f\"Shape before:{df_articles.shape}\")\n",
    "df_articles.dropna(subset=[\"Text\"], inplace = True)\n",
    "print(f\"Shape after:{df_articles.shape}\")"
   ]
  },
  {
   "cell_type": "code",
   "execution_count": 7,
   "metadata": {},
   "outputs": [
    {
     "name": "stdout",
     "output_type": "stream",
     "text": [
      "Shape:(41, 2)\n"
     ]
    },
    {
     "data": {
      "text/html": [
       "<div>\n",
       "<style scoped>\n",
       "    .dataframe tbody tr th:only-of-type {\n",
       "        vertical-align: middle;\n",
       "    }\n",
       "\n",
       "    .dataframe tbody tr th {\n",
       "        vertical-align: top;\n",
       "    }\n",
       "\n",
       "    .dataframe thead th {\n",
       "        text-align: right;\n",
       "    }\n",
       "</style>\n",
       "<table border=\"1\" class=\"dataframe\">\n",
       "  <thead>\n",
       "    <tr style=\"text-align: right;\">\n",
       "      <th></th>\n",
       "      <th>Date</th>\n",
       "      <th>Count</th>\n",
       "    </tr>\n",
       "  </thead>\n",
       "  <tbody>\n",
       "    <tr>\n",
       "      <th>0</th>\n",
       "      <td>2017-02-28</td>\n",
       "      <td>1</td>\n",
       "    </tr>\n",
       "    <tr>\n",
       "      <th>1</th>\n",
       "      <td>2017-03-31</td>\n",
       "      <td>6</td>\n",
       "    </tr>\n",
       "    <tr>\n",
       "      <th>2</th>\n",
       "      <td>2017-04-30</td>\n",
       "      <td>49</td>\n",
       "    </tr>\n",
       "    <tr>\n",
       "      <th>3</th>\n",
       "      <td>2017-05-31</td>\n",
       "      <td>134</td>\n",
       "    </tr>\n",
       "    <tr>\n",
       "      <th>4</th>\n",
       "      <td>2017-06-30</td>\n",
       "      <td>145</td>\n",
       "    </tr>\n",
       "  </tbody>\n",
       "</table>\n",
       "</div>"
      ],
      "text/plain": [
       "        Date  Count\n",
       "0 2017-02-28      1\n",
       "1 2017-03-31      6\n",
       "2 2017-04-30     49\n",
       "3 2017-05-31    134\n",
       "4 2017-06-30    145"
      ]
     },
     "metadata": {},
     "output_type": "display_data"
    }
   ],
   "source": [
    "#Calculating the number of articles per month\n",
    "df_temp = df_articles.set_index(\"Date\").groupby(pd.Grouper(freq = \"M\")).agg(Count = (\"Link\", \"count\"))\n",
    "df_temp.reset_index(inplace = True)\n",
    "print(f\"Shape:{df_temp.shape}\")\n",
    "display(df_temp.head())"
   ]
  },
  {
   "cell_type": "code",
   "execution_count": 8,
   "metadata": {},
   "outputs": [
    {
     "data": {
      "text/html": [
       "\n",
       "<div id=\"altair-viz-f40bf3cccd9b4575888ee924e7faf441\"></div>\n",
       "<script type=\"text/javascript\">\n",
       "  (function(spec, embedOpt){\n",
       "    let outputDiv = document.currentScript.previousElementSibling;\n",
       "    if (outputDiv.id !== \"altair-viz-f40bf3cccd9b4575888ee924e7faf441\") {\n",
       "      outputDiv = document.getElementById(\"altair-viz-f40bf3cccd9b4575888ee924e7faf441\");\n",
       "    }\n",
       "    const paths = {\n",
       "      \"vega\": \"https://cdn.jsdelivr.net/npm//vega@5?noext\",\n",
       "      \"vega-lib\": \"https://cdn.jsdelivr.net/npm//vega-lib?noext\",\n",
       "      \"vega-lite\": \"https://cdn.jsdelivr.net/npm//vega-lite@4.8.1?noext\",\n",
       "      \"vega-embed\": \"https://cdn.jsdelivr.net/npm//vega-embed@6?noext\",\n",
       "    };\n",
       "\n",
       "    function loadScript(lib) {\n",
       "      return new Promise(function(resolve, reject) {\n",
       "        var s = document.createElement('script');\n",
       "        s.src = paths[lib];\n",
       "        s.async = true;\n",
       "        s.onload = () => resolve(paths[lib]);\n",
       "        s.onerror = () => reject(`Error loading script: ${paths[lib]}`);\n",
       "        document.getElementsByTagName(\"head\")[0].appendChild(s);\n",
       "      });\n",
       "    }\n",
       "\n",
       "    function showError(err) {\n",
       "      outputDiv.innerHTML = `<div class=\"error\" style=\"color:red;\">${err}</div>`;\n",
       "      throw err;\n",
       "    }\n",
       "\n",
       "    function displayChart(vegaEmbed) {\n",
       "      vegaEmbed(outputDiv, spec, embedOpt)\n",
       "        .catch(err => showError(`Javascript Error: ${err.message}<br>This usually means there's a typo in your chart specification. See the javascript console for the full traceback.`));\n",
       "    }\n",
       "\n",
       "    if(typeof define === \"function\" && define.amd) {\n",
       "      requirejs.config({paths});\n",
       "      require([\"vega-embed\"], displayChart, err => showError(`Error loading script: ${err.message}`));\n",
       "    } else if (typeof vegaEmbed === \"function\") {\n",
       "      displayChart(vegaEmbed);\n",
       "    } else {\n",
       "      loadScript(\"vega\")\n",
       "        .then(() => loadScript(\"vega-lite\"))\n",
       "        .then(() => loadScript(\"vega-embed\"))\n",
       "        .catch(showError)\n",
       "        .then(() => displayChart(vegaEmbed));\n",
       "    }\n",
       "  })({\"config\": {\"view\": {\"continuousWidth\": 400, \"continuousHeight\": 300}}, \"data\": {\"name\": \"data-f50df3590556269c9c1f16e99999d94a\"}, \"mark\": {\"type\": \"line\", \"point\": true, \"size\": 2.5, \"strokeDash\": [1, 2]}, \"encoding\": {\"tooltip\": [{\"type\": \"temporal\", \"field\": \"Date\"}, {\"type\": \"quantitative\", \"field\": \"Count\"}], \"x\": {\"type\": \"temporal\", \"field\": \"Date\"}, \"y\": {\"type\": \"quantitative\", \"field\": \"Count\"}}, \"selection\": {\"selector001\": {\"type\": \"interval\", \"bind\": \"scales\", \"encodings\": [\"x\", \"y\"]}}, \"title\": {\"text\": \"Figure 1. Monthly Count of Articles on UA-Energy.org\", \"subtitle\": \"Counts Based on Regex Matches\"}, \"width\": 750, \"$schema\": \"https://vega.github.io/schema/vega-lite/v4.8.1.json\", \"datasets\": {\"data-f50df3590556269c9c1f16e99999d94a\": [{\"Date\": \"2017-02-28T00:00:00\", \"Count\": 1}, {\"Date\": \"2017-03-31T00:00:00\", \"Count\": 6}, {\"Date\": \"2017-04-30T00:00:00\", \"Count\": 49}, {\"Date\": \"2017-05-31T00:00:00\", \"Count\": 134}, {\"Date\": \"2017-06-30T00:00:00\", \"Count\": 145}, {\"Date\": \"2017-07-31T00:00:00\", \"Count\": 257}, {\"Date\": \"2017-08-31T00:00:00\", \"Count\": 166}, {\"Date\": \"2017-09-30T00:00:00\", \"Count\": 244}, {\"Date\": \"2017-10-31T00:00:00\", \"Count\": 235}, {\"Date\": \"2017-11-30T00:00:00\", \"Count\": 248}, {\"Date\": \"2017-12-31T00:00:00\", \"Count\": 200}, {\"Date\": \"2018-01-31T00:00:00\", \"Count\": 213}, {\"Date\": \"2018-02-28T00:00:00\", \"Count\": 218}, {\"Date\": \"2018-03-31T00:00:00\", \"Count\": 244}, {\"Date\": \"2018-04-30T00:00:00\", \"Count\": 184}, {\"Date\": \"2018-05-31T00:00:00\", \"Count\": 194}, {\"Date\": \"2018-06-30T00:00:00\", \"Count\": 158}, {\"Date\": \"2018-07-31T00:00:00\", \"Count\": 92}, {\"Date\": \"2018-08-31T00:00:00\", \"Count\": 227}, {\"Date\": \"2018-09-30T00:00:00\", \"Count\": 185}, {\"Date\": \"2018-10-31T00:00:00\", \"Count\": 218}, {\"Date\": \"2018-11-30T00:00:00\", \"Count\": 172}, {\"Date\": \"2018-12-31T00:00:00\", \"Count\": 128}, {\"Date\": \"2019-01-31T00:00:00\", \"Count\": 105}, {\"Date\": \"2019-02-28T00:00:00\", \"Count\": 61}, {\"Date\": \"2019-03-31T00:00:00\", \"Count\": 43}, {\"Date\": \"2019-04-30T00:00:00\", \"Count\": 108}, {\"Date\": \"2019-05-31T00:00:00\", \"Count\": 99}, {\"Date\": \"2019-06-30T00:00:00\", \"Count\": 73}, {\"Date\": \"2019-07-31T00:00:00\", \"Count\": 144}, {\"Date\": \"2019-08-31T00:00:00\", \"Count\": 130}, {\"Date\": \"2019-09-30T00:00:00\", \"Count\": 166}, {\"Date\": \"2019-10-31T00:00:00\", \"Count\": 229}, {\"Date\": \"2019-11-30T00:00:00\", \"Count\": 195}, {\"Date\": \"2019-12-31T00:00:00\", \"Count\": 172}, {\"Date\": \"2020-01-31T00:00:00\", \"Count\": 123}, {\"Date\": \"2020-02-29T00:00:00\", \"Count\": 197}, {\"Date\": \"2020-03-31T00:00:00\", \"Count\": 270}, {\"Date\": \"2020-04-30T00:00:00\", \"Count\": 276}, {\"Date\": \"2020-05-31T00:00:00\", \"Count\": 197}, {\"Date\": \"2020-06-30T00:00:00\", \"Count\": 97}]}}, {\"mode\": \"vega-lite\"});\n",
       "</script>"
      ],
      "text/plain": [
       "alt.Chart(...)"
      ]
     },
     "execution_count": 8,
     "metadata": {},
     "output_type": "execute_result"
    }
   ],
   "source": [
    "chart1 = alt.Chart(df_temp).mark_line(point=True, size =2.5, strokeDash=[1,2]).encode(\n",
    "    x=alt.X(\"Date\"),\n",
    "    y=\"Count\",\n",
    "    tooltip=[\"Date\", \"Count\"]\n",
    ").properties(\n",
    "    width = 750,\n",
    "    #height = 450,\n",
    "    title = {\"text\":\"Figure 1. Monthly Count of Articles on UA-Energy.org\",\n",
    "             \"subtitle\":f\"Counts Based on Regex Matches\"}\n",
    "\n",
    ").interactive()\n",
    "chart1"
   ]
  },
  {
   "cell_type": "code",
   "execution_count": 9,
   "metadata": {},
   "outputs": [
    {
     "name": "stdout",
     "output_type": "stream",
     "text": [
      "Shape before:(6603, 6)\n",
      "Shape after:(6596, 6)\n"
     ]
    },
    {
     "data": {
      "text/html": [
       "<div>\n",
       "<style scoped>\n",
       "    .dataframe tbody tr th:only-of-type {\n",
       "        vertical-align: middle;\n",
       "    }\n",
       "\n",
       "    .dataframe tbody tr th {\n",
       "        vertical-align: top;\n",
       "    }\n",
       "\n",
       "    .dataframe thead th {\n",
       "        text-align: right;\n",
       "    }\n",
       "</style>\n",
       "<table border=\"1\" class=\"dataframe\">\n",
       "  <thead>\n",
       "    <tr style=\"text-align: right;\">\n",
       "      <th></th>\n",
       "      <th>Link</th>\n",
       "      <th>Title</th>\n",
       "      <th>Date</th>\n",
       "      <th>Text</th>\n",
       "      <th>Tags</th>\n",
       "      <th>Linked_Articles</th>\n",
       "    </tr>\n",
       "  </thead>\n",
       "  <tbody>\n",
       "    <tr>\n",
       "      <th>7</th>\n",
       "      <td>https://ua-energy.org/uk/posts/u-kharkivskii-o...</td>\n",
       "      <td>У Харківській області виявили велике газове ро...</td>\n",
       "      <td>2017-04-12 12:10:00</td>\n",
       "      <td>У Харківській області знайдено родовище газу і...</td>\n",
       "      <td>{'/uk/tags/ukrhazvydoubvannia': 'Укргазвидоубв...</td>\n",
       "      <td>None</td>\n",
       "    </tr>\n",
       "    <tr>\n",
       "      <th>8</th>\n",
       "      <td>https://ua-energy.org/uk/posts/hazprom-pidpysa...</td>\n",
       "      <td>\"Газпром\" підписав із словацькою Eustream на т...</td>\n",
       "      <td>2017-04-12 11:52:00</td>\n",
       "      <td>\"Газпром експорт\" уклав зі словацькою Eustream...</td>\n",
       "      <td>{'/uk/tags/hazprom': 'Газпром', '/uk/tags/haz'...</td>\n",
       "      <td>None</td>\n",
       "    </tr>\n",
       "    <tr>\n",
       "      <th>9</th>\n",
       "      <td>https://ua-energy.org/uk/posts/hazprom-ne-zmih...</td>\n",
       "      <td>\"Газпром\" не зміг відновити судовий розгляд з ...</td>\n",
       "      <td>2017-04-13 15:18:00</td>\n",
       "      <td>«Газпрому» не удалось возобновить судебное раз...</td>\n",
       "      <td>{'/uk/tags/hazprom': 'Газпром', '/uk/tags/lytv...</td>\n",
       "      <td>None</td>\n",
       "    </tr>\n",
       "    <tr>\n",
       "      <th>10</th>\n",
       "      <td>https://ua-energy.org/uk/posts/sud-vidpustyv-d...</td>\n",
       "      <td>Суд відпустив другого фігуранта Сергія Перелом...</td>\n",
       "      <td>2017-04-24 17:45:00</td>\n",
       "      <td>Солом'янський районний суд Києва відпустив пер...</td>\n",
       "      <td>{'/uk/tags/pereloma': 'Перелома', '/uk/tags/ma...</td>\n",
       "      <td>None</td>\n",
       "    </tr>\n",
       "    <tr>\n",
       "      <th>11</th>\n",
       "      <td>https://ua-energy.org/uk/posts/nabu-hotuie-spr...</td>\n",
       "      <td>НАБУ готує справу щодо “Енергоатому” для перед...</td>\n",
       "      <td>2017-04-24 17:42:00</td>\n",
       "      <td>Національне антикорупційне бюро готує справу щ...</td>\n",
       "      <td>{'/uk/tags/enerhoatom': 'Енергоатом', '/uk/tag...</td>\n",
       "      <td>None</td>\n",
       "    </tr>\n",
       "  </tbody>\n",
       "</table>\n",
       "</div>"
      ],
      "text/plain": [
       "                                                 Link  \\\n",
       "7   https://ua-energy.org/uk/posts/u-kharkivskii-o...   \n",
       "8   https://ua-energy.org/uk/posts/hazprom-pidpysa...   \n",
       "9   https://ua-energy.org/uk/posts/hazprom-ne-zmih...   \n",
       "10  https://ua-energy.org/uk/posts/sud-vidpustyv-d...   \n",
       "11  https://ua-energy.org/uk/posts/nabu-hotuie-spr...   \n",
       "\n",
       "                                                Title                Date  \\\n",
       "7   У Харківській області виявили велике газове ро... 2017-04-12 12:10:00   \n",
       "8   \"Газпром\" підписав із словацькою Eustream на т... 2017-04-12 11:52:00   \n",
       "9   \"Газпром\" не зміг відновити судовий розгляд з ... 2017-04-13 15:18:00   \n",
       "10  Суд відпустив другого фігуранта Сергія Перелом... 2017-04-24 17:45:00   \n",
       "11  НАБУ готує справу щодо “Енергоатому” для перед... 2017-04-24 17:42:00   \n",
       "\n",
       "                                                 Text  \\\n",
       "7   У Харківській області знайдено родовище газу і...   \n",
       "8   \"Газпром експорт\" уклав зі словацькою Eustream...   \n",
       "9   «Газпрому» не удалось возобновить судебное раз...   \n",
       "10  Солом'янський районний суд Києва відпустив пер...   \n",
       "11  Національне антикорупційне бюро готує справу щ...   \n",
       "\n",
       "                                                 Tags Linked_Articles  \n",
       "7   {'/uk/tags/ukrhazvydoubvannia': 'Укргазвидоубв...            None  \n",
       "8   {'/uk/tags/hazprom': 'Газпром', '/uk/tags/haz'...            None  \n",
       "9   {'/uk/tags/hazprom': 'Газпром', '/uk/tags/lytv...            None  \n",
       "10  {'/uk/tags/pereloma': 'Перелома', '/uk/tags/ma...            None  \n",
       "11  {'/uk/tags/enerhoatom': 'Енергоатом', '/uk/tag...            None  "
      ]
     },
     "metadata": {},
     "output_type": "display_data"
    }
   ],
   "source": [
    "#Keeping only articles after April 1, 2017\n",
    "print(f\"Shape before:{df_articles.shape}\")\n",
    "df_articles = df_articles[df_articles['Date'].ge(\"2017-04-01\")]\n",
    "print(f\"Shape after:{df_articles.shape}\")\n",
    "display(df_articles.head())"
   ]
  },
  {
   "cell_type": "markdown",
   "metadata": {},
   "source": [
    "### 2.1 Exploring tags"
   ]
  },
  {
   "cell_type": "markdown",
   "metadata": {},
   "source": [
    "#### 2.1.1 Top 10 tags "
   ]
  },
  {
   "cell_type": "code",
   "execution_count": 10,
   "metadata": {},
   "outputs": [
    {
     "name": "stdout",
     "output_type": "stream",
     "text": [
      "Shape:(5190, 2)\n",
      "Shape after:(14465, 2)\n"
     ]
    },
    {
     "data": {
      "text/html": [
       "<div>\n",
       "<style scoped>\n",
       "    .dataframe tbody tr th:only-of-type {\n",
       "        vertical-align: middle;\n",
       "    }\n",
       "\n",
       "    .dataframe tbody tr th {\n",
       "        vertical-align: top;\n",
       "    }\n",
       "\n",
       "    .dataframe thead th {\n",
       "        text-align: right;\n",
       "    }\n",
       "</style>\n",
       "<table border=\"1\" class=\"dataframe\">\n",
       "  <thead>\n",
       "    <tr style=\"text-align: right;\">\n",
       "      <th></th>\n",
       "      <th>Link</th>\n",
       "      <th>Tags</th>\n",
       "    </tr>\n",
       "  </thead>\n",
       "  <tbody>\n",
       "    <tr>\n",
       "      <th>7</th>\n",
       "      <td>https://ua-energy.org/uk/posts/u-kharkivskii-o...</td>\n",
       "      <td>Укргазвидоубвання</td>\n",
       "    </tr>\n",
       "    <tr>\n",
       "      <th>7</th>\n",
       "      <td>https://ua-energy.org/uk/posts/u-kharkivskii-o...</td>\n",
       "      <td>газ</td>\n",
       "    </tr>\n",
       "    <tr>\n",
       "      <th>8</th>\n",
       "      <td>https://ua-energy.org/uk/posts/hazprom-pidpysa...</td>\n",
       "      <td>Газпром</td>\n",
       "    </tr>\n",
       "    <tr>\n",
       "      <th>8</th>\n",
       "      <td>https://ua-energy.org/uk/posts/hazprom-pidpysa...</td>\n",
       "      <td>газ</td>\n",
       "    </tr>\n",
       "    <tr>\n",
       "      <th>8</th>\n",
       "      <td>https://ua-energy.org/uk/posts/hazprom-pidpysa...</td>\n",
       "      <td>Eustream</td>\n",
       "    </tr>\n",
       "  </tbody>\n",
       "</table>\n",
       "</div>"
      ],
      "text/plain": [
       "                                                Link               Tags\n",
       "7  https://ua-energy.org/uk/posts/u-kharkivskii-o...  Укргазвидоубвання\n",
       "7  https://ua-energy.org/uk/posts/u-kharkivskii-o...                газ\n",
       "8  https://ua-energy.org/uk/posts/hazprom-pidpysa...            Газпром\n",
       "8  https://ua-energy.org/uk/posts/hazprom-pidpysa...                газ\n",
       "8  https://ua-energy.org/uk/posts/hazprom-pidpysa...           Eustream"
      ]
     },
     "metadata": {},
     "output_type": "display_data"
    }
   ],
   "source": [
    "#Selecting articles with tags\n",
    "df_temp = df_articles[[\"Link\", \"Tags\"]].dropna()\n",
    "print(f\"Shape:{df_temp.shape}\")\n",
    "\n",
    "#Extracting tags\n",
    "df_temp[\"Tags\"] = df_temp[\"Tags\"].apply(lambda x: list(x.values()))\n",
    "df_temp = df_temp.explode(\"Tags\")\n",
    "print(f\"Shape after:{df_temp.shape}\")\n",
    "\n",
    "display(df_temp.head())"
   ]
  },
  {
   "cell_type": "code",
   "execution_count": 11,
   "metadata": {},
   "outputs": [
    {
     "data": {
      "text/plain": [
       "Link    5190\n",
       "Tags    1410\n",
       "dtype: int64"
      ]
     },
     "execution_count": 11,
     "metadata": {},
     "output_type": "execute_result"
    }
   ],
   "source": [
    "#There are about 1.4k unique tags in total\n",
    "df_temp.nunique()"
   ]
  },
  {
   "cell_type": "code",
   "execution_count": 12,
   "metadata": {},
   "outputs": [
    {
     "name": "stdout",
     "output_type": "stream",
     "text": [
      "Shape before:(14465, 2)\n",
      "Shape after:(1410, 2)\n"
     ]
    },
    {
     "data": {
      "text/html": [
       "<div>\n",
       "<style scoped>\n",
       "    .dataframe tbody tr th:only-of-type {\n",
       "        vertical-align: middle;\n",
       "    }\n",
       "\n",
       "    .dataframe tbody tr th {\n",
       "        vertical-align: top;\n",
       "    }\n",
       "\n",
       "    .dataframe thead th {\n",
       "        text-align: right;\n",
       "    }\n",
       "</style>\n",
       "<table border=\"1\" class=\"dataframe\">\n",
       "  <thead>\n",
       "    <tr style=\"text-align: right;\">\n",
       "      <th></th>\n",
       "      <th>Tag</th>\n",
       "      <th>Frequency</th>\n",
       "    </tr>\n",
       "  </thead>\n",
       "  <tbody>\n",
       "    <tr>\n",
       "      <th>851</th>\n",
       "      <td>газ</td>\n",
       "      <td>816</td>\n",
       "    </tr>\n",
       "    <tr>\n",
       "      <th>475</th>\n",
       "      <td>Нафтогаз</td>\n",
       "      <td>704</td>\n",
       "    </tr>\n",
       "    <tr>\n",
       "      <th>465</th>\n",
       "      <td>НКРЕКП</td>\n",
       "      <td>326</td>\n",
       "    </tr>\n",
       "    <tr>\n",
       "      <th>1121</th>\n",
       "      <td>нафта</td>\n",
       "      <td>280</td>\n",
       "    </tr>\n",
       "    <tr>\n",
       "      <th>1345</th>\n",
       "      <td>транзит</td>\n",
       "      <td>267</td>\n",
       "    </tr>\n",
       "  </tbody>\n",
       "</table>\n",
       "</div>"
      ],
      "text/plain": [
       "           Tag  Frequency\n",
       "851        газ        816\n",
       "475   Нафтогаз        704\n",
       "465     НКРЕКП        326\n",
       "1121     нафта        280\n",
       "1345   транзит        267"
      ]
     },
     "metadata": {},
     "output_type": "display_data"
    }
   ],
   "source": [
    "print(f\"Shape before:{df_temp.shape}\")\n",
    "\n",
    "#Aggregating by tag and calculating the number of articles with a given tag\n",
    "df_temp = df_temp.groupby(\"Tags\", as_index = False).count()\n",
    "df_temp.rename({\"Tags\":\"Tag\", \"Link\":\"Frequency\"}, axis = 1, inplace = True)\n",
    "df_temp.sort_values(\"Frequency\", ascending = False, inplace = True)\n",
    "\n",
    "print(f\"Shape after:{df_temp.shape}\")\n",
    "display(df_temp.head())"
   ]
  },
  {
   "cell_type": "code",
   "execution_count": 13,
   "metadata": {},
   "outputs": [],
   "source": [
    "#Saving top 5 tags for future use\n",
    "top_tags = df_temp[\"Tag\"].head().tolist()"
   ]
  },
  {
   "cell_type": "code",
   "execution_count": 14,
   "metadata": {},
   "outputs": [
    {
     "data": {
      "text/html": [
       "\n",
       "<div id=\"altair-viz-9b72a9024ce5405f8790011ea38a8fa0\"></div>\n",
       "<script type=\"text/javascript\">\n",
       "  (function(spec, embedOpt){\n",
       "    let outputDiv = document.currentScript.previousElementSibling;\n",
       "    if (outputDiv.id !== \"altair-viz-9b72a9024ce5405f8790011ea38a8fa0\") {\n",
       "      outputDiv = document.getElementById(\"altair-viz-9b72a9024ce5405f8790011ea38a8fa0\");\n",
       "    }\n",
       "    const paths = {\n",
       "      \"vega\": \"https://cdn.jsdelivr.net/npm//vega@5?noext\",\n",
       "      \"vega-lib\": \"https://cdn.jsdelivr.net/npm//vega-lib?noext\",\n",
       "      \"vega-lite\": \"https://cdn.jsdelivr.net/npm//vega-lite@4.8.1?noext\",\n",
       "      \"vega-embed\": \"https://cdn.jsdelivr.net/npm//vega-embed@6?noext\",\n",
       "    };\n",
       "\n",
       "    function loadScript(lib) {\n",
       "      return new Promise(function(resolve, reject) {\n",
       "        var s = document.createElement('script');\n",
       "        s.src = paths[lib];\n",
       "        s.async = true;\n",
       "        s.onload = () => resolve(paths[lib]);\n",
       "        s.onerror = () => reject(`Error loading script: ${paths[lib]}`);\n",
       "        document.getElementsByTagName(\"head\")[0].appendChild(s);\n",
       "      });\n",
       "    }\n",
       "\n",
       "    function showError(err) {\n",
       "      outputDiv.innerHTML = `<div class=\"error\" style=\"color:red;\">${err}</div>`;\n",
       "      throw err;\n",
       "    }\n",
       "\n",
       "    function displayChart(vegaEmbed) {\n",
       "      vegaEmbed(outputDiv, spec, embedOpt)\n",
       "        .catch(err => showError(`Javascript Error: ${err.message}<br>This usually means there's a typo in your chart specification. See the javascript console for the full traceback.`));\n",
       "    }\n",
       "\n",
       "    if(typeof define === \"function\" && define.amd) {\n",
       "      requirejs.config({paths});\n",
       "      require([\"vega-embed\"], displayChart, err => showError(`Error loading script: ${err.message}`));\n",
       "    } else if (typeof vegaEmbed === \"function\") {\n",
       "      displayChart(vegaEmbed);\n",
       "    } else {\n",
       "      loadScript(\"vega\")\n",
       "        .then(() => loadScript(\"vega-lite\"))\n",
       "        .then(() => loadScript(\"vega-embed\"))\n",
       "        .catch(showError)\n",
       "        .then(() => displayChart(vegaEmbed));\n",
       "    }\n",
       "  })({\"config\": {\"view\": {\"continuousWidth\": 400, \"continuousHeight\": 300}}, \"data\": {\"name\": \"data-5582a1ceca687c894c30d18593cb4358\"}, \"mark\": \"bar\", \"encoding\": {\"tooltip\": [{\"type\": \"nominal\", \"field\": \"Tag\"}, {\"type\": \"quantitative\", \"field\": \"Frequency\"}], \"x\": {\"type\": \"quantitative\", \"field\": \"Frequency\", \"title\": \"Number of Articles\"}, \"y\": {\"type\": \"nominal\", \"field\": \"Tag\", \"sort\": \"-x\"}}, \"height\": 250, \"selection\": {\"selector002\": {\"type\": \"interval\", \"bind\": \"scales\", \"encodings\": [\"x\", \"y\"]}}, \"title\": {\"text\": \"Figure 2. Top 10 Tags by the Number of Articles \", \"subtitle\": \"Based on 5190 Articles with Tags\"}, \"width\": 250, \"$schema\": \"https://vega.github.io/schema/vega-lite/v4.8.1.json\", \"datasets\": {\"data-5582a1ceca687c894c30d18593cb4358\": [{\"Tag\": \"\\u0433\\u0430\\u0437\", \"Frequency\": 816}, {\"Tag\": \"\\u041d\\u0430\\u0444\\u0442\\u043e\\u0433\\u0430\\u0437\", \"Frequency\": 704}, {\"Tag\": \"\\u041d\\u041a\\u0420\\u0415\\u041a\\u041f\", \"Frequency\": 326}, {\"Tag\": \"\\u043d\\u0430\\u0444\\u0442\\u0430\", \"Frequency\": 280}, {\"Tag\": \"\\u0442\\u0440\\u0430\\u043d\\u0437\\u0438\\u0442\", \"Frequency\": 267}, {\"Tag\": \"\\u0413\\u0430\\u0437\\u043f\\u0440\\u043e\\u043c\", \"Frequency\": 263}, {\"Tag\": \"\\u0435\\u043b\\u0435\\u043a\\u0442\\u0440\\u043e\\u0435\\u043d\\u0435\\u0440\\u0433\\u0456\\u044f\", \"Frequency\": 229}, {\"Tag\": \"\\u0423\\u043a\\u0440\\u0435\\u043d\\u0435\\u0440\\u0433\\u043e\", \"Frequency\": 218}, {\"Tag\": \"\\u0432\\u0443\\u0433\\u0456\\u043b\\u043b\\u044f\", \"Frequency\": 218}, {\"Tag\": \"\\u0412\\u0414\\u0415\", \"Frequency\": 200}]}}, {\"mode\": \"vega-lite\"});\n",
       "</script>"
      ],
      "text/plain": [
       "alt.Chart(...)"
      ]
     },
     "execution_count": 14,
     "metadata": {},
     "output_type": "execute_result"
    }
   ],
   "source": [
    "chart2 = alt.Chart(df_temp.head(10)).mark_bar().encode(\n",
    "    x=alt.X(\"Frequency\", title = \"Number of Articles\"),\n",
    "    y=alt.Y(\"Tag\", sort = \"-x\"), #-x for descending order\n",
    "    tooltip=[\"Tag\", \"Frequency\"]\n",
    ").properties(\n",
    "    height = 250,\n",
    "    width = 250,\n",
    "    title = {\"text\":\"Figure 2. Top 10 Tags by the Number of Articles \",\n",
    "             \"subtitle\":f\"Based on {df_articles.Tags.dropna().shape[0]} Articles with Tags\"}\n",
    "\n",
    ").interactive()\n",
    "chart2"
   ]
  },
  {
   "cell_type": "markdown",
   "metadata": {},
   "source": [
    "#### 2.1.2 Top 5 tags in time"
   ]
  },
  {
   "cell_type": "code",
   "execution_count": 15,
   "metadata": {},
   "outputs": [
    {
     "name": "stdout",
     "output_type": "stream",
     "text": [
      "Shape:(5190, 3)\n",
      "Shape after:(14465, 3)\n",
      "Shape after:(2393, 2)\n"
     ]
    },
    {
     "data": {
      "text/html": [
       "<div>\n",
       "<style scoped>\n",
       "    .dataframe tbody tr th:only-of-type {\n",
       "        vertical-align: middle;\n",
       "    }\n",
       "\n",
       "    .dataframe tbody tr th {\n",
       "        vertical-align: top;\n",
       "    }\n",
       "\n",
       "    .dataframe thead th {\n",
       "        text-align: right;\n",
       "    }\n",
       "</style>\n",
       "<table border=\"1\" class=\"dataframe\">\n",
       "  <thead>\n",
       "    <tr style=\"text-align: right;\">\n",
       "      <th></th>\n",
       "      <th>Link</th>\n",
       "      <th>Tags</th>\n",
       "    </tr>\n",
       "    <tr>\n",
       "      <th>Date</th>\n",
       "      <th></th>\n",
       "      <th></th>\n",
       "    </tr>\n",
       "  </thead>\n",
       "  <tbody>\n",
       "    <tr>\n",
       "      <th>2017-04-12 12:10:00</th>\n",
       "      <td>https://ua-energy.org/uk/posts/u-kharkivskii-o...</td>\n",
       "      <td>газ</td>\n",
       "    </tr>\n",
       "    <tr>\n",
       "      <th>2017-04-12 11:52:00</th>\n",
       "      <td>https://ua-energy.org/uk/posts/hazprom-pidpysa...</td>\n",
       "      <td>газ</td>\n",
       "    </tr>\n",
       "    <tr>\n",
       "      <th>2017-04-24 17:19:00</th>\n",
       "      <td>https://ua-energy.org/uk/posts/nahliadovu-radu...</td>\n",
       "      <td>Нафтогаз</td>\n",
       "    </tr>\n",
       "    <tr>\n",
       "      <th>2017-04-25 14:41:00</th>\n",
       "      <td>https://ua-energy.org/uk/posts/rozmovy-pro-des...</td>\n",
       "      <td>газ</td>\n",
       "    </tr>\n",
       "    <tr>\n",
       "      <th>2017-04-25 13:55:00</th>\n",
       "      <td>https://ua-energy.org/uk/posts/chystyi-zbytok-...</td>\n",
       "      <td>газ</td>\n",
       "    </tr>\n",
       "  </tbody>\n",
       "</table>\n",
       "</div>"
      ],
      "text/plain": [
       "                                                                  Link  \\\n",
       "Date                                                                     \n",
       "2017-04-12 12:10:00  https://ua-energy.org/uk/posts/u-kharkivskii-o...   \n",
       "2017-04-12 11:52:00  https://ua-energy.org/uk/posts/hazprom-pidpysa...   \n",
       "2017-04-24 17:19:00  https://ua-energy.org/uk/posts/nahliadovu-radu...   \n",
       "2017-04-25 14:41:00  https://ua-energy.org/uk/posts/rozmovy-pro-des...   \n",
       "2017-04-25 13:55:00  https://ua-energy.org/uk/posts/chystyi-zbytok-...   \n",
       "\n",
       "                         Tags  \n",
       "Date                           \n",
       "2017-04-12 12:10:00       газ  \n",
       "2017-04-12 11:52:00       газ  \n",
       "2017-04-24 17:19:00  Нафтогаз  \n",
       "2017-04-25 14:41:00       газ  \n",
       "2017-04-25 13:55:00       газ  "
      ]
     },
     "metadata": {},
     "output_type": "display_data"
    }
   ],
   "source": [
    "#Selecting articles with tags\n",
    "df_temp = df_articles[[\"Link\", \"Tags\", \"Date\"]].dropna()\n",
    "print(f\"Shape:{df_temp.shape}\")\n",
    "\n",
    "#Extracting tags\n",
    "df_temp[\"Tags\"] = df_temp[\"Tags\"].apply(lambda x: list(x.values()))\n",
    "df_temp = df_temp.explode(\"Tags\")\n",
    "print(f\"Shape after:{df_temp.shape}\")\n",
    "\n",
    "#Keeping only observations for top 5 links and setting Date to be the index\n",
    "df_temp = df_temp.query(\"Tags in @top_tags\")\n",
    "df_temp.set_index('Date', inplace = True)\n",
    "print(f\"Shape after:{df_temp.shape}\")\n",
    "\n",
    "display(df_temp.head())"
   ]
  },
  {
   "cell_type": "code",
   "execution_count": 16,
   "metadata": {},
   "outputs": [
    {
     "name": "stdout",
     "output_type": "stream",
     "text": [
      "Shape:(13, 1)\n"
     ]
    },
    {
     "data": {
      "text/html": [
       "<div>\n",
       "<style scoped>\n",
       "    .dataframe tbody tr th:only-of-type {\n",
       "        vertical-align: middle;\n",
       "    }\n",
       "\n",
       "    .dataframe tbody tr th {\n",
       "        vertical-align: top;\n",
       "    }\n",
       "\n",
       "    .dataframe thead th {\n",
       "        text-align: right;\n",
       "    }\n",
       "</style>\n",
       "<table border=\"1\" class=\"dataframe\">\n",
       "  <thead>\n",
       "    <tr style=\"text-align: right;\">\n",
       "      <th></th>\n",
       "      <th>N_Articles</th>\n",
       "    </tr>\n",
       "    <tr>\n",
       "      <th>Date</th>\n",
       "      <th></th>\n",
       "    </tr>\n",
       "  </thead>\n",
       "  <tbody>\n",
       "    <tr>\n",
       "      <th>2017-06-30</th>\n",
       "      <td>72</td>\n",
       "    </tr>\n",
       "    <tr>\n",
       "      <th>2017-09-30</th>\n",
       "      <td>86</td>\n",
       "    </tr>\n",
       "    <tr>\n",
       "      <th>2017-12-31</th>\n",
       "      <td>57</td>\n",
       "    </tr>\n",
       "    <tr>\n",
       "      <th>2018-03-31</th>\n",
       "      <td>145</td>\n",
       "    </tr>\n",
       "    <tr>\n",
       "      <th>2018-06-30</th>\n",
       "      <td>118</td>\n",
       "    </tr>\n",
       "  </tbody>\n",
       "</table>\n",
       "</div>"
      ],
      "text/plain": [
       "            N_Articles\n",
       "Date                  \n",
       "2017-06-30          72\n",
       "2017-09-30          86\n",
       "2017-12-31          57\n",
       "2018-03-31         145\n",
       "2018-06-30         118"
      ]
     },
     "metadata": {},
     "output_type": "display_data"
    }
   ],
   "source": [
    "#Calculating the total number of articles in a given quarter\n",
    "df_n = df_temp.groupby([pd.Grouper(freq = \"Q\")]).agg(N_Articles = ('Link','nunique'))\n",
    "print(f\"Shape:{df_n.shape}\")\n",
    "display(df_n.head())"
   ]
  },
  {
   "cell_type": "code",
   "execution_count": 17,
   "metadata": {},
   "outputs": [
    {
     "name": "stdout",
     "output_type": "stream",
     "text": [
      "Shape before:(2393, 2)\n",
      "Shape after:(65, 5)\n"
     ]
    },
    {
     "data": {
      "text/html": [
       "<div>\n",
       "<style scoped>\n",
       "    .dataframe tbody tr th:only-of-type {\n",
       "        vertical-align: middle;\n",
       "    }\n",
       "\n",
       "    .dataframe tbody tr th {\n",
       "        vertical-align: top;\n",
       "    }\n",
       "\n",
       "    .dataframe thead th {\n",
       "        text-align: right;\n",
       "    }\n",
       "</style>\n",
       "<table border=\"1\" class=\"dataframe\">\n",
       "  <thead>\n",
       "    <tr style=\"text-align: right;\">\n",
       "      <th></th>\n",
       "      <th>Date</th>\n",
       "      <th>Tag</th>\n",
       "      <th>Link</th>\n",
       "      <th>N_Articles</th>\n",
       "      <th>Share</th>\n",
       "    </tr>\n",
       "  </thead>\n",
       "  <tbody>\n",
       "    <tr>\n",
       "      <th>0</th>\n",
       "      <td>2017-06-30</td>\n",
       "      <td>НКРЕКП</td>\n",
       "      <td>5</td>\n",
       "      <td>72</td>\n",
       "      <td>6.9</td>\n",
       "    </tr>\n",
       "    <tr>\n",
       "      <th>1</th>\n",
       "      <td>2017-06-30</td>\n",
       "      <td>Нафтогаз</td>\n",
       "      <td>18</td>\n",
       "      <td>72</td>\n",
       "      <td>25.0</td>\n",
       "    </tr>\n",
       "    <tr>\n",
       "      <th>2</th>\n",
       "      <td>2017-06-30</td>\n",
       "      <td>газ</td>\n",
       "      <td>33</td>\n",
       "      <td>72</td>\n",
       "      <td>45.8</td>\n",
       "    </tr>\n",
       "    <tr>\n",
       "      <th>3</th>\n",
       "      <td>2017-06-30</td>\n",
       "      <td>нафта</td>\n",
       "      <td>18</td>\n",
       "      <td>72</td>\n",
       "      <td>25.0</td>\n",
       "    </tr>\n",
       "    <tr>\n",
       "      <th>4</th>\n",
       "      <td>2017-06-30</td>\n",
       "      <td>транзит</td>\n",
       "      <td>2</td>\n",
       "      <td>72</td>\n",
       "      <td>2.8</td>\n",
       "    </tr>\n",
       "  </tbody>\n",
       "</table>\n",
       "</div>"
      ],
      "text/plain": [
       "        Date       Tag  Link  N_Articles  Share\n",
       "0 2017-06-30    НКРЕКП     5          72    6.9\n",
       "1 2017-06-30  Нафтогаз    18          72   25.0\n",
       "2 2017-06-30       газ    33          72   45.8\n",
       "3 2017-06-30     нафта    18          72   25.0\n",
       "4 2017-06-30   транзит     2          72    2.8"
      ]
     },
     "metadata": {},
     "output_type": "display_data"
    }
   ],
   "source": [
    "print(f\"Shape before:{df_temp.shape}\")\n",
    "\n",
    "#Aggregating by quarter and calculating the number of articles with a given tags in a given quarter\n",
    "df_temp = df_temp.groupby([pd.Grouper(freq = \"Q\"), \"Tags\"]).count()\n",
    "\n",
    "#Adding the total number of articles per quarter\n",
    "df_temp = df_temp.join(df_n)\n",
    "\n",
    "#Calculating the share of articles with a given tag in a given quarter\n",
    "df_temp.eval(\"Share = Link / N_Articles * 100\", inplace = True)\n",
    "df_temp['Share'] = df_temp['Share'].round(1)\n",
    "\n",
    "#Prettifying the dataframe\n",
    "df_temp.reset_index(inplace = True)\n",
    "df_temp.rename({\"Tags\":\"Tag\"}, axis = 1, inplace = True)\n",
    "\n",
    "print(f\"Shape after:{df_temp.shape}\")\n",
    "display(df_temp.head())"
   ]
  },
  {
   "cell_type": "code",
   "execution_count": 18,
   "metadata": {},
   "outputs": [
    {
     "data": {
      "text/html": [
       "\n",
       "<div id=\"altair-viz-b5c944e297ec49a8b13f45ad08111418\"></div>\n",
       "<script type=\"text/javascript\">\n",
       "  (function(spec, embedOpt){\n",
       "    let outputDiv = document.currentScript.previousElementSibling;\n",
       "    if (outputDiv.id !== \"altair-viz-b5c944e297ec49a8b13f45ad08111418\") {\n",
       "      outputDiv = document.getElementById(\"altair-viz-b5c944e297ec49a8b13f45ad08111418\");\n",
       "    }\n",
       "    const paths = {\n",
       "      \"vega\": \"https://cdn.jsdelivr.net/npm//vega@5?noext\",\n",
       "      \"vega-lib\": \"https://cdn.jsdelivr.net/npm//vega-lib?noext\",\n",
       "      \"vega-lite\": \"https://cdn.jsdelivr.net/npm//vega-lite@4.8.1?noext\",\n",
       "      \"vega-embed\": \"https://cdn.jsdelivr.net/npm//vega-embed@6?noext\",\n",
       "    };\n",
       "\n",
       "    function loadScript(lib) {\n",
       "      return new Promise(function(resolve, reject) {\n",
       "        var s = document.createElement('script');\n",
       "        s.src = paths[lib];\n",
       "        s.async = true;\n",
       "        s.onload = () => resolve(paths[lib]);\n",
       "        s.onerror = () => reject(`Error loading script: ${paths[lib]}`);\n",
       "        document.getElementsByTagName(\"head\")[0].appendChild(s);\n",
       "      });\n",
       "    }\n",
       "\n",
       "    function showError(err) {\n",
       "      outputDiv.innerHTML = `<div class=\"error\" style=\"color:red;\">${err}</div>`;\n",
       "      throw err;\n",
       "    }\n",
       "\n",
       "    function displayChart(vegaEmbed) {\n",
       "      vegaEmbed(outputDiv, spec, embedOpt)\n",
       "        .catch(err => showError(`Javascript Error: ${err.message}<br>This usually means there's a typo in your chart specification. See the javascript console for the full traceback.`));\n",
       "    }\n",
       "\n",
       "    if(typeof define === \"function\" && define.amd) {\n",
       "      requirejs.config({paths});\n",
       "      require([\"vega-embed\"], displayChart, err => showError(`Error loading script: ${err.message}`));\n",
       "    } else if (typeof vegaEmbed === \"function\") {\n",
       "      displayChart(vegaEmbed);\n",
       "    } else {\n",
       "      loadScript(\"vega\")\n",
       "        .then(() => loadScript(\"vega-lite\"))\n",
       "        .then(() => loadScript(\"vega-embed\"))\n",
       "        .catch(showError)\n",
       "        .then(() => displayChart(vegaEmbed));\n",
       "    }\n",
       "  })({\"config\": {\"view\": {\"continuousWidth\": 400, \"continuousHeight\": 300}}, \"data\": {\"name\": \"data-24cbf1ba1920010a758031d9b575eb1a\"}, \"mark\": {\"type\": \"line\", \"point\": true, \"size\": 2.5, \"strokeDash\": [1, 2]}, \"encoding\": {\"color\": {\"type\": \"nominal\", \"field\": \"Tag\"}, \"opacity\": {\"condition\": {\"value\": 1, \"selection\": \"selector003\"}, \"value\": 0.2}, \"tooltip\": [{\"type\": \"nominal\", \"field\": \"Tag\"}, {\"type\": \"temporal\", \"field\": \"Date\"}, {\"type\": \"quantitative\", \"field\": \"Share\"}], \"x\": {\"type\": \"temporal\", \"axis\": {\"format\": \"%b %Y\", \"labelAngle\": 90}, \"field\": \"Date\"}, \"y\": {\"type\": \"quantitative\", \"field\": \"Share\", \"title\": \"Share of Articles\"}}, \"height\": 250, \"selection\": {\"selector003\": {\"type\": \"multi\", \"fields\": [\"Tag\"], \"bind\": \"legend\"}}, \"title\": {\"text\": \"Figure 3. Quarterly Share of Articles Mentioning Top 5 Tags\", \"subtitle\": \"Based on 5190 Articles with Tags\"}, \"width\": 400, \"$schema\": \"https://vega.github.io/schema/vega-lite/v4.8.1.json\", \"datasets\": {\"data-24cbf1ba1920010a758031d9b575eb1a\": [{\"Date\": \"2017-06-30T00:00:00\", \"Tag\": \"\\u041d\\u041a\\u0420\\u0415\\u041a\\u041f\", \"Link\": 5, \"N_Articles\": 72, \"Share\": 6.9}, {\"Date\": \"2017-06-30T00:00:00\", \"Tag\": \"\\u041d\\u0430\\u0444\\u0442\\u043e\\u0433\\u0430\\u0437\", \"Link\": 18, \"N_Articles\": 72, \"Share\": 25.0}, {\"Date\": \"2017-06-30T00:00:00\", \"Tag\": \"\\u0433\\u0430\\u0437\", \"Link\": 33, \"N_Articles\": 72, \"Share\": 45.8}, {\"Date\": \"2017-06-30T00:00:00\", \"Tag\": \"\\u043d\\u0430\\u0444\\u0442\\u0430\", \"Link\": 18, \"N_Articles\": 72, \"Share\": 25.0}, {\"Date\": \"2017-06-30T00:00:00\", \"Tag\": \"\\u0442\\u0440\\u0430\\u043d\\u0437\\u0438\\u0442\", \"Link\": 2, \"N_Articles\": 72, \"Share\": 2.8}, {\"Date\": \"2017-09-30T00:00:00\", \"Tag\": \"\\u041d\\u041a\\u0420\\u0415\\u041a\\u041f\", \"Link\": 12, \"N_Articles\": 86, \"Share\": 14.0}, {\"Date\": \"2017-09-30T00:00:00\", \"Tag\": \"\\u041d\\u0430\\u0444\\u0442\\u043e\\u0433\\u0430\\u0437\", \"Link\": 31, \"N_Articles\": 86, \"Share\": 36.0}, {\"Date\": \"2017-09-30T00:00:00\", \"Tag\": \"\\u0433\\u0430\\u0437\", \"Link\": 36, \"N_Articles\": 86, \"Share\": 41.9}, {\"Date\": \"2017-09-30T00:00:00\", \"Tag\": \"\\u043d\\u0430\\u0444\\u0442\\u0430\", \"Link\": 17, \"N_Articles\": 86, \"Share\": 19.8}, {\"Date\": \"2017-09-30T00:00:00\", \"Tag\": \"\\u0442\\u0440\\u0430\\u043d\\u0437\\u0438\\u0442\", \"Link\": 3, \"N_Articles\": 86, \"Share\": 3.5}, {\"Date\": \"2017-12-31T00:00:00\", \"Tag\": \"\\u041d\\u041a\\u0420\\u0415\\u041a\\u041f\", \"Link\": 9, \"N_Articles\": 57, \"Share\": 15.8}, {\"Date\": \"2017-12-31T00:00:00\", \"Tag\": \"\\u041d\\u0430\\u0444\\u0442\\u043e\\u0433\\u0430\\u0437\", \"Link\": 14, \"N_Articles\": 57, \"Share\": 24.6}, {\"Date\": \"2017-12-31T00:00:00\", \"Tag\": \"\\u0433\\u0430\\u0437\", \"Link\": 28, \"N_Articles\": 57, \"Share\": 49.1}, {\"Date\": \"2017-12-31T00:00:00\", \"Tag\": \"\\u043d\\u0430\\u0444\\u0442\\u0430\", \"Link\": 15, \"N_Articles\": 57, \"Share\": 26.3}, {\"Date\": \"2017-12-31T00:00:00\", \"Tag\": \"\\u0442\\u0440\\u0430\\u043d\\u0437\\u0438\\u0442\", \"Link\": 2, \"N_Articles\": 57, \"Share\": 3.5}, {\"Date\": \"2018-03-31T00:00:00\", \"Tag\": \"\\u041d\\u041a\\u0420\\u0415\\u041a\\u041f\", \"Link\": 1, \"N_Articles\": 145, \"Share\": 0.7}, {\"Date\": \"2018-03-31T00:00:00\", \"Tag\": \"\\u041d\\u0430\\u0444\\u0442\\u043e\\u0433\\u0430\\u0437\", \"Link\": 42, \"N_Articles\": 145, \"Share\": 29.0}, {\"Date\": \"2018-03-31T00:00:00\", \"Tag\": \"\\u0433\\u0430\\u0437\", \"Link\": 84, \"N_Articles\": 145, \"Share\": 57.9}, {\"Date\": \"2018-03-31T00:00:00\", \"Tag\": \"\\u043d\\u0430\\u0444\\u0442\\u0430\", \"Link\": 17, \"N_Articles\": 145, \"Share\": 11.7}, {\"Date\": \"2018-03-31T00:00:00\", \"Tag\": \"\\u0442\\u0440\\u0430\\u043d\\u0437\\u0438\\u0442\", \"Link\": 5, \"N_Articles\": 145, \"Share\": 3.4}, {\"Date\": \"2018-06-30T00:00:00\", \"Tag\": \"\\u041d\\u041a\\u0420\\u0415\\u041a\\u041f\", \"Link\": 2, \"N_Articles\": 118, \"Share\": 1.7}, {\"Date\": \"2018-06-30T00:00:00\", \"Tag\": \"\\u041d\\u0430\\u0444\\u0442\\u043e\\u0433\\u0430\\u0437\", \"Link\": 30, \"N_Articles\": 118, \"Share\": 25.4}, {\"Date\": \"2018-06-30T00:00:00\", \"Tag\": \"\\u0433\\u0430\\u0437\", \"Link\": 57, \"N_Articles\": 118, \"Share\": 48.3}, {\"Date\": \"2018-06-30T00:00:00\", \"Tag\": \"\\u043d\\u0430\\u0444\\u0442\\u0430\", \"Link\": 24, \"N_Articles\": 118, \"Share\": 20.3}, {\"Date\": \"2018-06-30T00:00:00\", \"Tag\": \"\\u0442\\u0440\\u0430\\u043d\\u0437\\u0438\\u0442\", \"Link\": 10, \"N_Articles\": 118, \"Share\": 8.5}, {\"Date\": \"2018-09-30T00:00:00\", \"Tag\": \"\\u041d\\u041a\\u0420\\u0415\\u041a\\u041f\", \"Link\": 50, \"N_Articles\": 210, \"Share\": 23.8}, {\"Date\": \"2018-09-30T00:00:00\", \"Tag\": \"\\u041d\\u0430\\u0444\\u0442\\u043e\\u0433\\u0430\\u0437\", \"Link\": 65, \"N_Articles\": 210, \"Share\": 31.0}, {\"Date\": \"2018-09-30T00:00:00\", \"Tag\": \"\\u0433\\u0430\\u0437\", \"Link\": 113, \"N_Articles\": 210, \"Share\": 53.8}, {\"Date\": \"2018-09-30T00:00:00\", \"Tag\": \"\\u043d\\u0430\\u0444\\u0442\\u0430\", \"Link\": 16, \"N_Articles\": 210, \"Share\": 7.6}, {\"Date\": \"2018-09-30T00:00:00\", \"Tag\": \"\\u0442\\u0440\\u0430\\u043d\\u0437\\u0438\\u0442\", \"Link\": 24, \"N_Articles\": 210, \"Share\": 11.4}, {\"Date\": \"2018-12-31T00:00:00\", \"Tag\": \"\\u041d\\u041a\\u0420\\u0415\\u041a\\u041f\", \"Link\": 56, \"N_Articles\": 227, \"Share\": 24.7}, {\"Date\": \"2018-12-31T00:00:00\", \"Tag\": \"\\u041d\\u0430\\u0444\\u0442\\u043e\\u0433\\u0430\\u0437\", \"Link\": 87, \"N_Articles\": 227, \"Share\": 38.3}, {\"Date\": \"2018-12-31T00:00:00\", \"Tag\": \"\\u0433\\u0430\\u0437\", \"Link\": 97, \"N_Articles\": 227, \"Share\": 42.7}, {\"Date\": \"2018-12-31T00:00:00\", \"Tag\": \"\\u043d\\u0430\\u0444\\u0442\\u0430\", \"Link\": 17, \"N_Articles\": 227, \"Share\": 7.5}, {\"Date\": \"2018-12-31T00:00:00\", \"Tag\": \"\\u0442\\u0440\\u0430\\u043d\\u0437\\u0438\\u0442\", \"Link\": 15, \"N_Articles\": 227, \"Share\": 6.6}, {\"Date\": \"2019-03-31T00:00:00\", \"Tag\": \"\\u041d\\u041a\\u0420\\u0415\\u041a\\u041f\", \"Link\": 24, \"N_Articles\": 109, \"Share\": 22.0}, {\"Date\": \"2019-03-31T00:00:00\", \"Tag\": \"\\u041d\\u0430\\u0444\\u0442\\u043e\\u0433\\u0430\\u0437\", \"Link\": 59, \"N_Articles\": 109, \"Share\": 54.1}, {\"Date\": \"2019-03-31T00:00:00\", \"Tag\": \"\\u0433\\u0430\\u0437\", \"Link\": 45, \"N_Articles\": 109, \"Share\": 41.3}, {\"Date\": \"2019-03-31T00:00:00\", \"Tag\": \"\\u043d\\u0430\\u0444\\u0442\\u0430\", \"Link\": 9, \"N_Articles\": 109, \"Share\": 8.3}, {\"Date\": \"2019-03-31T00:00:00\", \"Tag\": \"\\u0442\\u0440\\u0430\\u043d\\u0437\\u0438\\u0442\", \"Link\": 16, \"N_Articles\": 109, \"Share\": 14.7}, {\"Date\": \"2019-06-30T00:00:00\", \"Tag\": \"\\u041d\\u041a\\u0420\\u0415\\u041a\\u041f\", \"Link\": 19, \"N_Articles\": 133, \"Share\": 14.3}, {\"Date\": \"2019-06-30T00:00:00\", \"Tag\": \"\\u041d\\u0430\\u0444\\u0442\\u043e\\u0433\\u0430\\u0437\", \"Link\": 57, \"N_Articles\": 133, \"Share\": 42.9}, {\"Date\": \"2019-06-30T00:00:00\", \"Tag\": \"\\u0433\\u0430\\u0437\", \"Link\": 45, \"N_Articles\": 133, \"Share\": 33.8}, {\"Date\": \"2019-06-30T00:00:00\", \"Tag\": \"\\u043d\\u0430\\u0444\\u0442\\u0430\", \"Link\": 34, \"N_Articles\": 133, \"Share\": 25.6}, {\"Date\": \"2019-06-30T00:00:00\", \"Tag\": \"\\u0442\\u0440\\u0430\\u043d\\u0437\\u0438\\u0442\", \"Link\": 29, \"N_Articles\": 133, \"Share\": 21.8}, {\"Date\": \"2019-09-30T00:00:00\", \"Tag\": \"\\u041d\\u041a\\u0420\\u0415\\u041a\\u041f\", \"Link\": 54, \"N_Articles\": 188, \"Share\": 28.7}, {\"Date\": \"2019-09-30T00:00:00\", \"Tag\": \"\\u041d\\u0430\\u0444\\u0442\\u043e\\u0433\\u0430\\u0437\", \"Link\": 81, \"N_Articles\": 188, \"Share\": 43.1}, {\"Date\": \"2019-09-30T00:00:00\", \"Tag\": \"\\u0433\\u0430\\u0437\", \"Link\": 64, \"N_Articles\": 188, \"Share\": 34.0}, {\"Date\": \"2019-09-30T00:00:00\", \"Tag\": \"\\u043d\\u0430\\u0444\\u0442\\u0430\", \"Link\": 14, \"N_Articles\": 188, \"Share\": 7.4}, {\"Date\": \"2019-09-30T00:00:00\", \"Tag\": \"\\u0442\\u0440\\u0430\\u043d\\u0437\\u0438\\u0442\", \"Link\": 30, \"N_Articles\": 188, \"Share\": 16.0}, {\"Date\": \"2019-12-31T00:00:00\", \"Tag\": \"\\u041d\\u041a\\u0420\\u0415\\u041a\\u041f\", \"Link\": 42, \"N_Articles\": 242, \"Share\": 17.4}, {\"Date\": \"2019-12-31T00:00:00\", \"Tag\": \"\\u041d\\u0430\\u0444\\u0442\\u043e\\u0433\\u0430\\u0437\", \"Link\": 101, \"N_Articles\": 242, \"Share\": 41.7}, {\"Date\": \"2019-12-31T00:00:00\", \"Tag\": \"\\u0433\\u0430\\u0437\", \"Link\": 79, \"N_Articles\": 242, \"Share\": 32.6}, {\"Date\": \"2019-12-31T00:00:00\", \"Tag\": \"\\u043d\\u0430\\u0444\\u0442\\u0430\", \"Link\": 16, \"N_Articles\": 242, \"Share\": 6.6}, {\"Date\": \"2019-12-31T00:00:00\", \"Tag\": \"\\u0442\\u0440\\u0430\\u043d\\u0437\\u0438\\u0442\", \"Link\": 78, \"N_Articles\": 242, \"Share\": 32.2}, {\"Date\": \"2020-03-31T00:00:00\", \"Tag\": \"\\u041d\\u041a\\u0420\\u0415\\u041a\\u041f\", \"Link\": 26, \"N_Articles\": 214, \"Share\": 12.1}, {\"Date\": \"2020-03-31T00:00:00\", \"Tag\": \"\\u041d\\u0430\\u0444\\u0442\\u043e\\u0433\\u0430\\u0437\", \"Link\": 66, \"N_Articles\": 214, \"Share\": 30.8}, {\"Date\": \"2020-03-31T00:00:00\", \"Tag\": \"\\u0433\\u0430\\u0437\", \"Link\": 81, \"N_Articles\": 214, \"Share\": 37.9}, {\"Date\": \"2020-03-31T00:00:00\", \"Tag\": \"\\u043d\\u0430\\u0444\\u0442\\u0430\", \"Link\": 47, \"N_Articles\": 214, \"Share\": 22.0}, {\"Date\": \"2020-03-31T00:00:00\", \"Tag\": \"\\u0442\\u0440\\u0430\\u043d\\u0437\\u0438\\u0442\", \"Link\": 39, \"N_Articles\": 214, \"Share\": 18.2}, {\"Date\": \"2020-06-30T00:00:00\", \"Tag\": \"\\u041d\\u041a\\u0420\\u0415\\u041a\\u041f\", \"Link\": 26, \"N_Articles\": 165, \"Share\": 15.8}, {\"Date\": \"2020-06-30T00:00:00\", \"Tag\": \"\\u041d\\u0430\\u0444\\u0442\\u043e\\u0433\\u0430\\u0437\", \"Link\": 53, \"N_Articles\": 165, \"Share\": 32.1}, {\"Date\": \"2020-06-30T00:00:00\", \"Tag\": \"\\u0433\\u0430\\u0437\", \"Link\": 54, \"N_Articles\": 165, \"Share\": 32.7}, {\"Date\": \"2020-06-30T00:00:00\", \"Tag\": \"\\u043d\\u0430\\u0444\\u0442\\u0430\", \"Link\": 36, \"N_Articles\": 165, \"Share\": 21.8}, {\"Date\": \"2020-06-30T00:00:00\", \"Tag\": \"\\u0442\\u0440\\u0430\\u043d\\u0437\\u0438\\u0442\", \"Link\": 14, \"N_Articles\": 165, \"Share\": 8.5}]}}, {\"mode\": \"vega-lite\"});\n",
       "</script>"
      ],
      "text/plain": [
       "alt.Chart(...)"
      ]
     },
     "execution_count": 18,
     "metadata": {},
     "output_type": "execute_result"
    }
   ],
   "source": [
    "selection = alt.selection_multi(fields=['Tag'], bind='legend')\n",
    "\n",
    "chart3 = alt.Chart(df_temp).mark_line(point=True, size =2.5, strokeDash=[1,2]).encode(\n",
    "    x=alt.X(\"Date\", axis=alt.Axis(format = (\"%b %Y\"), labelAngle=90)),\n",
    "    y=alt.Y(\"Share\", title=\"Share of Articles\"),\n",
    "    color = \"Tag\",\n",
    "    tooltip=[\"Tag\", \"Date\", \"Share\"],\n",
    "    opacity=alt.condition(selection, alt.value(1), alt.value(0.2))\n",
    ").properties(\n",
    "    width = 400,\n",
    "    height = 250,\n",
    "    title = {\"text\":\"Figure 3. Quarterly Share of Articles Mentioning Top 5 Tags\",\n",
    "             \"subtitle\":f\"Based on {df_articles.Tags.dropna().shape[0]} Articles with Tags\"}\n",
    "\n",
    ").add_selection(\n",
    "    selection\n",
    ")\n",
    "chart3"
   ]
  },
  {
   "cell_type": "markdown",
   "metadata": {},
   "source": [
    "### 2.2 Named entity recognition"
   ]
  },
  {
   "cell_type": "code",
   "execution_count": 19,
   "metadata": {
    "scrolled": true
   },
   "outputs": [
    {
     "name": "stdout",
     "output_type": "stream",
     "text": [
      "Заступник міністра прокоментував можливість розвитку державної вугільної галузі в Україні\r\n",
      " З державних вугільних шахт перспективи розвитку мають 10 шахт, а більше 20 шахт — збиткові. Про це розповів заступник міністра енергетики та захисту довкілля Віталій Шубін, повідомляє \"Українська енергетика\". “Понад 10 шахт мають перспективи розвитку і видобування гарного і потрібного вугілля. І вас запевняю, ці шахти будуть працювати. Зараз ми шукаємо формулу, яким чином зробити галузь беззбитковою”, — сказав Шубін.  Він відзначив, що міністерство почало аудит державних шахт, більше 20 з яких — збиткові.  “Я думаю, що українцям вже набридло постійно фінансувати вугільну галузь, оскільки вона на себе не заробляє. Це вже факт — вона не заробляє на останні 10 років. Дуже дивно, що приватні шахти на себе заробляють, а державні — не заробляють”, — сказав Шубін. Нагадаємо, уряд пропонує Верховній Раді переглянути державний бюджет на 2019 рік та перенаправити  1 млрд грн на виплату заробітних плат шахтарям. За словами Шубіна, цих коштів вистачить приблизно на 80% боргів перед шахтарями. У 2019 році уряд планував направити на підтримку державних вугільних шахт 2,3 млрд грн, а в 2020 році — збільшити фінансування до 2,947 млрд грн. Кошти мають спрямувати на модернізацію та технічне переоснащення державних шахт. Також програма враховує збитковість державної галузі, тому частину коштів направлять на компенсацію різниці між собівартістю та ціною реалізації вугілля, на закриття та ліквідацію безперспективних шахт та гірничо-рятувальні заходи.\n"
     ]
    }
   ],
   "source": [
    "#Obtaining a random article for demonstration\n",
    "text = df_articles['Text'].sample().values[0]\n",
    "print(text)"
   ]
  },
  {
   "cell_type": "markdown",
   "metadata": {},
   "source": [
    "#### 2.1.1 Top 5 abbreviations"
   ]
  },
  {
   "cell_type": "code",
   "execution_count": 20,
   "metadata": {},
   "outputs": [
    {
     "name": "stdout",
     "output_type": "stream",
     "text": [
      "[]\n"
     ]
    }
   ],
   "source": [
    "#Extracting block letters which are often organisations, countries or other relevant entities\n",
    "pattern = \"[А-ЯІЇЄ]{2,}\"\n",
    "print(re.findall(pattern, text)[:20])"
   ]
  },
  {
   "cell_type": "code",
   "execution_count": 21,
   "metadata": {},
   "outputs": [
    {
     "data": {
      "text/plain": [
       "НАК       2307\n",
       "ПАТ       1660\n",
       "НКРЕКП    1559\n",
       "АТ        1296\n",
       "ЄС        1249\n",
       "ГТС       1041\n",
       "МВ        1031\n",
       "США       1016\n",
       "ДТЕК      1001\n",
       "ТОВ        927\n",
       "ТЕС        829\n",
       "АЕС        793\n",
       "ДП         735\n",
       "ТЕЦ        613\n",
       "ПСГ        507\n",
       "ВДЕ        494\n",
       "НАЕК       455\n",
       "РФ         448\n",
       "НЕК        447\n",
       "НАБУ       388\n",
       "ПДВ        376\n",
       "АМКУ       340\n",
       "ОСББ       292\n",
       "ОПЕК       276\n",
       "НПЗ        270\n",
       "АЗС        250\n",
       "ЄБРР       249\n",
       "СЕС        243\n",
       "МВФ        237\n",
       "ПСО        215\n",
       "Name: Abbr, dtype: int64"
      ]
     },
     "execution_count": 21,
     "metadata": {},
     "output_type": "execute_result"
    }
   ],
   "source": [
    "#Extracting abbreviations from all texts and presenting 30 most frequent ones\n",
    "df_articles['Abbr'] = df_articles['Text'].str.findall(pattern)\n",
    "df_articles['Abbr'].explode().value_counts().head(30)"
   ]
  },
  {
   "cell_type": "code",
   "execution_count": 22,
   "metadata": {},
   "outputs": [],
   "source": [
    "#Abbreviations of interest to be looked up in the text\n",
    "lookup = [\"ЄС\", \"МВФ\", \"ЄЄБРР\", \"США\", \"РФ\"]"
   ]
  },
  {
   "cell_type": "code",
   "execution_count": 23,
   "metadata": {},
   "outputs": [
    {
     "name": "stdout",
     "output_type": "stream",
     "text": [
      "Shape:(6596, 3)\n"
     ]
    },
    {
     "data": {
      "text/html": [
       "<div>\n",
       "<style scoped>\n",
       "    .dataframe tbody tr th:only-of-type {\n",
       "        vertical-align: middle;\n",
       "    }\n",
       "\n",
       "    .dataframe tbody tr th {\n",
       "        vertical-align: top;\n",
       "    }\n",
       "\n",
       "    .dataframe thead th {\n",
       "        text-align: right;\n",
       "    }\n",
       "</style>\n",
       "<table border=\"1\" class=\"dataframe\">\n",
       "  <thead>\n",
       "    <tr style=\"text-align: right;\">\n",
       "      <th></th>\n",
       "      <th>Link</th>\n",
       "      <th>Date</th>\n",
       "      <th>Abbr</th>\n",
       "    </tr>\n",
       "  </thead>\n",
       "  <tbody>\n",
       "    <tr>\n",
       "      <th>7</th>\n",
       "      <td>https://ua-energy.org/uk/posts/u-kharkivskii-o...</td>\n",
       "      <td>2017-04-12 12:10:00</td>\n",
       "      <td>[ПАТ]</td>\n",
       "    </tr>\n",
       "    <tr>\n",
       "      <th>8</th>\n",
       "      <td>https://ua-energy.org/uk/posts/hazprom-pidpysa...</td>\n",
       "      <td>2017-04-12 11:52:00</td>\n",
       "      <td>[]</td>\n",
       "    </tr>\n",
       "    <tr>\n",
       "      <th>9</th>\n",
       "      <td>https://ua-energy.org/uk/posts/hazprom-ne-zmih...</td>\n",
       "      <td>2017-04-13 15:18:00</td>\n",
       "      <td>[СК, СК, СК, ПАО, ПАО]</td>\n",
       "    </tr>\n",
       "    <tr>\n",
       "      <th>10</th>\n",
       "      <td>https://ua-energy.org/uk/posts/sud-vidpustyv-d...</td>\n",
       "      <td>2017-04-24 17:45:00</td>\n",
       "      <td>[НАК, НАК, НАБУ, САП, ПАО, ОГХК, САП, ИФ, СИЗО...</td>\n",
       "    </tr>\n",
       "    <tr>\n",
       "      <th>11</th>\n",
       "      <td>https://ua-energy.org/uk/posts/nabu-hotuie-spr...</td>\n",
       "      <td>2017-04-24 17:42:00</td>\n",
       "      <td>[НАБУ, НАБУ, УНН, НАБУ, ДП, НАЕК]</td>\n",
       "    </tr>\n",
       "  </tbody>\n",
       "</table>\n",
       "</div>"
      ],
      "text/plain": [
       "                                                 Link                Date  \\\n",
       "7   https://ua-energy.org/uk/posts/u-kharkivskii-o... 2017-04-12 12:10:00   \n",
       "8   https://ua-energy.org/uk/posts/hazprom-pidpysa... 2017-04-12 11:52:00   \n",
       "9   https://ua-energy.org/uk/posts/hazprom-ne-zmih... 2017-04-13 15:18:00   \n",
       "10  https://ua-energy.org/uk/posts/sud-vidpustyv-d... 2017-04-24 17:45:00   \n",
       "11  https://ua-energy.org/uk/posts/nabu-hotuie-spr... 2017-04-24 17:42:00   \n",
       "\n",
       "                                                 Abbr  \n",
       "7                                               [ПАТ]  \n",
       "8                                                  []  \n",
       "9                              [СК, СК, СК, ПАО, ПАО]  \n",
       "10  [НАК, НАК, НАБУ, САП, ПАО, ОГХК, САП, ИФ, СИЗО...  \n",
       "11                  [НАБУ, НАБУ, УНН, НАБУ, ДП, НАЕК]  "
      ]
     },
     "metadata": {},
     "output_type": "display_data"
    }
   ],
   "source": [
    "#Selecting columns of interest\n",
    "df_temp = df_articles[[\"Link\", \"Date\", \"Abbr\"]].copy()\n",
    "print(f\"Shape:{df_temp.shape}\")\n",
    "display(df_temp.head())"
   ]
  },
  {
   "cell_type": "code",
   "execution_count": 24,
   "metadata": {},
   "outputs": [
    {
     "name": "stdout",
     "output_type": "stream",
     "text": [
      "Shape before:(6596, 3)\n",
      "Shape after:(32371, 3)\n",
      "Shape after:(2950, 2)\n"
     ]
    },
    {
     "data": {
      "text/html": [
       "<div>\n",
       "<style scoped>\n",
       "    .dataframe tbody tr th:only-of-type {\n",
       "        vertical-align: middle;\n",
       "    }\n",
       "\n",
       "    .dataframe tbody tr th {\n",
       "        vertical-align: top;\n",
       "    }\n",
       "\n",
       "    .dataframe thead th {\n",
       "        text-align: right;\n",
       "    }\n",
       "</style>\n",
       "<table border=\"1\" class=\"dataframe\">\n",
       "  <thead>\n",
       "    <tr style=\"text-align: right;\">\n",
       "      <th></th>\n",
       "      <th>Link</th>\n",
       "      <th>Abbr</th>\n",
       "    </tr>\n",
       "    <tr>\n",
       "      <th>Date</th>\n",
       "      <th></th>\n",
       "      <th></th>\n",
       "    </tr>\n",
       "  </thead>\n",
       "  <tbody>\n",
       "    <tr>\n",
       "      <th>2017-04-24 17:31:00</th>\n",
       "      <td>https://ua-energy.org/uk/posts/u-rf-kazhut-shc...</td>\n",
       "      <td>РФ</td>\n",
       "    </tr>\n",
       "    <tr>\n",
       "      <th>2017-04-24 17:31:00</th>\n",
       "      <td>https://ua-energy.org/uk/posts/u-rf-kazhut-shc...</td>\n",
       "      <td>РФ</td>\n",
       "    </tr>\n",
       "    <tr>\n",
       "      <th>2017-04-24 17:31:00</th>\n",
       "      <td>https://ua-energy.org/uk/posts/u-rf-kazhut-shc...</td>\n",
       "      <td>РФ</td>\n",
       "    </tr>\n",
       "    <tr>\n",
       "      <th>2017-04-24 17:31:00</th>\n",
       "      <td>https://ua-energy.org/uk/posts/u-rf-kazhut-shc...</td>\n",
       "      <td>РФ</td>\n",
       "    </tr>\n",
       "    <tr>\n",
       "      <th>2017-04-26 17:09:00</th>\n",
       "      <td>https://ua-energy.org/uk/posts/sap-podala-apel...</td>\n",
       "      <td>США</td>\n",
       "    </tr>\n",
       "  </tbody>\n",
       "</table>\n",
       "</div>"
      ],
      "text/plain": [
       "                                                                  Link Abbr\n",
       "Date                                                                       \n",
       "2017-04-24 17:31:00  https://ua-energy.org/uk/posts/u-rf-kazhut-shc...   РФ\n",
       "2017-04-24 17:31:00  https://ua-energy.org/uk/posts/u-rf-kazhut-shc...   РФ\n",
       "2017-04-24 17:31:00  https://ua-energy.org/uk/posts/u-rf-kazhut-shc...   РФ\n",
       "2017-04-24 17:31:00  https://ua-energy.org/uk/posts/u-rf-kazhut-shc...   РФ\n",
       "2017-04-26 17:09:00  https://ua-energy.org/uk/posts/sap-podala-apel...  США"
      ]
     },
     "metadata": {},
     "output_type": "display_data"
    }
   ],
   "source": [
    "print(f\"Shape before:{df_temp.shape}\")\n",
    "\n",
    "#Unlisting column values\n",
    "df_temp = df_temp.explode(\"Abbr\")\n",
    "print(f\"Shape after:{df_temp.shape}\")\n",
    "\n",
    "#Keeping only rows where a relevant abbreviation is mentioned\n",
    "df_temp = df_temp.query(\"Abbr in @lookup\")\n",
    "df_temp.set_index(\"Date\", inplace = True)\n",
    "print(f\"Shape after:{df_temp.shape}\")\n",
    "\n",
    "display(df_temp.head())"
   ]
  },
  {
   "cell_type": "code",
   "execution_count": 25,
   "metadata": {},
   "outputs": [
    {
     "name": "stdout",
     "output_type": "stream",
     "text": [
      "Shape:(39, 1)\n"
     ]
    },
    {
     "data": {
      "text/html": [
       "<div>\n",
       "<style scoped>\n",
       "    .dataframe tbody tr th:only-of-type {\n",
       "        vertical-align: middle;\n",
       "    }\n",
       "\n",
       "    .dataframe tbody tr th {\n",
       "        vertical-align: top;\n",
       "    }\n",
       "\n",
       "    .dataframe thead th {\n",
       "        text-align: right;\n",
       "    }\n",
       "</style>\n",
       "<table border=\"1\" class=\"dataframe\">\n",
       "  <thead>\n",
       "    <tr style=\"text-align: right;\">\n",
       "      <th></th>\n",
       "      <th>N_Articles</th>\n",
       "    </tr>\n",
       "    <tr>\n",
       "      <th>Date</th>\n",
       "      <th></th>\n",
       "    </tr>\n",
       "  </thead>\n",
       "  <tbody>\n",
       "    <tr>\n",
       "      <th>2017-04-30</th>\n",
       "      <td>49</td>\n",
       "    </tr>\n",
       "    <tr>\n",
       "      <th>2017-05-31</th>\n",
       "      <td>134</td>\n",
       "    </tr>\n",
       "    <tr>\n",
       "      <th>2017-06-30</th>\n",
       "      <td>145</td>\n",
       "    </tr>\n",
       "    <tr>\n",
       "      <th>2017-07-31</th>\n",
       "      <td>257</td>\n",
       "    </tr>\n",
       "    <tr>\n",
       "      <th>2017-08-31</th>\n",
       "      <td>166</td>\n",
       "    </tr>\n",
       "  </tbody>\n",
       "</table>\n",
       "</div>"
      ],
      "text/plain": [
       "            N_Articles\n",
       "Date                  \n",
       "2017-04-30          49\n",
       "2017-05-31         134\n",
       "2017-06-30         145\n",
       "2017-07-31         257\n",
       "2017-08-31         166"
      ]
     },
     "metadata": {},
     "output_type": "display_data"
    }
   ],
   "source": [
    "#Calculating the total number of articles in a given month\n",
    "df_n = df_articles.set_index('Date').groupby([pd.Grouper(freq = \"M\")]).agg(N_Articles = ('Link','nunique'))\n",
    "print(f\"Shape:{df_n.shape}\")\n",
    "display(df_n.head())"
   ]
  },
  {
   "cell_type": "code",
   "execution_count": 26,
   "metadata": {},
   "outputs": [
    {
     "name": "stdout",
     "output_type": "stream",
     "text": [
      "Shape before:(2950, 2)\n",
      "Shape after:(148, 5)\n"
     ]
    },
    {
     "data": {
      "text/html": [
       "<div>\n",
       "<style scoped>\n",
       "    .dataframe tbody tr th:only-of-type {\n",
       "        vertical-align: middle;\n",
       "    }\n",
       "\n",
       "    .dataframe tbody tr th {\n",
       "        vertical-align: top;\n",
       "    }\n",
       "\n",
       "    .dataframe thead th {\n",
       "        text-align: right;\n",
       "    }\n",
       "</style>\n",
       "<table border=\"1\" class=\"dataframe\">\n",
       "  <thead>\n",
       "    <tr style=\"text-align: right;\">\n",
       "      <th></th>\n",
       "      <th>Date</th>\n",
       "      <th>Entity</th>\n",
       "      <th>Frequency</th>\n",
       "      <th>N_Articles</th>\n",
       "      <th>Share</th>\n",
       "    </tr>\n",
       "  </thead>\n",
       "  <tbody>\n",
       "    <tr>\n",
       "      <th>0</th>\n",
       "      <td>2017-04-30</td>\n",
       "      <td>ЄС</td>\n",
       "      <td>2</td>\n",
       "      <td>49</td>\n",
       "      <td>4.1</td>\n",
       "    </tr>\n",
       "    <tr>\n",
       "      <th>1</th>\n",
       "      <td>2017-04-30</td>\n",
       "      <td>МВФ</td>\n",
       "      <td>1</td>\n",
       "      <td>49</td>\n",
       "      <td>2.0</td>\n",
       "    </tr>\n",
       "    <tr>\n",
       "      <th>2</th>\n",
       "      <td>2017-04-30</td>\n",
       "      <td>РФ</td>\n",
       "      <td>2</td>\n",
       "      <td>49</td>\n",
       "      <td>4.1</td>\n",
       "    </tr>\n",
       "    <tr>\n",
       "      <th>3</th>\n",
       "      <td>2017-04-30</td>\n",
       "      <td>США</td>\n",
       "      <td>4</td>\n",
       "      <td>49</td>\n",
       "      <td>8.2</td>\n",
       "    </tr>\n",
       "    <tr>\n",
       "      <th>4</th>\n",
       "      <td>2017-05-31</td>\n",
       "      <td>ЄС</td>\n",
       "      <td>8</td>\n",
       "      <td>134</td>\n",
       "      <td>6.0</td>\n",
       "    </tr>\n",
       "  </tbody>\n",
       "</table>\n",
       "</div>"
      ],
      "text/plain": [
       "        Date Entity  Frequency  N_Articles  Share\n",
       "0 2017-04-30     ЄС          2          49    4.1\n",
       "1 2017-04-30    МВФ          1          49    2.0\n",
       "2 2017-04-30     РФ          2          49    4.1\n",
       "3 2017-04-30    США          4          49    8.2\n",
       "4 2017-05-31     ЄС          8         134    6.0"
      ]
     },
     "metadata": {},
     "output_type": "display_data"
    }
   ],
   "source": [
    "print(f\"Shape before:{df_temp.shape}\")\n",
    "\n",
    "#Aggregating by month and abbreviation to calculate the number of articles mentioning a given entity\n",
    "df_temp = df_temp.groupby([pd.Grouper(freq = \"M\"), \"Abbr\"]).agg({\"Link\":\"nunique\"})\n",
    "\n",
    "#Adding the total number of articles per quarter\n",
    "df_temp = df_temp.join(df_n)\n",
    "\n",
    "#Calculating the share of articles mentioni a given tag in a given quarter\n",
    "df_temp.eval(\"Share = Link / N_Articles * 100\", inplace = True)\n",
    "df_temp['Share'] = df_temp['Share'].round(1)\n",
    "\n",
    "#Prettifying the dataframe\n",
    "df_temp.reset_index(inplace = True)\n",
    "df_temp.rename({\"Abbr\":\"Entity\", \"Link\":\"Frequency\"}, axis = 1, inplace = True)\n",
    "\n",
    "print(f\"Shape after:{df_temp.shape}\")\n",
    "display(df_temp.head())"
   ]
  },
  {
   "cell_type": "code",
   "execution_count": 27,
   "metadata": {},
   "outputs": [
    {
     "data": {
      "text/html": [
       "\n",
       "<div id=\"altair-viz-37eefe1b389e4052b358f5ecff37c0f1\"></div>\n",
       "<script type=\"text/javascript\">\n",
       "  (function(spec, embedOpt){\n",
       "    let outputDiv = document.currentScript.previousElementSibling;\n",
       "    if (outputDiv.id !== \"altair-viz-37eefe1b389e4052b358f5ecff37c0f1\") {\n",
       "      outputDiv = document.getElementById(\"altair-viz-37eefe1b389e4052b358f5ecff37c0f1\");\n",
       "    }\n",
       "    const paths = {\n",
       "      \"vega\": \"https://cdn.jsdelivr.net/npm//vega@5?noext\",\n",
       "      \"vega-lib\": \"https://cdn.jsdelivr.net/npm//vega-lib?noext\",\n",
       "      \"vega-lite\": \"https://cdn.jsdelivr.net/npm//vega-lite@4.8.1?noext\",\n",
       "      \"vega-embed\": \"https://cdn.jsdelivr.net/npm//vega-embed@6?noext\",\n",
       "    };\n",
       "\n",
       "    function loadScript(lib) {\n",
       "      return new Promise(function(resolve, reject) {\n",
       "        var s = document.createElement('script');\n",
       "        s.src = paths[lib];\n",
       "        s.async = true;\n",
       "        s.onload = () => resolve(paths[lib]);\n",
       "        s.onerror = () => reject(`Error loading script: ${paths[lib]}`);\n",
       "        document.getElementsByTagName(\"head\")[0].appendChild(s);\n",
       "      });\n",
       "    }\n",
       "\n",
       "    function showError(err) {\n",
       "      outputDiv.innerHTML = `<div class=\"error\" style=\"color:red;\">${err}</div>`;\n",
       "      throw err;\n",
       "    }\n",
       "\n",
       "    function displayChart(vegaEmbed) {\n",
       "      vegaEmbed(outputDiv, spec, embedOpt)\n",
       "        .catch(err => showError(`Javascript Error: ${err.message}<br>This usually means there's a typo in your chart specification. See the javascript console for the full traceback.`));\n",
       "    }\n",
       "\n",
       "    if(typeof define === \"function\" && define.amd) {\n",
       "      requirejs.config({paths});\n",
       "      require([\"vega-embed\"], displayChart, err => showError(`Error loading script: ${err.message}`));\n",
       "    } else if (typeof vegaEmbed === \"function\") {\n",
       "      displayChart(vegaEmbed);\n",
       "    } else {\n",
       "      loadScript(\"vega\")\n",
       "        .then(() => loadScript(\"vega-lite\"))\n",
       "        .then(() => loadScript(\"vega-embed\"))\n",
       "        .catch(showError)\n",
       "        .then(() => displayChart(vegaEmbed));\n",
       "    }\n",
       "  })({\"config\": {\"view\": {\"continuousWidth\": 400, \"continuousHeight\": 300}}, \"data\": {\"name\": \"data-4a637b402c932bab240551fdf1649b0c\"}, \"mark\": {\"type\": \"line\", \"point\": true, \"size\": 2.5, \"strokeDash\": [1, 2]}, \"encoding\": {\"color\": {\"type\": \"nominal\", \"field\": \"Entity\"}, \"opacity\": {\"condition\": {\"value\": 1, \"selection\": \"selector004\"}, \"value\": 0.2}, \"tooltip\": [{\"type\": \"nominal\", \"field\": \"Entity\"}, {\"type\": \"temporal\", \"field\": \"Date\"}, {\"type\": \"quantitative\", \"field\": \"Share\"}], \"x\": {\"type\": \"temporal\", \"axis\": {\"format\": \"%b %Y\"}, \"field\": \"Date\"}, \"y\": {\"type\": \"quantitative\", \"field\": \"Share\", \"title\": \"Share of Articles\"}}, \"selection\": {\"selector004\": {\"type\": \"multi\", \"fields\": [\"Entity\"], \"bind\": \"legend\"}}, \"title\": {\"text\": \"Figure 4. Monthly Share of Articles Mentioning 5 Selected Entities\", \"subtitle\": \"Entity Mentions are Based on Regex Matches\"}, \"width\": 750, \"$schema\": \"https://vega.github.io/schema/vega-lite/v4.8.1.json\", \"datasets\": {\"data-4a637b402c932bab240551fdf1649b0c\": [{\"Date\": \"2017-04-30T00:00:00\", \"Entity\": \"\\u0404\\u0421\", \"Frequency\": 2, \"N_Articles\": 49, \"Share\": 4.1}, {\"Date\": \"2017-04-30T00:00:00\", \"Entity\": \"\\u041c\\u0412\\u0424\", \"Frequency\": 1, \"N_Articles\": 49, \"Share\": 2.0}, {\"Date\": \"2017-04-30T00:00:00\", \"Entity\": \"\\u0420\\u0424\", \"Frequency\": 2, \"N_Articles\": 49, \"Share\": 4.1}, {\"Date\": \"2017-04-30T00:00:00\", \"Entity\": \"\\u0421\\u0428\\u0410\", \"Frequency\": 4, \"N_Articles\": 49, \"Share\": 8.2}, {\"Date\": \"2017-05-31T00:00:00\", \"Entity\": \"\\u0404\\u0421\", \"Frequency\": 8, \"N_Articles\": 134, \"Share\": 6.0}, {\"Date\": \"2017-05-31T00:00:00\", \"Entity\": \"\\u041c\\u0412\\u0424\", \"Frequency\": 1, \"N_Articles\": 134, \"Share\": 0.7}, {\"Date\": \"2017-05-31T00:00:00\", \"Entity\": \"\\u0420\\u0424\", \"Frequency\": 6, \"N_Articles\": 134, \"Share\": 4.5}, {\"Date\": \"2017-05-31T00:00:00\", \"Entity\": \"\\u0421\\u0428\\u0410\", \"Frequency\": 17, \"N_Articles\": 134, \"Share\": 12.7}, {\"Date\": \"2017-06-30T00:00:00\", \"Entity\": \"\\u0404\\u0421\", \"Frequency\": 20, \"N_Articles\": 145, \"Share\": 13.8}, {\"Date\": \"2017-06-30T00:00:00\", \"Entity\": \"\\u0420\\u0424\", \"Frequency\": 13, \"N_Articles\": 145, \"Share\": 9.0}, {\"Date\": \"2017-06-30T00:00:00\", \"Entity\": \"\\u0421\\u0428\\u0410\", \"Frequency\": 25, \"N_Articles\": 145, \"Share\": 17.2}, {\"Date\": \"2017-07-31T00:00:00\", \"Entity\": \"\\u0404\\u0421\", \"Frequency\": 30, \"N_Articles\": 257, \"Share\": 11.7}, {\"Date\": \"2017-07-31T00:00:00\", \"Entity\": \"\\u041c\\u0412\\u0424\", \"Frequency\": 2, \"N_Articles\": 257, \"Share\": 0.8}, {\"Date\": \"2017-07-31T00:00:00\", \"Entity\": \"\\u0420\\u0424\", \"Frequency\": 23, \"N_Articles\": 257, \"Share\": 8.9}, {\"Date\": \"2017-07-31T00:00:00\", \"Entity\": \"\\u0421\\u0428\\u0410\", \"Frequency\": 39, \"N_Articles\": 257, \"Share\": 15.2}, {\"Date\": \"2017-08-31T00:00:00\", \"Entity\": \"\\u0404\\u0421\", \"Frequency\": 11, \"N_Articles\": 166, \"Share\": 6.6}, {\"Date\": \"2017-08-31T00:00:00\", \"Entity\": \"\\u041c\\u0412\\u0424\", \"Frequency\": 1, \"N_Articles\": 166, \"Share\": 0.6}, {\"Date\": \"2017-08-31T00:00:00\", \"Entity\": \"\\u0420\\u0424\", \"Frequency\": 12, \"N_Articles\": 166, \"Share\": 7.2}, {\"Date\": \"2017-08-31T00:00:00\", \"Entity\": \"\\u0421\\u0428\\u0410\", \"Frequency\": 17, \"N_Articles\": 166, \"Share\": 10.2}, {\"Date\": \"2017-09-30T00:00:00\", \"Entity\": \"\\u0404\\u0421\", \"Frequency\": 21, \"N_Articles\": 244, \"Share\": 8.6}, {\"Date\": \"2017-09-30T00:00:00\", \"Entity\": \"\\u041c\\u0412\\u0424\", \"Frequency\": 2, \"N_Articles\": 244, \"Share\": 0.8}, {\"Date\": \"2017-09-30T00:00:00\", \"Entity\": \"\\u0420\\u0424\", \"Frequency\": 13, \"N_Articles\": 244, \"Share\": 5.3}, {\"Date\": \"2017-09-30T00:00:00\", \"Entity\": \"\\u0421\\u0428\\u0410\", \"Frequency\": 17, \"N_Articles\": 244, \"Share\": 7.0}, {\"Date\": \"2017-10-31T00:00:00\", \"Entity\": \"\\u0404\\u0421\", \"Frequency\": 27, \"N_Articles\": 235, \"Share\": 11.5}, {\"Date\": \"2017-10-31T00:00:00\", \"Entity\": \"\\u041c\\u0412\\u0424\", \"Frequency\": 4, \"N_Articles\": 235, \"Share\": 1.7}, {\"Date\": \"2017-10-31T00:00:00\", \"Entity\": \"\\u0420\\u0424\", \"Frequency\": 9, \"N_Articles\": 235, \"Share\": 3.8}, {\"Date\": \"2017-10-31T00:00:00\", \"Entity\": \"\\u0421\\u0428\\u0410\", \"Frequency\": 21, \"N_Articles\": 235, \"Share\": 8.9}, {\"Date\": \"2017-11-30T00:00:00\", \"Entity\": \"\\u0404\\u0421\", \"Frequency\": 25, \"N_Articles\": 248, \"Share\": 10.1}, {\"Date\": \"2017-11-30T00:00:00\", \"Entity\": \"\\u041c\\u0412\\u0424\", \"Frequency\": 2, \"N_Articles\": 248, \"Share\": 0.8}, {\"Date\": \"2017-11-30T00:00:00\", \"Entity\": \"\\u0420\\u0424\", \"Frequency\": 11, \"N_Articles\": 248, \"Share\": 4.4}, {\"Date\": \"2017-11-30T00:00:00\", \"Entity\": \"\\u0421\\u0428\\u0410\", \"Frequency\": 24, \"N_Articles\": 248, \"Share\": 9.7}, {\"Date\": \"2017-12-31T00:00:00\", \"Entity\": \"\\u0404\\u0421\", \"Frequency\": 23, \"N_Articles\": 200, \"Share\": 11.5}, {\"Date\": \"2017-12-31T00:00:00\", \"Entity\": \"\\u041c\\u0412\\u0424\", \"Frequency\": 1, \"N_Articles\": 200, \"Share\": 0.5}, {\"Date\": \"2017-12-31T00:00:00\", \"Entity\": \"\\u0420\\u0424\", \"Frequency\": 9, \"N_Articles\": 200, \"Share\": 4.5}, {\"Date\": \"2017-12-31T00:00:00\", \"Entity\": \"\\u0421\\u0428\\u0410\", \"Frequency\": 23, \"N_Articles\": 200, \"Share\": 11.5}, {\"Date\": \"2018-01-31T00:00:00\", \"Entity\": \"\\u0404\\u0421\", \"Frequency\": 16, \"N_Articles\": 213, \"Share\": 7.5}, {\"Date\": \"2018-01-31T00:00:00\", \"Entity\": \"\\u041c\\u0412\\u0424\", \"Frequency\": 2, \"N_Articles\": 213, \"Share\": 0.9}, {\"Date\": \"2018-01-31T00:00:00\", \"Entity\": \"\\u0420\\u0424\", \"Frequency\": 9, \"N_Articles\": 213, \"Share\": 4.2}, {\"Date\": \"2018-01-31T00:00:00\", \"Entity\": \"\\u0421\\u0428\\u0410\", \"Frequency\": 24, \"N_Articles\": 213, \"Share\": 11.3}, {\"Date\": \"2018-02-28T00:00:00\", \"Entity\": \"\\u0404\\u0421\", \"Frequency\": 20, \"N_Articles\": 218, \"Share\": 9.2}, {\"Date\": \"2018-02-28T00:00:00\", \"Entity\": \"\\u041c\\u0412\\u0424\", \"Frequency\": 8, \"N_Articles\": 218, \"Share\": 3.7}, {\"Date\": \"2018-02-28T00:00:00\", \"Entity\": \"\\u0420\\u0424\", \"Frequency\": 5, \"N_Articles\": 218, \"Share\": 2.3}, {\"Date\": \"2018-02-28T00:00:00\", \"Entity\": \"\\u0421\\u0428\\u0410\", \"Frequency\": 17, \"N_Articles\": 218, \"Share\": 7.8}, {\"Date\": \"2018-03-31T00:00:00\", \"Entity\": \"\\u0404\\u0421\", \"Frequency\": 41, \"N_Articles\": 244, \"Share\": 16.8}, {\"Date\": \"2018-03-31T00:00:00\", \"Entity\": \"\\u041c\\u0412\\u0424\", \"Frequency\": 6, \"N_Articles\": 244, \"Share\": 2.5}, {\"Date\": \"2018-03-31T00:00:00\", \"Entity\": \"\\u0420\\u0424\", \"Frequency\": 16, \"N_Articles\": 244, \"Share\": 6.6}, {\"Date\": \"2018-03-31T00:00:00\", \"Entity\": \"\\u0421\\u0428\\u0410\", \"Frequency\": 21, \"N_Articles\": 244, \"Share\": 8.6}, {\"Date\": \"2018-04-30T00:00:00\", \"Entity\": \"\\u0404\\u0421\", \"Frequency\": 25, \"N_Articles\": 184, \"Share\": 13.6}, {\"Date\": \"2018-04-30T00:00:00\", \"Entity\": \"\\u041c\\u0412\\u0424\", \"Frequency\": 7, \"N_Articles\": 184, \"Share\": 3.8}, {\"Date\": \"2018-04-30T00:00:00\", \"Entity\": \"\\u0420\\u0424\", \"Frequency\": 13, \"N_Articles\": 184, \"Share\": 7.1}, {\"Date\": \"2018-04-30T00:00:00\", \"Entity\": \"\\u0421\\u0428\\u0410\", \"Frequency\": 15, \"N_Articles\": 184, \"Share\": 8.2}, {\"Date\": \"2018-05-31T00:00:00\", \"Entity\": \"\\u0404\\u0421\", \"Frequency\": 28, \"N_Articles\": 194, \"Share\": 14.4}, {\"Date\": \"2018-05-31T00:00:00\", \"Entity\": \"\\u041c\\u0412\\u0424\", \"Frequency\": 11, \"N_Articles\": 194, \"Share\": 5.7}, {\"Date\": \"2018-05-31T00:00:00\", \"Entity\": \"\\u0420\\u0424\", \"Frequency\": 18, \"N_Articles\": 194, \"Share\": 9.3}, {\"Date\": \"2018-05-31T00:00:00\", \"Entity\": \"\\u0421\\u0428\\u0410\", \"Frequency\": 39, \"N_Articles\": 194, \"Share\": 20.1}, {\"Date\": \"2018-06-30T00:00:00\", \"Entity\": \"\\u0404\\u0421\", \"Frequency\": 22, \"N_Articles\": 158, \"Share\": 13.9}, {\"Date\": \"2018-06-30T00:00:00\", \"Entity\": \"\\u041c\\u0412\\u0424\", \"Frequency\": 5, \"N_Articles\": 158, \"Share\": 3.2}, {\"Date\": \"2018-06-30T00:00:00\", \"Entity\": \"\\u0420\\u0424\", \"Frequency\": 9, \"N_Articles\": 158, \"Share\": 5.7}, {\"Date\": \"2018-06-30T00:00:00\", \"Entity\": \"\\u0421\\u0428\\u0410\", \"Frequency\": 14, \"N_Articles\": 158, \"Share\": 8.9}, {\"Date\": \"2018-07-31T00:00:00\", \"Entity\": \"\\u0404\\u0421\", \"Frequency\": 9, \"N_Articles\": 92, \"Share\": 9.8}, {\"Date\": \"2018-07-31T00:00:00\", \"Entity\": \"\\u041c\\u0412\\u0424\", \"Frequency\": 4, \"N_Articles\": 92, \"Share\": 4.3}, {\"Date\": \"2018-07-31T00:00:00\", \"Entity\": \"\\u0420\\u0424\", \"Frequency\": 7, \"N_Articles\": 92, \"Share\": 7.6}, {\"Date\": \"2018-07-31T00:00:00\", \"Entity\": \"\\u0421\\u0428\\u0410\", \"Frequency\": 13, \"N_Articles\": 92, \"Share\": 14.1}, {\"Date\": \"2018-08-31T00:00:00\", \"Entity\": \"\\u0404\\u0421\", \"Frequency\": 9, \"N_Articles\": 227, \"Share\": 4.0}, {\"Date\": \"2018-08-31T00:00:00\", \"Entity\": \"\\u041c\\u0412\\u0424\", \"Frequency\": 8, \"N_Articles\": 227, \"Share\": 3.5}, {\"Date\": \"2018-08-31T00:00:00\", \"Entity\": \"\\u0420\\u0424\", \"Frequency\": 8, \"N_Articles\": 227, \"Share\": 3.5}, {\"Date\": \"2018-08-31T00:00:00\", \"Entity\": \"\\u0421\\u0428\\u0410\", \"Frequency\": 11, \"N_Articles\": 227, \"Share\": 4.8}, {\"Date\": \"2018-09-30T00:00:00\", \"Entity\": \"\\u0404\\u0421\", \"Frequency\": 13, \"N_Articles\": 185, \"Share\": 7.0}, {\"Date\": \"2018-09-30T00:00:00\", \"Entity\": \"\\u041c\\u0412\\u0424\", \"Frequency\": 11, \"N_Articles\": 185, \"Share\": 5.9}, {\"Date\": \"2018-09-30T00:00:00\", \"Entity\": \"\\u0420\\u0424\", \"Frequency\": 4, \"N_Articles\": 185, \"Share\": 2.2}, {\"Date\": \"2018-09-30T00:00:00\", \"Entity\": \"\\u0421\\u0428\\u0410\", \"Frequency\": 7, \"N_Articles\": 185, \"Share\": 3.8}, {\"Date\": \"2018-10-31T00:00:00\", \"Entity\": \"\\u0404\\u0421\", \"Frequency\": 6, \"N_Articles\": 218, \"Share\": 2.8}, {\"Date\": \"2018-10-31T00:00:00\", \"Entity\": \"\\u041c\\u0412\\u0424\", \"Frequency\": 12, \"N_Articles\": 218, \"Share\": 5.5}, {\"Date\": \"2018-10-31T00:00:00\", \"Entity\": \"\\u0420\\u0424\", \"Frequency\": 9, \"N_Articles\": 218, \"Share\": 4.1}, {\"Date\": \"2018-10-31T00:00:00\", \"Entity\": \"\\u0421\\u0428\\u0410\", \"Frequency\": 8, \"N_Articles\": 218, \"Share\": 3.7}, {\"Date\": \"2018-11-30T00:00:00\", \"Entity\": \"\\u0404\\u0421\", \"Frequency\": 8, \"N_Articles\": 172, \"Share\": 4.7}, {\"Date\": \"2018-11-30T00:00:00\", \"Entity\": \"\\u041c\\u0412\\u0424\", \"Frequency\": 2, \"N_Articles\": 172, \"Share\": 1.2}, {\"Date\": \"2018-11-30T00:00:00\", \"Entity\": \"\\u0420\\u0424\", \"Frequency\": 6, \"N_Articles\": 172, \"Share\": 3.5}, {\"Date\": \"2018-11-30T00:00:00\", \"Entity\": \"\\u0421\\u0428\\u0410\", \"Frequency\": 6, \"N_Articles\": 172, \"Share\": 3.5}, {\"Date\": \"2018-12-31T00:00:00\", \"Entity\": \"\\u0404\\u0421\", \"Frequency\": 13, \"N_Articles\": 128, \"Share\": 10.2}, {\"Date\": \"2018-12-31T00:00:00\", \"Entity\": \"\\u041c\\u0412\\u0424\", \"Frequency\": 2, \"N_Articles\": 128, \"Share\": 1.6}, {\"Date\": \"2018-12-31T00:00:00\", \"Entity\": \"\\u0420\\u0424\", \"Frequency\": 4, \"N_Articles\": 128, \"Share\": 3.1}, {\"Date\": \"2018-12-31T00:00:00\", \"Entity\": \"\\u0421\\u0428\\u0410\", \"Frequency\": 8, \"N_Articles\": 128, \"Share\": 6.2}, {\"Date\": \"2019-01-31T00:00:00\", \"Entity\": \"\\u0404\\u0421\", \"Frequency\": 13, \"N_Articles\": 105, \"Share\": 12.4}, {\"Date\": \"2019-01-31T00:00:00\", \"Entity\": \"\\u041c\\u0412\\u0424\", \"Frequency\": 1, \"N_Articles\": 105, \"Share\": 1.0}, {\"Date\": \"2019-01-31T00:00:00\", \"Entity\": \"\\u0420\\u0424\", \"Frequency\": 1, \"N_Articles\": 105, \"Share\": 1.0}, {\"Date\": \"2019-01-31T00:00:00\", \"Entity\": \"\\u0421\\u0428\\u0410\", \"Frequency\": 4, \"N_Articles\": 105, \"Share\": 3.8}, {\"Date\": \"2019-02-28T00:00:00\", \"Entity\": \"\\u0404\\u0421\", \"Frequency\": 5, \"N_Articles\": 61, \"Share\": 8.2}, {\"Date\": \"2019-02-28T00:00:00\", \"Entity\": \"\\u041c\\u0412\\u0424\", \"Frequency\": 1, \"N_Articles\": 61, \"Share\": 1.6}, {\"Date\": \"2019-02-28T00:00:00\", \"Entity\": \"\\u0420\\u0424\", \"Frequency\": 4, \"N_Articles\": 61, \"Share\": 6.6}, {\"Date\": \"2019-02-28T00:00:00\", \"Entity\": \"\\u0421\\u0428\\u0410\", \"Frequency\": 2, \"N_Articles\": 61, \"Share\": 3.3}, {\"Date\": \"2019-03-31T00:00:00\", \"Entity\": \"\\u0404\\u0421\", \"Frequency\": 3, \"N_Articles\": 43, \"Share\": 7.0}, {\"Date\": \"2019-03-31T00:00:00\", \"Entity\": \"\\u0420\\u0424\", \"Frequency\": 1, \"N_Articles\": 43, \"Share\": 2.3}, {\"Date\": \"2019-03-31T00:00:00\", \"Entity\": \"\\u0421\\u0428\\u0410\", \"Frequency\": 1, \"N_Articles\": 43, \"Share\": 2.3}, {\"Date\": \"2019-04-30T00:00:00\", \"Entity\": \"\\u0404\\u0421\", \"Frequency\": 12, \"N_Articles\": 108, \"Share\": 11.1}, {\"Date\": \"2019-04-30T00:00:00\", \"Entity\": \"\\u041c\\u0412\\u0424\", \"Frequency\": 3, \"N_Articles\": 108, \"Share\": 2.8}, {\"Date\": \"2019-04-30T00:00:00\", \"Entity\": \"\\u0420\\u0424\", \"Frequency\": 12, \"N_Articles\": 108, \"Share\": 11.1}, {\"Date\": \"2019-04-30T00:00:00\", \"Entity\": \"\\u0421\\u0428\\u0410\", \"Frequency\": 4, \"N_Articles\": 108, \"Share\": 3.7}, {\"Date\": \"2019-05-31T00:00:00\", \"Entity\": \"\\u0404\\u0421\", \"Frequency\": 4, \"N_Articles\": 99, \"Share\": 4.0}, {\"Date\": \"2019-05-31T00:00:00\", \"Entity\": \"\\u041c\\u0412\\u0424\", \"Frequency\": 2, \"N_Articles\": 99, \"Share\": 2.0}, {\"Date\": \"2019-05-31T00:00:00\", \"Entity\": \"\\u0420\\u0424\", \"Frequency\": 5, \"N_Articles\": 99, \"Share\": 5.1}, {\"Date\": \"2019-05-31T00:00:00\", \"Entity\": \"\\u0421\\u0428\\u0410\", \"Frequency\": 1, \"N_Articles\": 99, \"Share\": 1.0}, {\"Date\": \"2019-06-30T00:00:00\", \"Entity\": \"\\u0404\\u0421\", \"Frequency\": 3, \"N_Articles\": 73, \"Share\": 4.1}, {\"Date\": \"2019-06-30T00:00:00\", \"Entity\": \"\\u041c\\u0412\\u0424\", \"Frequency\": 1, \"N_Articles\": 73, \"Share\": 1.4}, {\"Date\": \"2019-06-30T00:00:00\", \"Entity\": \"\\u0420\\u0424\", \"Frequency\": 2, \"N_Articles\": 73, \"Share\": 2.7}, {\"Date\": \"2019-06-30T00:00:00\", \"Entity\": \"\\u0421\\u0428\\u0410\", \"Frequency\": 1, \"N_Articles\": 73, \"Share\": 1.4}, {\"Date\": \"2019-07-31T00:00:00\", \"Entity\": \"\\u0404\\u0421\", \"Frequency\": 9, \"N_Articles\": 144, \"Share\": 6.2}, {\"Date\": \"2019-07-31T00:00:00\", \"Entity\": \"\\u041c\\u0412\\u0424\", \"Frequency\": 1, \"N_Articles\": 144, \"Share\": 0.7}, {\"Date\": \"2019-07-31T00:00:00\", \"Entity\": \"\\u0420\\u0424\", \"Frequency\": 6, \"N_Articles\": 144, \"Share\": 4.2}, {\"Date\": \"2019-07-31T00:00:00\", \"Entity\": \"\\u0421\\u0428\\u0410\", \"Frequency\": 5, \"N_Articles\": 144, \"Share\": 3.5}, {\"Date\": \"2019-08-31T00:00:00\", \"Entity\": \"\\u0404\\u0421\", \"Frequency\": 10, \"N_Articles\": 130, \"Share\": 7.7}, {\"Date\": \"2019-08-31T00:00:00\", \"Entity\": \"\\u041c\\u0412\\u0424\", \"Frequency\": 1, \"N_Articles\": 130, \"Share\": 0.8}, {\"Date\": \"2019-08-31T00:00:00\", \"Entity\": \"\\u0420\\u0424\", \"Frequency\": 9, \"N_Articles\": 130, \"Share\": 6.9}, {\"Date\": \"2019-08-31T00:00:00\", \"Entity\": \"\\u0421\\u0428\\u0410\", \"Frequency\": 2, \"N_Articles\": 130, \"Share\": 1.5}, {\"Date\": \"2019-09-30T00:00:00\", \"Entity\": \"\\u0404\\u0421\", \"Frequency\": 12, \"N_Articles\": 166, \"Share\": 7.2}, {\"Date\": \"2019-09-30T00:00:00\", \"Entity\": \"\\u0420\\u0424\", \"Frequency\": 11, \"N_Articles\": 166, \"Share\": 6.6}, {\"Date\": \"2019-09-30T00:00:00\", \"Entity\": \"\\u0421\\u0428\\u0410\", \"Frequency\": 5, \"N_Articles\": 166, \"Share\": 3.0}, {\"Date\": \"2019-10-31T00:00:00\", \"Entity\": \"\\u0404\\u0421\", \"Frequency\": 23, \"N_Articles\": 229, \"Share\": 10.0}, {\"Date\": \"2019-10-31T00:00:00\", \"Entity\": \"\\u041c\\u0412\\u0424\", \"Frequency\": 4, \"N_Articles\": 229, \"Share\": 1.7}, {\"Date\": \"2019-10-31T00:00:00\", \"Entity\": \"\\u0420\\u0424\", \"Frequency\": 9, \"N_Articles\": 229, \"Share\": 3.9}, {\"Date\": \"2019-10-31T00:00:00\", \"Entity\": \"\\u0421\\u0428\\u0410\", \"Frequency\": 4, \"N_Articles\": 229, \"Share\": 1.7}, {\"Date\": \"2019-11-30T00:00:00\", \"Entity\": \"\\u0404\\u0421\", \"Frequency\": 25, \"N_Articles\": 195, \"Share\": 12.8}, {\"Date\": \"2019-11-30T00:00:00\", \"Entity\": \"\\u0420\\u0424\", \"Frequency\": 8, \"N_Articles\": 195, \"Share\": 4.1}, {\"Date\": \"2019-11-30T00:00:00\", \"Entity\": \"\\u0421\\u0428\\u0410\", \"Frequency\": 6, \"N_Articles\": 195, \"Share\": 3.1}, {\"Date\": \"2019-12-31T00:00:00\", \"Entity\": \"\\u0404\\u0421\", \"Frequency\": 21, \"N_Articles\": 172, \"Share\": 12.2}, {\"Date\": \"2019-12-31T00:00:00\", \"Entity\": \"\\u0420\\u0424\", \"Frequency\": 6, \"N_Articles\": 172, \"Share\": 3.5}, {\"Date\": \"2019-12-31T00:00:00\", \"Entity\": \"\\u0421\\u0428\\u0410\", \"Frequency\": 13, \"N_Articles\": 172, \"Share\": 7.6}, {\"Date\": \"2020-01-31T00:00:00\", \"Entity\": \"\\u0404\\u0421\", \"Frequency\": 13, \"N_Articles\": 123, \"Share\": 10.6}, {\"Date\": \"2020-01-31T00:00:00\", \"Entity\": \"\\u041c\\u0412\\u0424\", \"Frequency\": 2, \"N_Articles\": 123, \"Share\": 1.6}, {\"Date\": \"2020-01-31T00:00:00\", \"Entity\": \"\\u0420\\u0424\", \"Frequency\": 9, \"N_Articles\": 123, \"Share\": 7.3}, {\"Date\": \"2020-01-31T00:00:00\", \"Entity\": \"\\u0421\\u0428\\u0410\", \"Frequency\": 5, \"N_Articles\": 123, \"Share\": 4.1}, {\"Date\": \"2020-02-29T00:00:00\", \"Entity\": \"\\u0404\\u0421\", \"Frequency\": 10, \"N_Articles\": 197, \"Share\": 5.1}, {\"Date\": \"2020-02-29T00:00:00\", \"Entity\": \"\\u0420\\u0424\", \"Frequency\": 1, \"N_Articles\": 197, \"Share\": 0.5}, {\"Date\": \"2020-02-29T00:00:00\", \"Entity\": \"\\u0421\\u0428\\u0410\", \"Frequency\": 7, \"N_Articles\": 197, \"Share\": 3.6}, {\"Date\": \"2020-03-31T00:00:00\", \"Entity\": \"\\u0404\\u0421\", \"Frequency\": 12, \"N_Articles\": 270, \"Share\": 4.4}, {\"Date\": \"2020-03-31T00:00:00\", \"Entity\": \"\\u0420\\u0424\", \"Frequency\": 10, \"N_Articles\": 270, \"Share\": 3.7}, {\"Date\": \"2020-03-31T00:00:00\", \"Entity\": \"\\u0421\\u0428\\u0410\", \"Frequency\": 24, \"N_Articles\": 270, \"Share\": 8.9}, {\"Date\": \"2020-04-30T00:00:00\", \"Entity\": \"\\u0404\\u0421\", \"Frequency\": 18, \"N_Articles\": 276, \"Share\": 6.5}, {\"Date\": \"2020-04-30T00:00:00\", \"Entity\": \"\\u041c\\u0412\\u0424\", \"Frequency\": 1, \"N_Articles\": 276, \"Share\": 0.4}, {\"Date\": \"2020-04-30T00:00:00\", \"Entity\": \"\\u0420\\u0424\", \"Frequency\": 7, \"N_Articles\": 276, \"Share\": 2.5}, {\"Date\": \"2020-04-30T00:00:00\", \"Entity\": \"\\u0421\\u0428\\u0410\", \"Frequency\": 17, \"N_Articles\": 276, \"Share\": 6.2}, {\"Date\": \"2020-05-31T00:00:00\", \"Entity\": \"\\u0404\\u0421\", \"Frequency\": 28, \"N_Articles\": 197, \"Share\": 14.2}, {\"Date\": \"2020-05-31T00:00:00\", \"Entity\": \"\\u0420\\u0424\", \"Frequency\": 6, \"N_Articles\": 197, \"Share\": 3.0}, {\"Date\": \"2020-05-31T00:00:00\", \"Entity\": \"\\u0421\\u0428\\u0410\", \"Frequency\": 15, \"N_Articles\": 197, \"Share\": 7.6}, {\"Date\": \"2020-06-30T00:00:00\", \"Entity\": \"\\u0404\\u0421\", \"Frequency\": 9, \"N_Articles\": 97, \"Share\": 9.3}, {\"Date\": \"2020-06-30T00:00:00\", \"Entity\": \"\\u041c\\u0412\\u0424\", \"Frequency\": 4, \"N_Articles\": 97, \"Share\": 4.1}, {\"Date\": \"2020-06-30T00:00:00\", \"Entity\": \"\\u0420\\u0424\", \"Frequency\": 3, \"N_Articles\": 97, \"Share\": 3.1}, {\"Date\": \"2020-06-30T00:00:00\", \"Entity\": \"\\u0421\\u0428\\u0410\", \"Frequency\": 10, \"N_Articles\": 97, \"Share\": 10.3}]}}, {\"mode\": \"vega-lite\"});\n",
       "</script>"
      ],
      "text/plain": [
       "alt.Chart(...)"
      ]
     },
     "execution_count": 27,
     "metadata": {},
     "output_type": "execute_result"
    }
   ],
   "source": [
    "selection = alt.selection_multi(fields=['Entity'], bind='legend')\n",
    "\n",
    "chart4 = alt.Chart(df_temp).mark_line(point=True, size =2.5, strokeDash=[1,2]).encode(\n",
    "    x=alt.X(\"Date\", axis=alt.Axis(format = (\"%b %Y\"))),\n",
    "    y=alt.Y(\"Share\", title=\"Share of Articles\"),\n",
    "    color = \"Entity\",\n",
    "    tooltip=[\"Entity\", \"Date\", \"Share\"],\n",
    "    opacity=alt.condition(selection, alt.value(1), alt.value(0.2))\n",
    ").properties(\n",
    "    width = 750,\n",
    "    #height = 450,\n",
    "    title = {\"text\":\"Figure 4. Monthly Share of Articles Mentioning 5 Selected Entities\",\n",
    "             \"subtitle\":f\"Entity Mentions are Based on Regex Matches\"}\n",
    "\n",
    ").add_selection(\n",
    "    selection\n",
    ")\n",
    "chart4"
   ]
  },
  {
   "cell_type": "markdown",
   "metadata": {},
   "source": [
    "#### 2.2.2 Top persons"
   ]
  },
  {
   "cell_type": "code",
   "execution_count": 28,
   "metadata": {},
   "outputs": [
    {
     "name": "stdout",
     "output_type": "stream",
     "text": [
      "['Віталій Шубін', 'Верховній Раді']\n"
     ]
    }
   ],
   "source": [
    "# Extracting full proper names\n",
    "pattern = \"[А-ЯІЇЄ][а-яіїє]{2,} [А-ЯІЇЄ][а-яіїє]{2,}\"\n",
    "print(re.findall(pattern, text)[:20])"
   ]
  },
  {
   "cell_type": "code",
   "execution_count": 29,
   "metadata": {},
   "outputs": [],
   "source": [
    "#Manually excluding some flase positives\n",
    "to_exclude = [\"Украї\", \"Верховн\", \"Російсь\"]"
   ]
  },
  {
   "cell_type": "code",
   "execution_count": 30,
   "metadata": {},
   "outputs": [],
   "source": [
    "#Extracting names from all texts\n",
    "df_articles[\"Names\"] = df_articles[\"Text\"].str.findall(pattern)"
   ]
  },
  {
   "cell_type": "code",
   "execution_count": 31,
   "metadata": {},
   "outputs": [
    {
     "name": "stdout",
     "output_type": "stream",
     "text": [
      "Андрій Коболєв\n",
      "Олексій Оржель\n",
      "Володимир Гройсман\n",
      "Юрій Вітренко\n",
      "Ольга Буславець\n",
      "Олексій Гончарук\n"
     ]
    }
   ],
   "source": [
    "#Some most commonly mentioned names\n",
    "for name in df_articles[\"Names\"].explode().value_counts().index[:10]:\n",
    "    if all([w not in name for w in to_exclude]):\n",
    "        print(name)"
   ]
  },
  {
   "cell_type": "code",
   "execution_count": 32,
   "metadata": {},
   "outputs": [],
   "source": [
    "#Using surnames to claculate mentions\n",
    "lookup = [\"Коболєв\", \"Оржель\", \"Гройсман\", \"Вітренко\", \"Буславець\", \"Гончарук\"]"
   ]
  },
  {
   "cell_type": "code",
   "execution_count": 33,
   "metadata": {},
   "outputs": [
    {
     "name": "stdout",
     "output_type": "stream",
     "text": [
      "Shape:(6596, 8)\n"
     ]
    },
    {
     "data": {
      "text/html": [
       "<div>\n",
       "<style scoped>\n",
       "    .dataframe tbody tr th:only-of-type {\n",
       "        vertical-align: middle;\n",
       "    }\n",
       "\n",
       "    .dataframe tbody tr th {\n",
       "        vertical-align: top;\n",
       "    }\n",
       "\n",
       "    .dataframe thead th {\n",
       "        text-align: right;\n",
       "    }\n",
       "</style>\n",
       "<table border=\"1\" class=\"dataframe\">\n",
       "  <thead>\n",
       "    <tr style=\"text-align: right;\">\n",
       "      <th></th>\n",
       "      <th>Link</th>\n",
       "      <th>Text</th>\n",
       "      <th>Коболєв</th>\n",
       "      <th>Оржель</th>\n",
       "      <th>Гройсман</th>\n",
       "      <th>Вітренко</th>\n",
       "      <th>Буславець</th>\n",
       "      <th>Гончарук</th>\n",
       "    </tr>\n",
       "    <tr>\n",
       "      <th>Date</th>\n",
       "      <th></th>\n",
       "      <th></th>\n",
       "      <th></th>\n",
       "      <th></th>\n",
       "      <th></th>\n",
       "      <th></th>\n",
       "      <th></th>\n",
       "      <th></th>\n",
       "    </tr>\n",
       "  </thead>\n",
       "  <tbody>\n",
       "    <tr>\n",
       "      <th>2017-04-12 12:10:00</th>\n",
       "      <td>https://ua-energy.org/uk/posts/u-kharkivskii-o...</td>\n",
       "      <td>У Харківській області знайдено родовище газу і...</td>\n",
       "      <td>False</td>\n",
       "      <td>False</td>\n",
       "      <td>False</td>\n",
       "      <td>False</td>\n",
       "      <td>False</td>\n",
       "      <td>False</td>\n",
       "    </tr>\n",
       "    <tr>\n",
       "      <th>2017-04-12 11:52:00</th>\n",
       "      <td>https://ua-energy.org/uk/posts/hazprom-pidpysa...</td>\n",
       "      <td>\"Газпром експорт\" уклав зі словацькою Eustream...</td>\n",
       "      <td>False</td>\n",
       "      <td>False</td>\n",
       "      <td>False</td>\n",
       "      <td>False</td>\n",
       "      <td>False</td>\n",
       "      <td>False</td>\n",
       "    </tr>\n",
       "    <tr>\n",
       "      <th>2017-04-13 15:18:00</th>\n",
       "      <td>https://ua-energy.org/uk/posts/hazprom-ne-zmih...</td>\n",
       "      <td>«Газпрому» не удалось возобновить судебное раз...</td>\n",
       "      <td>False</td>\n",
       "      <td>False</td>\n",
       "      <td>False</td>\n",
       "      <td>False</td>\n",
       "      <td>False</td>\n",
       "      <td>False</td>\n",
       "    </tr>\n",
       "    <tr>\n",
       "      <th>2017-04-24 17:45:00</th>\n",
       "      <td>https://ua-energy.org/uk/posts/sud-vidpustyv-d...</td>\n",
       "      <td>Солом'янський районний суд Києва відпустив пер...</td>\n",
       "      <td>False</td>\n",
       "      <td>False</td>\n",
       "      <td>False</td>\n",
       "      <td>False</td>\n",
       "      <td>False</td>\n",
       "      <td>False</td>\n",
       "    </tr>\n",
       "    <tr>\n",
       "      <th>2017-04-24 17:42:00</th>\n",
       "      <td>https://ua-energy.org/uk/posts/nabu-hotuie-spr...</td>\n",
       "      <td>Національне антикорупційне бюро готує справу щ...</td>\n",
       "      <td>False</td>\n",
       "      <td>False</td>\n",
       "      <td>False</td>\n",
       "      <td>False</td>\n",
       "      <td>False</td>\n",
       "      <td>False</td>\n",
       "    </tr>\n",
       "  </tbody>\n",
       "</table>\n",
       "</div>"
      ],
      "text/plain": [
       "                                                                  Link  \\\n",
       "Date                                                                     \n",
       "2017-04-12 12:10:00  https://ua-energy.org/uk/posts/u-kharkivskii-o...   \n",
       "2017-04-12 11:52:00  https://ua-energy.org/uk/posts/hazprom-pidpysa...   \n",
       "2017-04-13 15:18:00  https://ua-energy.org/uk/posts/hazprom-ne-zmih...   \n",
       "2017-04-24 17:45:00  https://ua-energy.org/uk/posts/sud-vidpustyv-d...   \n",
       "2017-04-24 17:42:00  https://ua-energy.org/uk/posts/nabu-hotuie-spr...   \n",
       "\n",
       "                                                                  Text  \\\n",
       "Date                                                                     \n",
       "2017-04-12 12:10:00  У Харківській області знайдено родовище газу і...   \n",
       "2017-04-12 11:52:00  \"Газпром експорт\" уклав зі словацькою Eustream...   \n",
       "2017-04-13 15:18:00  «Газпрому» не удалось возобновить судебное раз...   \n",
       "2017-04-24 17:45:00  Солом'янський районний суд Києва відпустив пер...   \n",
       "2017-04-24 17:42:00  Національне антикорупційне бюро готує справу щ...   \n",
       "\n",
       "                     Коболєв  Оржель  Гройсман  Вітренко  Буславець  Гончарук  \n",
       "Date                                                                           \n",
       "2017-04-12 12:10:00    False   False     False     False      False     False  \n",
       "2017-04-12 11:52:00    False   False     False     False      False     False  \n",
       "2017-04-13 15:18:00    False   False     False     False      False     False  \n",
       "2017-04-24 17:45:00    False   False     False     False      False     False  \n",
       "2017-04-24 17:42:00    False   False     False     False      False     False  "
      ]
     },
     "metadata": {},
     "output_type": "display_data"
    }
   ],
   "source": [
    "#Selecting relevant columns\n",
    "df_temp = df_articles[[\"Link\", \"Date\", \"Text\"]].copy()\n",
    "\n",
    "#Determining if the person is mentioned in the text or not\n",
    "for name in lookup:\n",
    "    df_temp[name] = df_temp[\"Text\"].str.contains(name)\n",
    "\n",
    "df_temp.set_index('Date', inplace = True)\n",
    "print(f\"Shape:{df_temp.shape}\")\n",
    "\n",
    "display(df_temp.head())"
   ]
  },
  {
   "cell_type": "code",
   "execution_count": 34,
   "metadata": {},
   "outputs": [
    {
     "name": "stdout",
     "output_type": "stream",
     "text": [
      "Shape before:(6596, 8)\n",
      "Shape after:(39, 7)\n",
      "Shape after:(234, 3)\n",
      "Shape after:(145, 3)\n"
     ]
    },
    {
     "data": {
      "text/html": [
       "<div>\n",
       "<style scoped>\n",
       "    .dataframe tbody tr th:only-of-type {\n",
       "        vertical-align: middle;\n",
       "    }\n",
       "\n",
       "    .dataframe tbody tr th {\n",
       "        vertical-align: top;\n",
       "    }\n",
       "\n",
       "    .dataframe thead th {\n",
       "        text-align: right;\n",
       "    }\n",
       "</style>\n",
       "<table border=\"1\" class=\"dataframe\">\n",
       "  <thead>\n",
       "    <tr style=\"text-align: right;\">\n",
       "      <th></th>\n",
       "      <th>Date</th>\n",
       "      <th>Name</th>\n",
       "      <th>Share</th>\n",
       "    </tr>\n",
       "  </thead>\n",
       "  <tbody>\n",
       "    <tr>\n",
       "      <th>0</th>\n",
       "      <td>2017-04-30</td>\n",
       "      <td>Коболєв</td>\n",
       "      <td>2.0</td>\n",
       "    </tr>\n",
       "    <tr>\n",
       "      <th>1</th>\n",
       "      <td>2017-05-31</td>\n",
       "      <td>Коболєв</td>\n",
       "      <td>1.5</td>\n",
       "    </tr>\n",
       "    <tr>\n",
       "      <th>2</th>\n",
       "      <td>2017-06-30</td>\n",
       "      <td>Коболєв</td>\n",
       "      <td>6.2</td>\n",
       "    </tr>\n",
       "    <tr>\n",
       "      <th>3</th>\n",
       "      <td>2017-07-31</td>\n",
       "      <td>Коболєв</td>\n",
       "      <td>1.6</td>\n",
       "    </tr>\n",
       "    <tr>\n",
       "      <th>4</th>\n",
       "      <td>2017-08-31</td>\n",
       "      <td>Коболєв</td>\n",
       "      <td>2.4</td>\n",
       "    </tr>\n",
       "  </tbody>\n",
       "</table>\n",
       "</div>"
      ],
      "text/plain": [
       "        Date     Name  Share\n",
       "0 2017-04-30  Коболєв    2.0\n",
       "1 2017-05-31  Коболєв    1.5\n",
       "2 2017-06-30  Коболєв    6.2\n",
       "3 2017-07-31  Коболєв    1.6\n",
       "4 2017-08-31  Коболєв    2.4"
      ]
     },
     "metadata": {},
     "output_type": "display_data"
    }
   ],
   "source": [
    "print(f\"Shape before:{df_temp.shape}\")\n",
    "\n",
    "#Aggregating data by month and calculating the number of articles mentioning each person\n",
    "df_temp = df_temp.groupby(pd.Grouper(freq = \"M\"))[lookup].sum()\n",
    "\n",
    "#Calculating the share of articles\n",
    "df_temp = df_temp.divide(df_n[\"N_Articles\"], axis = 0).multiply(100).round(1)\n",
    "\n",
    "#Prettifying the dataframe\n",
    "df_temp.reset_index(inplace = True)\n",
    "print(f\"Shape after:{df_temp.shape}\")\n",
    "\n",
    "#Converting from wide to long format\n",
    "df_temp = df_temp.melt(id_vars = \"Date\", var_name = \"Name\", value_name = \"Share\")\n",
    "print(f\"Shape after:{df_temp.shape}\")\n",
    "\n",
    "#Selecting only observations with 1 or more mentions\n",
    "df_temp = df_temp.query(\"Share > 0\")\n",
    "print(f\"Shape after:{df_temp.shape}\")\n",
    "\n",
    "display(df_temp.head())"
   ]
  },
  {
   "cell_type": "code",
   "execution_count": 35,
   "metadata": {},
   "outputs": [
    {
     "data": {
      "text/html": [
       "\n",
       "<div id=\"altair-viz-083181b6719241a09c089bcb520325f7\"></div>\n",
       "<script type=\"text/javascript\">\n",
       "  (function(spec, embedOpt){\n",
       "    let outputDiv = document.currentScript.previousElementSibling;\n",
       "    if (outputDiv.id !== \"altair-viz-083181b6719241a09c089bcb520325f7\") {\n",
       "      outputDiv = document.getElementById(\"altair-viz-083181b6719241a09c089bcb520325f7\");\n",
       "    }\n",
       "    const paths = {\n",
       "      \"vega\": \"https://cdn.jsdelivr.net/npm//vega@5?noext\",\n",
       "      \"vega-lib\": \"https://cdn.jsdelivr.net/npm//vega-lib?noext\",\n",
       "      \"vega-lite\": \"https://cdn.jsdelivr.net/npm//vega-lite@4.8.1?noext\",\n",
       "      \"vega-embed\": \"https://cdn.jsdelivr.net/npm//vega-embed@6?noext\",\n",
       "    };\n",
       "\n",
       "    function loadScript(lib) {\n",
       "      return new Promise(function(resolve, reject) {\n",
       "        var s = document.createElement('script');\n",
       "        s.src = paths[lib];\n",
       "        s.async = true;\n",
       "        s.onload = () => resolve(paths[lib]);\n",
       "        s.onerror = () => reject(`Error loading script: ${paths[lib]}`);\n",
       "        document.getElementsByTagName(\"head\")[0].appendChild(s);\n",
       "      });\n",
       "    }\n",
       "\n",
       "    function showError(err) {\n",
       "      outputDiv.innerHTML = `<div class=\"error\" style=\"color:red;\">${err}</div>`;\n",
       "      throw err;\n",
       "    }\n",
       "\n",
       "    function displayChart(vegaEmbed) {\n",
       "      vegaEmbed(outputDiv, spec, embedOpt)\n",
       "        .catch(err => showError(`Javascript Error: ${err.message}<br>This usually means there's a typo in your chart specification. See the javascript console for the full traceback.`));\n",
       "    }\n",
       "\n",
       "    if(typeof define === \"function\" && define.amd) {\n",
       "      requirejs.config({paths});\n",
       "      require([\"vega-embed\"], displayChart, err => showError(`Error loading script: ${err.message}`));\n",
       "    } else if (typeof vegaEmbed === \"function\") {\n",
       "      displayChart(vegaEmbed);\n",
       "    } else {\n",
       "      loadScript(\"vega\")\n",
       "        .then(() => loadScript(\"vega-lite\"))\n",
       "        .then(() => loadScript(\"vega-embed\"))\n",
       "        .catch(showError)\n",
       "        .then(() => displayChart(vegaEmbed));\n",
       "    }\n",
       "  })({\"config\": {\"view\": {\"continuousWidth\": 400, \"continuousHeight\": 300}}, \"data\": {\"name\": \"data-3b843f9f4f5fe846845e90d8d7431764\"}, \"mark\": {\"type\": \"line\", \"point\": true, \"size\": 2.5, \"strokeDash\": [1, 2]}, \"encoding\": {\"color\": {\"type\": \"nominal\", \"field\": \"Name\"}, \"opacity\": {\"condition\": {\"value\": 1, \"selection\": \"selector005\"}, \"value\": 0.2}, \"tooltip\": [{\"type\": \"nominal\", \"field\": \"Name\"}, {\"type\": \"temporal\", \"field\": \"Date\"}, {\"type\": \"quantitative\", \"field\": \"Share\"}], \"x\": {\"type\": \"temporal\", \"axis\": {\"format\": \"%b %Y\"}, \"field\": \"Date\"}, \"y\": {\"type\": \"quantitative\", \"field\": \"Share\", \"title\": \"Share of Articles\"}}, \"selection\": {\"selector005\": {\"type\": \"multi\", \"fields\": [\"Name\"], \"bind\": \"legend\"}}, \"title\": {\"text\": \"Figure 5. Monthly Share of Articles Mentioning Top 6 Persons\", \"subtitle\": \"Person Mentions are Based on Regex Matches\"}, \"width\": 750, \"$schema\": \"https://vega.github.io/schema/vega-lite/v4.8.1.json\", \"datasets\": {\"data-3b843f9f4f5fe846845e90d8d7431764\": [{\"Date\": \"2017-04-30T00:00:00\", \"Name\": \"\\u041a\\u043e\\u0431\\u043e\\u043b\\u0454\\u0432\", \"Share\": 2.0}, {\"Date\": \"2017-05-31T00:00:00\", \"Name\": \"\\u041a\\u043e\\u0431\\u043e\\u043b\\u0454\\u0432\", \"Share\": 1.5}, {\"Date\": \"2017-06-30T00:00:00\", \"Name\": \"\\u041a\\u043e\\u0431\\u043e\\u043b\\u0454\\u0432\", \"Share\": 6.2}, {\"Date\": \"2017-07-31T00:00:00\", \"Name\": \"\\u041a\\u043e\\u0431\\u043e\\u043b\\u0454\\u0432\", \"Share\": 1.6}, {\"Date\": \"2017-08-31T00:00:00\", \"Name\": \"\\u041a\\u043e\\u0431\\u043e\\u043b\\u0454\\u0432\", \"Share\": 2.4}, {\"Date\": \"2017-09-30T00:00:00\", \"Name\": \"\\u041a\\u043e\\u0431\\u043e\\u043b\\u0454\\u0432\", \"Share\": 2.9}, {\"Date\": \"2017-10-31T00:00:00\", \"Name\": \"\\u041a\\u043e\\u0431\\u043e\\u043b\\u0454\\u0432\", \"Share\": 0.4}, {\"Date\": \"2017-11-30T00:00:00\", \"Name\": \"\\u041a\\u043e\\u0431\\u043e\\u043b\\u0454\\u0432\", \"Share\": 2.0}, {\"Date\": \"2017-12-31T00:00:00\", \"Name\": \"\\u041a\\u043e\\u0431\\u043e\\u043b\\u0454\\u0432\", \"Share\": 3.0}, {\"Date\": \"2018-01-31T00:00:00\", \"Name\": \"\\u041a\\u043e\\u0431\\u043e\\u043b\\u0454\\u0432\", \"Share\": 3.3}, {\"Date\": \"2018-02-28T00:00:00\", \"Name\": \"\\u041a\\u043e\\u0431\\u043e\\u043b\\u0454\\u0432\", \"Share\": 3.7}, {\"Date\": \"2018-03-31T00:00:00\", \"Name\": \"\\u041a\\u043e\\u0431\\u043e\\u043b\\u0454\\u0432\", \"Share\": 5.3}, {\"Date\": \"2018-04-30T00:00:00\", \"Name\": \"\\u041a\\u043e\\u0431\\u043e\\u043b\\u0454\\u0432\", \"Share\": 3.3}, {\"Date\": \"2018-05-31T00:00:00\", \"Name\": \"\\u041a\\u043e\\u0431\\u043e\\u043b\\u0454\\u0432\", \"Share\": 3.1}, {\"Date\": \"2018-06-30T00:00:00\", \"Name\": \"\\u041a\\u043e\\u0431\\u043e\\u043b\\u0454\\u0432\", \"Share\": 4.4}, {\"Date\": \"2018-07-31T00:00:00\", \"Name\": \"\\u041a\\u043e\\u0431\\u043e\\u043b\\u0454\\u0432\", \"Share\": 3.3}, {\"Date\": \"2018-08-31T00:00:00\", \"Name\": \"\\u041a\\u043e\\u0431\\u043e\\u043b\\u0454\\u0432\", \"Share\": 3.5}, {\"Date\": \"2018-09-30T00:00:00\", \"Name\": \"\\u041a\\u043e\\u0431\\u043e\\u043b\\u0454\\u0432\", \"Share\": 4.3}, {\"Date\": \"2018-10-31T00:00:00\", \"Name\": \"\\u041a\\u043e\\u0431\\u043e\\u043b\\u0454\\u0432\", \"Share\": 3.7}, {\"Date\": \"2018-11-30T00:00:00\", \"Name\": \"\\u041a\\u043e\\u0431\\u043e\\u043b\\u0454\\u0432\", \"Share\": 9.3}, {\"Date\": \"2018-12-31T00:00:00\", \"Name\": \"\\u041a\\u043e\\u0431\\u043e\\u043b\\u0454\\u0432\", \"Share\": 3.9}, {\"Date\": \"2019-01-31T00:00:00\", \"Name\": \"\\u041a\\u043e\\u0431\\u043e\\u043b\\u0454\\u0432\", \"Share\": 14.3}, {\"Date\": \"2019-02-28T00:00:00\", \"Name\": \"\\u041a\\u043e\\u0431\\u043e\\u043b\\u0454\\u0432\", \"Share\": 14.8}, {\"Date\": \"2019-03-31T00:00:00\", \"Name\": \"\\u041a\\u043e\\u0431\\u043e\\u043b\\u0454\\u0432\", \"Share\": 11.6}, {\"Date\": \"2019-04-30T00:00:00\", \"Name\": \"\\u041a\\u043e\\u0431\\u043e\\u043b\\u0454\\u0432\", \"Share\": 8.3}, {\"Date\": \"2019-05-31T00:00:00\", \"Name\": \"\\u041a\\u043e\\u0431\\u043e\\u043b\\u0454\\u0432\", \"Share\": 6.1}, {\"Date\": \"2019-06-30T00:00:00\", \"Name\": \"\\u041a\\u043e\\u0431\\u043e\\u043b\\u0454\\u0432\", \"Share\": 9.6}, {\"Date\": \"2019-07-31T00:00:00\", \"Name\": \"\\u041a\\u043e\\u0431\\u043e\\u043b\\u0454\\u0432\", \"Share\": 9.0}, {\"Date\": \"2019-08-31T00:00:00\", \"Name\": \"\\u041a\\u043e\\u0431\\u043e\\u043b\\u0454\\u0432\", \"Share\": 3.8}, {\"Date\": \"2019-09-30T00:00:00\", \"Name\": \"\\u041a\\u043e\\u0431\\u043e\\u043b\\u0454\\u0432\", \"Share\": 8.4}, {\"Date\": \"2019-10-31T00:00:00\", \"Name\": \"\\u041a\\u043e\\u0431\\u043e\\u043b\\u0454\\u0432\", \"Share\": 6.6}, {\"Date\": \"2019-11-30T00:00:00\", \"Name\": \"\\u041a\\u043e\\u0431\\u043e\\u043b\\u0454\\u0432\", \"Share\": 2.6}, {\"Date\": \"2019-12-31T00:00:00\", \"Name\": \"\\u041a\\u043e\\u0431\\u043e\\u043b\\u0454\\u0432\", \"Share\": 13.4}, {\"Date\": \"2020-01-31T00:00:00\", \"Name\": \"\\u041a\\u043e\\u0431\\u043e\\u043b\\u0454\\u0432\", \"Share\": 7.3}, {\"Date\": \"2020-02-29T00:00:00\", \"Name\": \"\\u041a\\u043e\\u0431\\u043e\\u043b\\u0454\\u0432\", \"Share\": 5.6}, {\"Date\": \"2020-03-31T00:00:00\", \"Name\": \"\\u041a\\u043e\\u0431\\u043e\\u043b\\u0454\\u0432\", \"Share\": 3.0}, {\"Date\": \"2020-04-30T00:00:00\", \"Name\": \"\\u041a\\u043e\\u0431\\u043e\\u043b\\u0454\\u0432\", \"Share\": 2.9}, {\"Date\": \"2020-05-31T00:00:00\", \"Name\": \"\\u041a\\u043e\\u0431\\u043e\\u043b\\u0454\\u0432\", \"Share\": 2.5}, {\"Date\": \"2020-06-30T00:00:00\", \"Name\": \"\\u041a\\u043e\\u0431\\u043e\\u043b\\u0454\\u0432\", \"Share\": 9.3}, {\"Date\": \"2019-08-31T00:00:00\", \"Name\": \"\\u041e\\u0440\\u0436\\u0435\\u043b\\u044c\", \"Share\": 2.3}, {\"Date\": \"2019-09-30T00:00:00\", \"Name\": \"\\u041e\\u0440\\u0436\\u0435\\u043b\\u044c\", \"Share\": 14.5}, {\"Date\": \"2019-10-31T00:00:00\", \"Name\": \"\\u041e\\u0440\\u0436\\u0435\\u043b\\u044c\", \"Share\": 17.9}, {\"Date\": \"2019-11-30T00:00:00\", \"Name\": \"\\u041e\\u0440\\u0436\\u0435\\u043b\\u044c\", \"Share\": 19.5}, {\"Date\": \"2019-12-31T00:00:00\", \"Name\": \"\\u041e\\u0440\\u0436\\u0435\\u043b\\u044c\", \"Share\": 25.6}, {\"Date\": \"2020-01-31T00:00:00\", \"Name\": \"\\u041e\\u0440\\u0436\\u0435\\u043b\\u044c\", \"Share\": 15.4}, {\"Date\": \"2020-02-29T00:00:00\", \"Name\": \"\\u041e\\u0440\\u0436\\u0435\\u043b\\u044c\", \"Share\": 13.2}, {\"Date\": \"2020-03-31T00:00:00\", \"Name\": \"\\u041e\\u0440\\u0436\\u0435\\u043b\\u044c\", \"Share\": 5.9}, {\"Date\": \"2020-04-30T00:00:00\", \"Name\": \"\\u041e\\u0440\\u0436\\u0435\\u043b\\u044c\", \"Share\": 0.7}, {\"Date\": \"2020-05-31T00:00:00\", \"Name\": \"\\u041e\\u0440\\u0436\\u0435\\u043b\\u044c\", \"Share\": 1.5}, {\"Date\": \"2020-06-30T00:00:00\", \"Name\": \"\\u041e\\u0440\\u0436\\u0435\\u043b\\u044c\", \"Share\": 1.0}, {\"Date\": \"2017-04-30T00:00:00\", \"Name\": \"\\u0413\\u0440\\u043e\\u0439\\u0441\\u043c\\u0430\\u043d\", \"Share\": 10.2}, {\"Date\": \"2017-05-31T00:00:00\", \"Name\": \"\\u0413\\u0440\\u043e\\u0439\\u0441\\u043c\\u0430\\u043d\", \"Share\": 4.5}, {\"Date\": \"2017-06-30T00:00:00\", \"Name\": \"\\u0413\\u0440\\u043e\\u0439\\u0441\\u043c\\u0430\\u043d\", \"Share\": 5.5}, {\"Date\": \"2017-07-31T00:00:00\", \"Name\": \"\\u0413\\u0440\\u043e\\u0439\\u0441\\u043c\\u0430\\u043d\", \"Share\": 4.3}, {\"Date\": \"2017-08-31T00:00:00\", \"Name\": \"\\u0413\\u0440\\u043e\\u0439\\u0441\\u043c\\u0430\\u043d\", \"Share\": 5.4}, {\"Date\": \"2017-09-30T00:00:00\", \"Name\": \"\\u0413\\u0440\\u043e\\u0439\\u0441\\u043c\\u0430\\u043d\", \"Share\": 8.6}, {\"Date\": \"2017-10-31T00:00:00\", \"Name\": \"\\u0413\\u0440\\u043e\\u0439\\u0441\\u043c\\u0430\\u043d\", \"Share\": 4.7}, {\"Date\": \"2017-11-30T00:00:00\", \"Name\": \"\\u0413\\u0440\\u043e\\u0439\\u0441\\u043c\\u0430\\u043d\", \"Share\": 4.8}, {\"Date\": \"2017-12-31T00:00:00\", \"Name\": \"\\u0413\\u0440\\u043e\\u0439\\u0441\\u043c\\u0430\\u043d\", \"Share\": 4.0}, {\"Date\": \"2018-01-31T00:00:00\", \"Name\": \"\\u0413\\u0440\\u043e\\u0439\\u0441\\u043c\\u0430\\u043d\", \"Share\": 4.7}, {\"Date\": \"2018-02-28T00:00:00\", \"Name\": \"\\u0413\\u0440\\u043e\\u0439\\u0441\\u043c\\u0430\\u043d\", \"Share\": 4.6}, {\"Date\": \"2018-03-31T00:00:00\", \"Name\": \"\\u0413\\u0440\\u043e\\u0439\\u0441\\u043c\\u0430\\u043d\", \"Share\": 5.3}, {\"Date\": \"2018-04-30T00:00:00\", \"Name\": \"\\u0413\\u0440\\u043e\\u0439\\u0441\\u043c\\u0430\\u043d\", \"Share\": 3.3}, {\"Date\": \"2018-05-31T00:00:00\", \"Name\": \"\\u0413\\u0440\\u043e\\u0439\\u0441\\u043c\\u0430\\u043d\", \"Share\": 4.6}, {\"Date\": \"2018-06-30T00:00:00\", \"Name\": \"\\u0413\\u0440\\u043e\\u0439\\u0441\\u043c\\u0430\\u043d\", \"Share\": 7.0}, {\"Date\": \"2018-07-31T00:00:00\", \"Name\": \"\\u0413\\u0440\\u043e\\u0439\\u0441\\u043c\\u0430\\u043d\", \"Share\": 7.6}, {\"Date\": \"2018-08-31T00:00:00\", \"Name\": \"\\u0413\\u0440\\u043e\\u0439\\u0441\\u043c\\u0430\\u043d\", \"Share\": 4.0}, {\"Date\": \"2018-09-30T00:00:00\", \"Name\": \"\\u0413\\u0440\\u043e\\u0439\\u0441\\u043c\\u0430\\u043d\", \"Share\": 4.3}, {\"Date\": \"2018-10-31T00:00:00\", \"Name\": \"\\u0413\\u0440\\u043e\\u0439\\u0441\\u043c\\u0430\\u043d\", \"Share\": 12.4}, {\"Date\": \"2018-11-30T00:00:00\", \"Name\": \"\\u0413\\u0440\\u043e\\u0439\\u0441\\u043c\\u0430\\u043d\", \"Share\": 11.0}, {\"Date\": \"2018-12-31T00:00:00\", \"Name\": \"\\u0413\\u0440\\u043e\\u0439\\u0441\\u043c\\u0430\\u043d\", \"Share\": 7.0}, {\"Date\": \"2019-01-31T00:00:00\", \"Name\": \"\\u0413\\u0440\\u043e\\u0439\\u0441\\u043c\\u0430\\u043d\", \"Share\": 7.6}, {\"Date\": \"2019-02-28T00:00:00\", \"Name\": \"\\u0413\\u0440\\u043e\\u0439\\u0441\\u043c\\u0430\\u043d\", \"Share\": 3.3}, {\"Date\": \"2019-03-31T00:00:00\", \"Name\": \"\\u0413\\u0440\\u043e\\u0439\\u0441\\u043c\\u0430\\u043d\", \"Share\": 9.3}, {\"Date\": \"2019-04-30T00:00:00\", \"Name\": \"\\u0413\\u0440\\u043e\\u0439\\u0441\\u043c\\u0430\\u043d\", \"Share\": 9.3}, {\"Date\": \"2019-05-31T00:00:00\", \"Name\": \"\\u0413\\u0440\\u043e\\u0439\\u0441\\u043c\\u0430\\u043d\", \"Share\": 11.1}, {\"Date\": \"2019-06-30T00:00:00\", \"Name\": \"\\u0413\\u0440\\u043e\\u0439\\u0441\\u043c\\u0430\\u043d\", \"Share\": 11.0}, {\"Date\": \"2019-07-31T00:00:00\", \"Name\": \"\\u0413\\u0440\\u043e\\u0439\\u0441\\u043c\\u0430\\u043d\", \"Share\": 6.2}, {\"Date\": \"2019-08-31T00:00:00\", \"Name\": \"\\u0413\\u0440\\u043e\\u0439\\u0441\\u043c\\u0430\\u043d\", \"Share\": 3.8}, {\"Date\": \"2019-09-30T00:00:00\", \"Name\": \"\\u0413\\u0440\\u043e\\u0439\\u0441\\u043c\\u0430\\u043d\", \"Share\": 5.4}, {\"Date\": \"2019-10-31T00:00:00\", \"Name\": \"\\u0413\\u0440\\u043e\\u0439\\u0441\\u043c\\u0430\\u043d\", \"Share\": 3.9}, {\"Date\": \"2019-11-30T00:00:00\", \"Name\": \"\\u0413\\u0440\\u043e\\u0439\\u0441\\u043c\\u0430\\u043d\", \"Share\": 2.6}, {\"Date\": \"2019-12-31T00:00:00\", \"Name\": \"\\u0413\\u0440\\u043e\\u0439\\u0441\\u043c\\u0430\\u043d\", \"Share\": 1.7}, {\"Date\": \"2020-01-31T00:00:00\", \"Name\": \"\\u0413\\u0440\\u043e\\u0439\\u0441\\u043c\\u0430\\u043d\", \"Share\": 0.8}, {\"Date\": \"2020-02-29T00:00:00\", \"Name\": \"\\u0413\\u0440\\u043e\\u0439\\u0441\\u043c\\u0430\\u043d\", \"Share\": 1.5}, {\"Date\": \"2020-04-30T00:00:00\", \"Name\": \"\\u0413\\u0440\\u043e\\u0439\\u0441\\u043c\\u0430\\u043d\", \"Share\": 0.4}, {\"Date\": \"2017-05-31T00:00:00\", \"Name\": \"\\u0412\\u0456\\u0442\\u0440\\u0435\\u043d\\u043a\\u043e\", \"Share\": 1.5}, {\"Date\": \"2017-06-30T00:00:00\", \"Name\": \"\\u0412\\u0456\\u0442\\u0440\\u0435\\u043d\\u043a\\u043e\", \"Share\": 1.4}, {\"Date\": \"2017-07-31T00:00:00\", \"Name\": \"\\u0412\\u0456\\u0442\\u0440\\u0435\\u043d\\u043a\\u043e\", \"Share\": 0.4}, {\"Date\": \"2017-08-31T00:00:00\", \"Name\": \"\\u0412\\u0456\\u0442\\u0440\\u0435\\u043d\\u043a\\u043e\", \"Share\": 1.8}, {\"Date\": \"2017-09-30T00:00:00\", \"Name\": \"\\u0412\\u0456\\u0442\\u0440\\u0435\\u043d\\u043a\\u043e\", \"Share\": 0.4}, {\"Date\": \"2017-10-31T00:00:00\", \"Name\": \"\\u0412\\u0456\\u0442\\u0440\\u0435\\u043d\\u043a\\u043e\", \"Share\": 0.4}, {\"Date\": \"2017-11-30T00:00:00\", \"Name\": \"\\u0412\\u0456\\u0442\\u0440\\u0435\\u043d\\u043a\\u043e\", \"Share\": 0.8}, {\"Date\": \"2017-12-31T00:00:00\", \"Name\": \"\\u0412\\u0456\\u0442\\u0440\\u0435\\u043d\\u043a\\u043e\", \"Share\": 2.0}, {\"Date\": \"2018-02-28T00:00:00\", \"Name\": \"\\u0412\\u0456\\u0442\\u0440\\u0435\\u043d\\u043a\\u043e\", \"Share\": 0.9}, {\"Date\": \"2018-03-31T00:00:00\", \"Name\": \"\\u0412\\u0456\\u0442\\u0440\\u0435\\u043d\\u043a\\u043e\", \"Share\": 5.7}, {\"Date\": \"2018-04-30T00:00:00\", \"Name\": \"\\u0412\\u0456\\u0442\\u0440\\u0435\\u043d\\u043a\\u043e\", \"Share\": 1.1}, {\"Date\": \"2018-05-31T00:00:00\", \"Name\": \"\\u0412\\u0456\\u0442\\u0440\\u0435\\u043d\\u043a\\u043e\", \"Share\": 0.5}, {\"Date\": \"2018-06-30T00:00:00\", \"Name\": \"\\u0412\\u0456\\u0442\\u0440\\u0435\\u043d\\u043a\\u043e\", \"Share\": 3.2}, {\"Date\": \"2018-07-31T00:00:00\", \"Name\": \"\\u0412\\u0456\\u0442\\u0440\\u0435\\u043d\\u043a\\u043e\", \"Share\": 3.3}, {\"Date\": \"2018-08-31T00:00:00\", \"Name\": \"\\u0412\\u0456\\u0442\\u0440\\u0435\\u043d\\u043a\\u043e\", \"Share\": 0.9}, {\"Date\": \"2018-09-30T00:00:00\", \"Name\": \"\\u0412\\u0456\\u0442\\u0440\\u0435\\u043d\\u043a\\u043e\", \"Share\": 5.9}, {\"Date\": \"2018-10-31T00:00:00\", \"Name\": \"\\u0412\\u0456\\u0442\\u0440\\u0435\\u043d\\u043a\\u043e\", \"Share\": 2.8}, {\"Date\": \"2018-11-30T00:00:00\", \"Name\": \"\\u0412\\u0456\\u0442\\u0440\\u0435\\u043d\\u043a\\u043e\", \"Share\": 0.6}, {\"Date\": \"2018-12-31T00:00:00\", \"Name\": \"\\u0412\\u0456\\u0442\\u0440\\u0435\\u043d\\u043a\\u043e\", \"Share\": 0.8}, {\"Date\": \"2019-01-31T00:00:00\", \"Name\": \"\\u0412\\u0456\\u0442\\u0440\\u0435\\u043d\\u043a\\u043e\", \"Share\": 4.8}, {\"Date\": \"2019-02-28T00:00:00\", \"Name\": \"\\u0412\\u0456\\u0442\\u0440\\u0435\\u043d\\u043a\\u043e\", \"Share\": 1.6}, {\"Date\": \"2019-04-30T00:00:00\", \"Name\": \"\\u0412\\u0456\\u0442\\u0440\\u0435\\u043d\\u043a\\u043e\", \"Share\": 0.9}, {\"Date\": \"2019-05-31T00:00:00\", \"Name\": \"\\u0412\\u0456\\u0442\\u0440\\u0435\\u043d\\u043a\\u043e\", \"Share\": 1.0}, {\"Date\": \"2019-06-30T00:00:00\", \"Name\": \"\\u0412\\u0456\\u0442\\u0440\\u0435\\u043d\\u043a\\u043e\", \"Share\": 1.4}, {\"Date\": \"2019-07-31T00:00:00\", \"Name\": \"\\u0412\\u0456\\u0442\\u0440\\u0435\\u043d\\u043a\\u043e\", \"Share\": 2.1}, {\"Date\": \"2019-09-30T00:00:00\", \"Name\": \"\\u0412\\u0456\\u0442\\u0440\\u0435\\u043d\\u043a\\u043e\", \"Share\": 1.8}, {\"Date\": \"2019-10-31T00:00:00\", \"Name\": \"\\u0412\\u0456\\u0442\\u0440\\u0435\\u043d\\u043a\\u043e\", \"Share\": 1.3}, {\"Date\": \"2019-11-30T00:00:00\", \"Name\": \"\\u0412\\u0456\\u0442\\u0440\\u0435\\u043d\\u043a\\u043e\", \"Share\": 4.1}, {\"Date\": \"2019-12-31T00:00:00\", \"Name\": \"\\u0412\\u0456\\u0442\\u0440\\u0435\\u043d\\u043a\\u043e\", \"Share\": 10.5}, {\"Date\": \"2020-01-31T00:00:00\", \"Name\": \"\\u0412\\u0456\\u0442\\u0440\\u0435\\u043d\\u043a\\u043e\", \"Share\": 11.4}, {\"Date\": \"2020-02-29T00:00:00\", \"Name\": \"\\u0412\\u0456\\u0442\\u0440\\u0435\\u043d\\u043a\\u043e\", \"Share\": 3.6}, {\"Date\": \"2020-03-31T00:00:00\", \"Name\": \"\\u0412\\u0456\\u0442\\u0440\\u0435\\u043d\\u043a\\u043e\", \"Share\": 0.4}, {\"Date\": \"2020-04-30T00:00:00\", \"Name\": \"\\u0412\\u0456\\u0442\\u0440\\u0435\\u043d\\u043a\\u043e\", \"Share\": 1.4}, {\"Date\": \"2020-05-31T00:00:00\", \"Name\": \"\\u0412\\u0456\\u0442\\u0440\\u0435\\u043d\\u043a\\u043e\", \"Share\": 4.6}, {\"Date\": \"2020-06-30T00:00:00\", \"Name\": \"\\u0412\\u0456\\u0442\\u0440\\u0435\\u043d\\u043a\\u043e\", \"Share\": 1.0}, {\"Date\": \"2017-12-31T00:00:00\", \"Name\": \"\\u0411\\u0443\\u0441\\u043b\\u0430\\u0432\\u0435\\u0446\\u044c\", \"Share\": 0.5}, {\"Date\": \"2018-01-31T00:00:00\", \"Name\": \"\\u0411\\u0443\\u0441\\u043b\\u0430\\u0432\\u0435\\u0446\\u044c\", \"Share\": 0.5}, {\"Date\": \"2018-02-28T00:00:00\", \"Name\": \"\\u0411\\u0443\\u0441\\u043b\\u0430\\u0432\\u0435\\u0446\\u044c\", \"Share\": 0.5}, {\"Date\": \"2018-04-30T00:00:00\", \"Name\": \"\\u0411\\u0443\\u0441\\u043b\\u0430\\u0432\\u0435\\u0446\\u044c\", \"Share\": 0.5}, {\"Date\": \"2018-08-31T00:00:00\", \"Name\": \"\\u0411\\u0443\\u0441\\u043b\\u0430\\u0432\\u0435\\u0446\\u044c\", \"Share\": 0.4}, {\"Date\": \"2018-09-30T00:00:00\", \"Name\": \"\\u0411\\u0443\\u0441\\u043b\\u0430\\u0432\\u0435\\u0446\\u044c\", \"Share\": 0.5}, {\"Date\": \"2018-11-30T00:00:00\", \"Name\": \"\\u0411\\u0443\\u0441\\u043b\\u0430\\u0432\\u0435\\u0446\\u044c\", \"Share\": 0.6}, {\"Date\": \"2019-01-31T00:00:00\", \"Name\": \"\\u0411\\u0443\\u0441\\u043b\\u0430\\u0432\\u0435\\u0446\\u044c\", \"Share\": 1.0}, {\"Date\": \"2019-02-28T00:00:00\", \"Name\": \"\\u0411\\u0443\\u0441\\u043b\\u0430\\u0432\\u0435\\u0446\\u044c\", \"Share\": 1.6}, {\"Date\": \"2019-07-31T00:00:00\", \"Name\": \"\\u0411\\u0443\\u0441\\u043b\\u0430\\u0432\\u0435\\u0446\\u044c\", \"Share\": 0.7}, {\"Date\": \"2020-03-31T00:00:00\", \"Name\": \"\\u0411\\u0443\\u0441\\u043b\\u0430\\u0432\\u0435\\u0446\\u044c\", \"Share\": 1.1}, {\"Date\": \"2020-04-30T00:00:00\", \"Name\": \"\\u0411\\u0443\\u0441\\u043b\\u0430\\u0432\\u0435\\u0446\\u044c\", \"Share\": 8.7}, {\"Date\": \"2020-05-31T00:00:00\", \"Name\": \"\\u0411\\u0443\\u0441\\u043b\\u0430\\u0432\\u0435\\u0446\\u044c\", \"Share\": 25.4}, {\"Date\": \"2020-06-30T00:00:00\", \"Name\": \"\\u0411\\u0443\\u0441\\u043b\\u0430\\u0432\\u0435\\u0446\\u044c\", \"Share\": 21.6}, {\"Date\": \"2019-08-31T00:00:00\", \"Name\": \"\\u0413\\u043e\\u043d\\u0447\\u0430\\u0440\\u0443\\u043a\", \"Share\": 3.1}, {\"Date\": \"2019-09-30T00:00:00\", \"Name\": \"\\u0413\\u043e\\u043d\\u0447\\u0430\\u0440\\u0443\\u043a\", \"Share\": 11.4}, {\"Date\": \"2019-10-31T00:00:00\", \"Name\": \"\\u0413\\u043e\\u043d\\u0447\\u0430\\u0440\\u0443\\u043a\", \"Share\": 11.8}, {\"Date\": \"2019-11-30T00:00:00\", \"Name\": \"\\u0413\\u043e\\u043d\\u0447\\u0430\\u0440\\u0443\\u043a\", \"Share\": 9.2}, {\"Date\": \"2019-12-31T00:00:00\", \"Name\": \"\\u0413\\u043e\\u043d\\u0447\\u0430\\u0440\\u0443\\u043a\", \"Share\": 7.6}, {\"Date\": \"2020-01-31T00:00:00\", \"Name\": \"\\u0413\\u043e\\u043d\\u0447\\u0430\\u0440\\u0443\\u043a\", \"Share\": 5.7}, {\"Date\": \"2020-02-29T00:00:00\", \"Name\": \"\\u0413\\u043e\\u043d\\u0447\\u0430\\u0440\\u0443\\u043a\", \"Share\": 15.2}, {\"Date\": \"2020-03-31T00:00:00\", \"Name\": \"\\u0413\\u043e\\u043d\\u0447\\u0430\\u0440\\u0443\\u043a\", \"Share\": 5.2}, {\"Date\": \"2020-04-30T00:00:00\", \"Name\": \"\\u0413\\u043e\\u043d\\u0447\\u0430\\u0440\\u0443\\u043a\", \"Share\": 2.2}, {\"Date\": \"2020-05-31T00:00:00\", \"Name\": \"\\u0413\\u043e\\u043d\\u0447\\u0430\\u0440\\u0443\\u043a\", \"Share\": 2.0}]}}, {\"mode\": \"vega-lite\"});\n",
       "</script>"
      ],
      "text/plain": [
       "alt.Chart(...)"
      ]
     },
     "execution_count": 35,
     "metadata": {},
     "output_type": "execute_result"
    }
   ],
   "source": [
    "selection = alt.selection_multi(fields=['Name'], bind='legend')\n",
    "\n",
    "chart5 = alt.Chart(df_temp).mark_line(point=True, size =2.5, strokeDash=[1,2]).encode(\n",
    "    x=alt.X(\"Date\", axis =alt.Axis(format = (\"%b %Y\"))),\n",
    "    y=alt.Y(\"Share\", title=\"Share of Articles\"),\n",
    "    color = \"Name\",\n",
    "    tooltip=[\"Name\", \"Date\", \"Share\"],\n",
    "    opacity=alt.condition(selection, alt.value(1), alt.value(0.2))\n",
    ").properties(\n",
    "    width = 750,\n",
    "    title = {\"text\":\"Figure 5. Monthly Share of Articles Mentioning Top 6 Persons\",\n",
    "             \"subtitle\":f\"Person Mentions are Based on Regex Matches\"}\n",
    "\n",
    ").add_selection(\n",
    "    selection\n",
    ")\n",
    "chart5"
   ]
  },
  {
   "cell_type": "markdown",
   "metadata": {},
   "source": [
    "## Dashboard"
   ]
  },
  {
   "cell_type": "markdown",
   "metadata": {},
   "source": [
    "<div class=\"alert alert-info\">\n",
    "\n",
    "**Note:** The below dashboard is interactive. For example, you can scale the figures, see additionlal information in tooltips or highlight specific lines using legends.\n",
    "\n",
    "</div>"
   ]
  },
  {
   "cell_type": "code",
   "execution_count": 36,
   "metadata": {},
   "outputs": [
    {
     "data": {
      "text/html": [
       "\n",
       "<div id=\"altair-viz-9a6321c6e11642d082941f77a81b0d29\"></div>\n",
       "<script type=\"text/javascript\">\n",
       "  (function(spec, embedOpt){\n",
       "    let outputDiv = document.currentScript.previousElementSibling;\n",
       "    if (outputDiv.id !== \"altair-viz-9a6321c6e11642d082941f77a81b0d29\") {\n",
       "      outputDiv = document.getElementById(\"altair-viz-9a6321c6e11642d082941f77a81b0d29\");\n",
       "    }\n",
       "    const paths = {\n",
       "      \"vega\": \"https://cdn.jsdelivr.net/npm//vega@5?noext\",\n",
       "      \"vega-lib\": \"https://cdn.jsdelivr.net/npm//vega-lib?noext\",\n",
       "      \"vega-lite\": \"https://cdn.jsdelivr.net/npm//vega-lite@4.8.1?noext\",\n",
       "      \"vega-embed\": \"https://cdn.jsdelivr.net/npm//vega-embed@6?noext\",\n",
       "    };\n",
       "\n",
       "    function loadScript(lib) {\n",
       "      return new Promise(function(resolve, reject) {\n",
       "        var s = document.createElement('script');\n",
       "        s.src = paths[lib];\n",
       "        s.async = true;\n",
       "        s.onload = () => resolve(paths[lib]);\n",
       "        s.onerror = () => reject(`Error loading script: ${paths[lib]}`);\n",
       "        document.getElementsByTagName(\"head\")[0].appendChild(s);\n",
       "      });\n",
       "    }\n",
       "\n",
       "    function showError(err) {\n",
       "      outputDiv.innerHTML = `<div class=\"error\" style=\"color:red;\">${err}</div>`;\n",
       "      throw err;\n",
       "    }\n",
       "\n",
       "    function displayChart(vegaEmbed) {\n",
       "      vegaEmbed(outputDiv, spec, embedOpt)\n",
       "        .catch(err => showError(`Javascript Error: ${err.message}<br>This usually means there's a typo in your chart specification. See the javascript console for the full traceback.`));\n",
       "    }\n",
       "\n",
       "    if(typeof define === \"function\" && define.amd) {\n",
       "      requirejs.config({paths});\n",
       "      require([\"vega-embed\"], displayChart, err => showError(`Error loading script: ${err.message}`));\n",
       "    } else if (typeof vegaEmbed === \"function\") {\n",
       "      displayChart(vegaEmbed);\n",
       "    } else {\n",
       "      loadScript(\"vega\")\n",
       "        .then(() => loadScript(\"vega-lite\"))\n",
       "        .then(() => loadScript(\"vega-embed\"))\n",
       "        .catch(showError)\n",
       "        .then(() => displayChart(vegaEmbed));\n",
       "    }\n",
       "  })({\"config\": {\"view\": {\"continuousWidth\": 400, \"continuousHeight\": 300}, \"point\": {\"size\": 70}}, \"vconcat\": [{\"data\": {\"name\": \"data-f50df3590556269c9c1f16e99999d94a\"}, \"mark\": {\"type\": \"line\", \"point\": true, \"size\": 2.5, \"strokeDash\": [1, 2]}, \"encoding\": {\"tooltip\": [{\"type\": \"temporal\", \"field\": \"Date\"}, {\"type\": \"quantitative\", \"field\": \"Count\"}], \"x\": {\"type\": \"temporal\", \"field\": \"Date\"}, \"y\": {\"type\": \"quantitative\", \"field\": \"Count\"}}, \"selection\": {\"selector001\": {\"type\": \"interval\", \"bind\": \"scales\", \"encodings\": [\"x\", \"y\"]}}, \"title\": {\"text\": \"Figure 1. Monthly Count of Articles on UA-Energy.org\", \"subtitle\": \"Counts Based on Regex Matches\"}, \"width\": 750}, {\"hconcat\": [{\"data\": {\"name\": \"data-5582a1ceca687c894c30d18593cb4358\"}, \"mark\": \"bar\", \"encoding\": {\"tooltip\": [{\"type\": \"nominal\", \"field\": \"Tag\"}, {\"type\": \"quantitative\", \"field\": \"Frequency\"}], \"x\": {\"type\": \"quantitative\", \"field\": \"Frequency\", \"title\": \"Number of Articles\"}, \"y\": {\"type\": \"nominal\", \"field\": \"Tag\", \"sort\": \"-x\"}}, \"height\": 250, \"selection\": {\"selector002\": {\"type\": \"interval\", \"bind\": \"scales\", \"encodings\": [\"x\", \"y\"]}}, \"title\": {\"text\": \"Figure 2. Top 10 Tags by the Number of Articles \", \"subtitle\": \"Based on 5190 Articles with Tags\"}, \"width\": 250}, {\"data\": {\"name\": \"data-24cbf1ba1920010a758031d9b575eb1a\"}, \"mark\": {\"type\": \"line\", \"point\": true, \"size\": 2.5, \"strokeDash\": [1, 2]}, \"encoding\": {\"color\": {\"type\": \"nominal\", \"field\": \"Tag\"}, \"opacity\": {\"condition\": {\"value\": 1, \"selection\": \"selector003\"}, \"value\": 0.2}, \"tooltip\": [{\"type\": \"nominal\", \"field\": \"Tag\"}, {\"type\": \"temporal\", \"field\": \"Date\"}, {\"type\": \"quantitative\", \"field\": \"Share\"}], \"x\": {\"type\": \"temporal\", \"axis\": {\"format\": \"%b %Y\", \"labelAngle\": 90}, \"field\": \"Date\"}, \"y\": {\"type\": \"quantitative\", \"field\": \"Share\", \"title\": \"Share of Articles\"}}, \"height\": 250, \"selection\": {\"selector003\": {\"type\": \"multi\", \"fields\": [\"Tag\"], \"bind\": \"legend\"}}, \"title\": {\"text\": \"Figure 3. Quarterly Share of Articles Mentioning Top 5 Tags\", \"subtitle\": \"Based on 5190 Articles with Tags\"}, \"width\": 400}]}, {\"data\": {\"name\": \"data-4a637b402c932bab240551fdf1649b0c\"}, \"mark\": {\"type\": \"line\", \"point\": true, \"size\": 2.5, \"strokeDash\": [1, 2]}, \"encoding\": {\"color\": {\"type\": \"nominal\", \"field\": \"Entity\"}, \"opacity\": {\"condition\": {\"value\": 1, \"selection\": \"selector004\"}, \"value\": 0.2}, \"tooltip\": [{\"type\": \"nominal\", \"field\": \"Entity\"}, {\"type\": \"temporal\", \"field\": \"Date\"}, {\"type\": \"quantitative\", \"field\": \"Share\"}], \"x\": {\"type\": \"temporal\", \"axis\": {\"format\": \"%b %Y\"}, \"field\": \"Date\"}, \"y\": {\"type\": \"quantitative\", \"field\": \"Share\", \"title\": \"Share of Articles\"}}, \"selection\": {\"selector004\": {\"type\": \"multi\", \"fields\": [\"Entity\"], \"bind\": \"legend\"}}, \"title\": {\"text\": \"Figure 4. Monthly Share of Articles Mentioning 5 Selected Entities\", \"subtitle\": \"Entity Mentions are Based on Regex Matches\"}, \"width\": 750}, {\"data\": {\"name\": \"data-3b843f9f4f5fe846845e90d8d7431764\"}, \"mark\": {\"type\": \"line\", \"point\": true, \"size\": 2.5, \"strokeDash\": [1, 2]}, \"encoding\": {\"color\": {\"type\": \"nominal\", \"field\": \"Name\"}, \"opacity\": {\"condition\": {\"value\": 1, \"selection\": \"selector005\"}, \"value\": 0.2}, \"tooltip\": [{\"type\": \"nominal\", \"field\": \"Name\"}, {\"type\": \"temporal\", \"field\": \"Date\"}, {\"type\": \"quantitative\", \"field\": \"Share\"}], \"x\": {\"type\": \"temporal\", \"axis\": {\"format\": \"%b %Y\"}, \"field\": \"Date\"}, \"y\": {\"type\": \"quantitative\", \"field\": \"Share\", \"title\": \"Share of Articles\"}}, \"selection\": {\"selector005\": {\"type\": \"multi\", \"fields\": [\"Name\"], \"bind\": \"legend\"}}, \"title\": {\"text\": \"Figure 5. Monthly Share of Articles Mentioning Top 6 Persons\", \"subtitle\": \"Person Mentions are Based on Regex Matches\"}, \"width\": 750}], \"resolve\": {\"scale\": {\"color\": \"independent\"}}, \"title\": {\"text\": \"Dashboard on Text Data from UA-Energy.org\", \"anchor\": \"start\", \"fontSize\": 24, \"offset\": 30}, \"$schema\": \"https://vega.github.io/schema/vega-lite/v4.8.1.json\", \"datasets\": {\"data-f50df3590556269c9c1f16e99999d94a\": [{\"Date\": \"2017-02-28T00:00:00\", \"Count\": 1}, {\"Date\": \"2017-03-31T00:00:00\", \"Count\": 6}, {\"Date\": \"2017-04-30T00:00:00\", \"Count\": 49}, {\"Date\": \"2017-05-31T00:00:00\", \"Count\": 134}, {\"Date\": \"2017-06-30T00:00:00\", \"Count\": 145}, {\"Date\": \"2017-07-31T00:00:00\", \"Count\": 257}, {\"Date\": \"2017-08-31T00:00:00\", \"Count\": 166}, {\"Date\": \"2017-09-30T00:00:00\", \"Count\": 244}, {\"Date\": \"2017-10-31T00:00:00\", \"Count\": 235}, {\"Date\": \"2017-11-30T00:00:00\", \"Count\": 248}, {\"Date\": \"2017-12-31T00:00:00\", \"Count\": 200}, {\"Date\": \"2018-01-31T00:00:00\", \"Count\": 213}, {\"Date\": \"2018-02-28T00:00:00\", \"Count\": 218}, {\"Date\": \"2018-03-31T00:00:00\", \"Count\": 244}, {\"Date\": \"2018-04-30T00:00:00\", \"Count\": 184}, {\"Date\": \"2018-05-31T00:00:00\", \"Count\": 194}, {\"Date\": \"2018-06-30T00:00:00\", \"Count\": 158}, {\"Date\": \"2018-07-31T00:00:00\", \"Count\": 92}, {\"Date\": \"2018-08-31T00:00:00\", \"Count\": 227}, {\"Date\": \"2018-09-30T00:00:00\", \"Count\": 185}, {\"Date\": \"2018-10-31T00:00:00\", \"Count\": 218}, {\"Date\": \"2018-11-30T00:00:00\", \"Count\": 172}, {\"Date\": \"2018-12-31T00:00:00\", \"Count\": 128}, {\"Date\": \"2019-01-31T00:00:00\", \"Count\": 105}, {\"Date\": \"2019-02-28T00:00:00\", \"Count\": 61}, {\"Date\": \"2019-03-31T00:00:00\", \"Count\": 43}, {\"Date\": \"2019-04-30T00:00:00\", \"Count\": 108}, {\"Date\": \"2019-05-31T00:00:00\", \"Count\": 99}, {\"Date\": \"2019-06-30T00:00:00\", \"Count\": 73}, {\"Date\": \"2019-07-31T00:00:00\", \"Count\": 144}, {\"Date\": \"2019-08-31T00:00:00\", \"Count\": 130}, {\"Date\": \"2019-09-30T00:00:00\", \"Count\": 166}, {\"Date\": \"2019-10-31T00:00:00\", \"Count\": 229}, {\"Date\": \"2019-11-30T00:00:00\", \"Count\": 195}, {\"Date\": \"2019-12-31T00:00:00\", \"Count\": 172}, {\"Date\": \"2020-01-31T00:00:00\", \"Count\": 123}, {\"Date\": \"2020-02-29T00:00:00\", \"Count\": 197}, {\"Date\": \"2020-03-31T00:00:00\", \"Count\": 270}, {\"Date\": \"2020-04-30T00:00:00\", \"Count\": 276}, {\"Date\": \"2020-05-31T00:00:00\", \"Count\": 197}, {\"Date\": \"2020-06-30T00:00:00\", \"Count\": 97}], \"data-5582a1ceca687c894c30d18593cb4358\": [{\"Tag\": \"\\u0433\\u0430\\u0437\", \"Frequency\": 816}, {\"Tag\": \"\\u041d\\u0430\\u0444\\u0442\\u043e\\u0433\\u0430\\u0437\", \"Frequency\": 704}, {\"Tag\": \"\\u041d\\u041a\\u0420\\u0415\\u041a\\u041f\", \"Frequency\": 326}, {\"Tag\": \"\\u043d\\u0430\\u0444\\u0442\\u0430\", \"Frequency\": 280}, {\"Tag\": \"\\u0442\\u0440\\u0430\\u043d\\u0437\\u0438\\u0442\", \"Frequency\": 267}, {\"Tag\": \"\\u0413\\u0430\\u0437\\u043f\\u0440\\u043e\\u043c\", \"Frequency\": 263}, {\"Tag\": \"\\u0435\\u043b\\u0435\\u043a\\u0442\\u0440\\u043e\\u0435\\u043d\\u0435\\u0440\\u0433\\u0456\\u044f\", \"Frequency\": 229}, {\"Tag\": \"\\u0423\\u043a\\u0440\\u0435\\u043d\\u0435\\u0440\\u0433\\u043e\", \"Frequency\": 218}, {\"Tag\": \"\\u0432\\u0443\\u0433\\u0456\\u043b\\u043b\\u044f\", \"Frequency\": 218}, {\"Tag\": \"\\u0412\\u0414\\u0415\", \"Frequency\": 200}], \"data-24cbf1ba1920010a758031d9b575eb1a\": [{\"Date\": \"2017-06-30T00:00:00\", \"Tag\": \"\\u041d\\u041a\\u0420\\u0415\\u041a\\u041f\", \"Link\": 5, \"N_Articles\": 72, \"Share\": 6.9}, {\"Date\": \"2017-06-30T00:00:00\", \"Tag\": \"\\u041d\\u0430\\u0444\\u0442\\u043e\\u0433\\u0430\\u0437\", \"Link\": 18, \"N_Articles\": 72, \"Share\": 25.0}, {\"Date\": \"2017-06-30T00:00:00\", \"Tag\": \"\\u0433\\u0430\\u0437\", \"Link\": 33, \"N_Articles\": 72, \"Share\": 45.8}, {\"Date\": \"2017-06-30T00:00:00\", \"Tag\": \"\\u043d\\u0430\\u0444\\u0442\\u0430\", \"Link\": 18, \"N_Articles\": 72, \"Share\": 25.0}, {\"Date\": \"2017-06-30T00:00:00\", \"Tag\": \"\\u0442\\u0440\\u0430\\u043d\\u0437\\u0438\\u0442\", \"Link\": 2, \"N_Articles\": 72, \"Share\": 2.8}, {\"Date\": \"2017-09-30T00:00:00\", \"Tag\": \"\\u041d\\u041a\\u0420\\u0415\\u041a\\u041f\", \"Link\": 12, \"N_Articles\": 86, \"Share\": 14.0}, {\"Date\": \"2017-09-30T00:00:00\", \"Tag\": \"\\u041d\\u0430\\u0444\\u0442\\u043e\\u0433\\u0430\\u0437\", \"Link\": 31, \"N_Articles\": 86, \"Share\": 36.0}, {\"Date\": \"2017-09-30T00:00:00\", \"Tag\": \"\\u0433\\u0430\\u0437\", \"Link\": 36, \"N_Articles\": 86, \"Share\": 41.9}, {\"Date\": \"2017-09-30T00:00:00\", \"Tag\": \"\\u043d\\u0430\\u0444\\u0442\\u0430\", \"Link\": 17, \"N_Articles\": 86, \"Share\": 19.8}, {\"Date\": \"2017-09-30T00:00:00\", \"Tag\": \"\\u0442\\u0440\\u0430\\u043d\\u0437\\u0438\\u0442\", \"Link\": 3, \"N_Articles\": 86, \"Share\": 3.5}, {\"Date\": \"2017-12-31T00:00:00\", \"Tag\": \"\\u041d\\u041a\\u0420\\u0415\\u041a\\u041f\", \"Link\": 9, \"N_Articles\": 57, \"Share\": 15.8}, {\"Date\": \"2017-12-31T00:00:00\", \"Tag\": \"\\u041d\\u0430\\u0444\\u0442\\u043e\\u0433\\u0430\\u0437\", \"Link\": 14, \"N_Articles\": 57, \"Share\": 24.6}, {\"Date\": \"2017-12-31T00:00:00\", \"Tag\": \"\\u0433\\u0430\\u0437\", \"Link\": 28, \"N_Articles\": 57, \"Share\": 49.1}, {\"Date\": \"2017-12-31T00:00:00\", \"Tag\": \"\\u043d\\u0430\\u0444\\u0442\\u0430\", \"Link\": 15, \"N_Articles\": 57, \"Share\": 26.3}, {\"Date\": \"2017-12-31T00:00:00\", \"Tag\": \"\\u0442\\u0440\\u0430\\u043d\\u0437\\u0438\\u0442\", \"Link\": 2, \"N_Articles\": 57, \"Share\": 3.5}, {\"Date\": \"2018-03-31T00:00:00\", \"Tag\": \"\\u041d\\u041a\\u0420\\u0415\\u041a\\u041f\", \"Link\": 1, \"N_Articles\": 145, \"Share\": 0.7}, {\"Date\": \"2018-03-31T00:00:00\", \"Tag\": \"\\u041d\\u0430\\u0444\\u0442\\u043e\\u0433\\u0430\\u0437\", \"Link\": 42, \"N_Articles\": 145, \"Share\": 29.0}, {\"Date\": \"2018-03-31T00:00:00\", \"Tag\": \"\\u0433\\u0430\\u0437\", \"Link\": 84, \"N_Articles\": 145, \"Share\": 57.9}, {\"Date\": \"2018-03-31T00:00:00\", \"Tag\": \"\\u043d\\u0430\\u0444\\u0442\\u0430\", \"Link\": 17, \"N_Articles\": 145, \"Share\": 11.7}, {\"Date\": \"2018-03-31T00:00:00\", \"Tag\": \"\\u0442\\u0440\\u0430\\u043d\\u0437\\u0438\\u0442\", \"Link\": 5, \"N_Articles\": 145, \"Share\": 3.4}, {\"Date\": \"2018-06-30T00:00:00\", \"Tag\": \"\\u041d\\u041a\\u0420\\u0415\\u041a\\u041f\", \"Link\": 2, \"N_Articles\": 118, \"Share\": 1.7}, {\"Date\": \"2018-06-30T00:00:00\", \"Tag\": \"\\u041d\\u0430\\u0444\\u0442\\u043e\\u0433\\u0430\\u0437\", \"Link\": 30, \"N_Articles\": 118, \"Share\": 25.4}, {\"Date\": \"2018-06-30T00:00:00\", \"Tag\": \"\\u0433\\u0430\\u0437\", \"Link\": 57, \"N_Articles\": 118, \"Share\": 48.3}, {\"Date\": \"2018-06-30T00:00:00\", \"Tag\": \"\\u043d\\u0430\\u0444\\u0442\\u0430\", \"Link\": 24, \"N_Articles\": 118, \"Share\": 20.3}, {\"Date\": \"2018-06-30T00:00:00\", \"Tag\": \"\\u0442\\u0440\\u0430\\u043d\\u0437\\u0438\\u0442\", \"Link\": 10, \"N_Articles\": 118, \"Share\": 8.5}, {\"Date\": \"2018-09-30T00:00:00\", \"Tag\": \"\\u041d\\u041a\\u0420\\u0415\\u041a\\u041f\", \"Link\": 50, \"N_Articles\": 210, \"Share\": 23.8}, {\"Date\": \"2018-09-30T00:00:00\", \"Tag\": \"\\u041d\\u0430\\u0444\\u0442\\u043e\\u0433\\u0430\\u0437\", \"Link\": 65, \"N_Articles\": 210, \"Share\": 31.0}, {\"Date\": \"2018-09-30T00:00:00\", \"Tag\": \"\\u0433\\u0430\\u0437\", \"Link\": 113, \"N_Articles\": 210, \"Share\": 53.8}, {\"Date\": \"2018-09-30T00:00:00\", \"Tag\": \"\\u043d\\u0430\\u0444\\u0442\\u0430\", \"Link\": 16, \"N_Articles\": 210, \"Share\": 7.6}, {\"Date\": \"2018-09-30T00:00:00\", \"Tag\": \"\\u0442\\u0440\\u0430\\u043d\\u0437\\u0438\\u0442\", \"Link\": 24, \"N_Articles\": 210, \"Share\": 11.4}, {\"Date\": \"2018-12-31T00:00:00\", \"Tag\": \"\\u041d\\u041a\\u0420\\u0415\\u041a\\u041f\", \"Link\": 56, \"N_Articles\": 227, \"Share\": 24.7}, {\"Date\": \"2018-12-31T00:00:00\", \"Tag\": \"\\u041d\\u0430\\u0444\\u0442\\u043e\\u0433\\u0430\\u0437\", \"Link\": 87, \"N_Articles\": 227, \"Share\": 38.3}, {\"Date\": \"2018-12-31T00:00:00\", \"Tag\": \"\\u0433\\u0430\\u0437\", \"Link\": 97, \"N_Articles\": 227, \"Share\": 42.7}, {\"Date\": \"2018-12-31T00:00:00\", \"Tag\": \"\\u043d\\u0430\\u0444\\u0442\\u0430\", \"Link\": 17, \"N_Articles\": 227, \"Share\": 7.5}, {\"Date\": \"2018-12-31T00:00:00\", \"Tag\": \"\\u0442\\u0440\\u0430\\u043d\\u0437\\u0438\\u0442\", \"Link\": 15, \"N_Articles\": 227, \"Share\": 6.6}, {\"Date\": \"2019-03-31T00:00:00\", \"Tag\": \"\\u041d\\u041a\\u0420\\u0415\\u041a\\u041f\", \"Link\": 24, \"N_Articles\": 109, \"Share\": 22.0}, {\"Date\": \"2019-03-31T00:00:00\", \"Tag\": \"\\u041d\\u0430\\u0444\\u0442\\u043e\\u0433\\u0430\\u0437\", \"Link\": 59, \"N_Articles\": 109, \"Share\": 54.1}, {\"Date\": \"2019-03-31T00:00:00\", \"Tag\": \"\\u0433\\u0430\\u0437\", \"Link\": 45, \"N_Articles\": 109, \"Share\": 41.3}, {\"Date\": \"2019-03-31T00:00:00\", \"Tag\": \"\\u043d\\u0430\\u0444\\u0442\\u0430\", \"Link\": 9, \"N_Articles\": 109, \"Share\": 8.3}, {\"Date\": \"2019-03-31T00:00:00\", \"Tag\": \"\\u0442\\u0440\\u0430\\u043d\\u0437\\u0438\\u0442\", \"Link\": 16, \"N_Articles\": 109, \"Share\": 14.7}, {\"Date\": \"2019-06-30T00:00:00\", \"Tag\": \"\\u041d\\u041a\\u0420\\u0415\\u041a\\u041f\", \"Link\": 19, \"N_Articles\": 133, \"Share\": 14.3}, {\"Date\": \"2019-06-30T00:00:00\", \"Tag\": \"\\u041d\\u0430\\u0444\\u0442\\u043e\\u0433\\u0430\\u0437\", \"Link\": 57, \"N_Articles\": 133, \"Share\": 42.9}, {\"Date\": \"2019-06-30T00:00:00\", \"Tag\": \"\\u0433\\u0430\\u0437\", \"Link\": 45, \"N_Articles\": 133, \"Share\": 33.8}, {\"Date\": \"2019-06-30T00:00:00\", \"Tag\": \"\\u043d\\u0430\\u0444\\u0442\\u0430\", \"Link\": 34, \"N_Articles\": 133, \"Share\": 25.6}, {\"Date\": \"2019-06-30T00:00:00\", \"Tag\": \"\\u0442\\u0440\\u0430\\u043d\\u0437\\u0438\\u0442\", \"Link\": 29, \"N_Articles\": 133, \"Share\": 21.8}, {\"Date\": \"2019-09-30T00:00:00\", \"Tag\": \"\\u041d\\u041a\\u0420\\u0415\\u041a\\u041f\", \"Link\": 54, \"N_Articles\": 188, \"Share\": 28.7}, {\"Date\": \"2019-09-30T00:00:00\", \"Tag\": \"\\u041d\\u0430\\u0444\\u0442\\u043e\\u0433\\u0430\\u0437\", \"Link\": 81, \"N_Articles\": 188, \"Share\": 43.1}, {\"Date\": \"2019-09-30T00:00:00\", \"Tag\": \"\\u0433\\u0430\\u0437\", \"Link\": 64, \"N_Articles\": 188, \"Share\": 34.0}, {\"Date\": \"2019-09-30T00:00:00\", \"Tag\": \"\\u043d\\u0430\\u0444\\u0442\\u0430\", \"Link\": 14, \"N_Articles\": 188, \"Share\": 7.4}, {\"Date\": \"2019-09-30T00:00:00\", \"Tag\": \"\\u0442\\u0440\\u0430\\u043d\\u0437\\u0438\\u0442\", \"Link\": 30, \"N_Articles\": 188, \"Share\": 16.0}, {\"Date\": \"2019-12-31T00:00:00\", \"Tag\": \"\\u041d\\u041a\\u0420\\u0415\\u041a\\u041f\", \"Link\": 42, \"N_Articles\": 242, \"Share\": 17.4}, {\"Date\": \"2019-12-31T00:00:00\", \"Tag\": \"\\u041d\\u0430\\u0444\\u0442\\u043e\\u0433\\u0430\\u0437\", \"Link\": 101, \"N_Articles\": 242, \"Share\": 41.7}, {\"Date\": \"2019-12-31T00:00:00\", \"Tag\": \"\\u0433\\u0430\\u0437\", \"Link\": 79, \"N_Articles\": 242, \"Share\": 32.6}, {\"Date\": \"2019-12-31T00:00:00\", \"Tag\": \"\\u043d\\u0430\\u0444\\u0442\\u0430\", \"Link\": 16, \"N_Articles\": 242, \"Share\": 6.6}, {\"Date\": \"2019-12-31T00:00:00\", \"Tag\": \"\\u0442\\u0440\\u0430\\u043d\\u0437\\u0438\\u0442\", \"Link\": 78, \"N_Articles\": 242, \"Share\": 32.2}, {\"Date\": \"2020-03-31T00:00:00\", \"Tag\": \"\\u041d\\u041a\\u0420\\u0415\\u041a\\u041f\", \"Link\": 26, \"N_Articles\": 214, \"Share\": 12.1}, {\"Date\": \"2020-03-31T00:00:00\", \"Tag\": \"\\u041d\\u0430\\u0444\\u0442\\u043e\\u0433\\u0430\\u0437\", \"Link\": 66, \"N_Articles\": 214, \"Share\": 30.8}, {\"Date\": \"2020-03-31T00:00:00\", \"Tag\": \"\\u0433\\u0430\\u0437\", \"Link\": 81, \"N_Articles\": 214, \"Share\": 37.9}, {\"Date\": \"2020-03-31T00:00:00\", \"Tag\": \"\\u043d\\u0430\\u0444\\u0442\\u0430\", \"Link\": 47, \"N_Articles\": 214, \"Share\": 22.0}, {\"Date\": \"2020-03-31T00:00:00\", \"Tag\": \"\\u0442\\u0440\\u0430\\u043d\\u0437\\u0438\\u0442\", \"Link\": 39, \"N_Articles\": 214, \"Share\": 18.2}, {\"Date\": \"2020-06-30T00:00:00\", \"Tag\": \"\\u041d\\u041a\\u0420\\u0415\\u041a\\u041f\", \"Link\": 26, \"N_Articles\": 165, \"Share\": 15.8}, {\"Date\": \"2020-06-30T00:00:00\", \"Tag\": \"\\u041d\\u0430\\u0444\\u0442\\u043e\\u0433\\u0430\\u0437\", \"Link\": 53, \"N_Articles\": 165, \"Share\": 32.1}, {\"Date\": \"2020-06-30T00:00:00\", \"Tag\": \"\\u0433\\u0430\\u0437\", \"Link\": 54, \"N_Articles\": 165, \"Share\": 32.7}, {\"Date\": \"2020-06-30T00:00:00\", \"Tag\": \"\\u043d\\u0430\\u0444\\u0442\\u0430\", \"Link\": 36, \"N_Articles\": 165, \"Share\": 21.8}, {\"Date\": \"2020-06-30T00:00:00\", \"Tag\": \"\\u0442\\u0440\\u0430\\u043d\\u0437\\u0438\\u0442\", \"Link\": 14, \"N_Articles\": 165, \"Share\": 8.5}], \"data-4a637b402c932bab240551fdf1649b0c\": [{\"Date\": \"2017-04-30T00:00:00\", \"Entity\": \"\\u0404\\u0421\", \"Frequency\": 2, \"N_Articles\": 49, \"Share\": 4.1}, {\"Date\": \"2017-04-30T00:00:00\", \"Entity\": \"\\u041c\\u0412\\u0424\", \"Frequency\": 1, \"N_Articles\": 49, \"Share\": 2.0}, {\"Date\": \"2017-04-30T00:00:00\", \"Entity\": \"\\u0420\\u0424\", \"Frequency\": 2, \"N_Articles\": 49, \"Share\": 4.1}, {\"Date\": \"2017-04-30T00:00:00\", \"Entity\": \"\\u0421\\u0428\\u0410\", \"Frequency\": 4, \"N_Articles\": 49, \"Share\": 8.2}, {\"Date\": \"2017-05-31T00:00:00\", \"Entity\": \"\\u0404\\u0421\", \"Frequency\": 8, \"N_Articles\": 134, \"Share\": 6.0}, {\"Date\": \"2017-05-31T00:00:00\", \"Entity\": \"\\u041c\\u0412\\u0424\", \"Frequency\": 1, \"N_Articles\": 134, \"Share\": 0.7}, {\"Date\": \"2017-05-31T00:00:00\", \"Entity\": \"\\u0420\\u0424\", \"Frequency\": 6, \"N_Articles\": 134, \"Share\": 4.5}, {\"Date\": \"2017-05-31T00:00:00\", \"Entity\": \"\\u0421\\u0428\\u0410\", \"Frequency\": 17, \"N_Articles\": 134, \"Share\": 12.7}, {\"Date\": \"2017-06-30T00:00:00\", \"Entity\": \"\\u0404\\u0421\", \"Frequency\": 20, \"N_Articles\": 145, \"Share\": 13.8}, {\"Date\": \"2017-06-30T00:00:00\", \"Entity\": \"\\u0420\\u0424\", \"Frequency\": 13, \"N_Articles\": 145, \"Share\": 9.0}, {\"Date\": \"2017-06-30T00:00:00\", \"Entity\": \"\\u0421\\u0428\\u0410\", \"Frequency\": 25, \"N_Articles\": 145, \"Share\": 17.2}, {\"Date\": \"2017-07-31T00:00:00\", \"Entity\": \"\\u0404\\u0421\", \"Frequency\": 30, \"N_Articles\": 257, \"Share\": 11.7}, {\"Date\": \"2017-07-31T00:00:00\", \"Entity\": \"\\u041c\\u0412\\u0424\", \"Frequency\": 2, \"N_Articles\": 257, \"Share\": 0.8}, {\"Date\": \"2017-07-31T00:00:00\", \"Entity\": \"\\u0420\\u0424\", \"Frequency\": 23, \"N_Articles\": 257, \"Share\": 8.9}, {\"Date\": \"2017-07-31T00:00:00\", \"Entity\": \"\\u0421\\u0428\\u0410\", \"Frequency\": 39, \"N_Articles\": 257, \"Share\": 15.2}, {\"Date\": \"2017-08-31T00:00:00\", \"Entity\": \"\\u0404\\u0421\", \"Frequency\": 11, \"N_Articles\": 166, \"Share\": 6.6}, {\"Date\": \"2017-08-31T00:00:00\", \"Entity\": \"\\u041c\\u0412\\u0424\", \"Frequency\": 1, \"N_Articles\": 166, \"Share\": 0.6}, {\"Date\": \"2017-08-31T00:00:00\", \"Entity\": \"\\u0420\\u0424\", \"Frequency\": 12, \"N_Articles\": 166, \"Share\": 7.2}, {\"Date\": \"2017-08-31T00:00:00\", \"Entity\": \"\\u0421\\u0428\\u0410\", \"Frequency\": 17, \"N_Articles\": 166, \"Share\": 10.2}, {\"Date\": \"2017-09-30T00:00:00\", \"Entity\": \"\\u0404\\u0421\", \"Frequency\": 21, \"N_Articles\": 244, \"Share\": 8.6}, {\"Date\": \"2017-09-30T00:00:00\", \"Entity\": \"\\u041c\\u0412\\u0424\", \"Frequency\": 2, \"N_Articles\": 244, \"Share\": 0.8}, {\"Date\": \"2017-09-30T00:00:00\", \"Entity\": \"\\u0420\\u0424\", \"Frequency\": 13, \"N_Articles\": 244, \"Share\": 5.3}, {\"Date\": \"2017-09-30T00:00:00\", \"Entity\": \"\\u0421\\u0428\\u0410\", \"Frequency\": 17, \"N_Articles\": 244, \"Share\": 7.0}, {\"Date\": \"2017-10-31T00:00:00\", \"Entity\": \"\\u0404\\u0421\", \"Frequency\": 27, \"N_Articles\": 235, \"Share\": 11.5}, {\"Date\": \"2017-10-31T00:00:00\", \"Entity\": \"\\u041c\\u0412\\u0424\", \"Frequency\": 4, \"N_Articles\": 235, \"Share\": 1.7}, {\"Date\": \"2017-10-31T00:00:00\", \"Entity\": \"\\u0420\\u0424\", \"Frequency\": 9, \"N_Articles\": 235, \"Share\": 3.8}, {\"Date\": \"2017-10-31T00:00:00\", \"Entity\": \"\\u0421\\u0428\\u0410\", \"Frequency\": 21, \"N_Articles\": 235, \"Share\": 8.9}, {\"Date\": \"2017-11-30T00:00:00\", \"Entity\": \"\\u0404\\u0421\", \"Frequency\": 25, \"N_Articles\": 248, \"Share\": 10.1}, {\"Date\": \"2017-11-30T00:00:00\", \"Entity\": \"\\u041c\\u0412\\u0424\", \"Frequency\": 2, \"N_Articles\": 248, \"Share\": 0.8}, {\"Date\": \"2017-11-30T00:00:00\", \"Entity\": \"\\u0420\\u0424\", \"Frequency\": 11, \"N_Articles\": 248, \"Share\": 4.4}, {\"Date\": \"2017-11-30T00:00:00\", \"Entity\": \"\\u0421\\u0428\\u0410\", \"Frequency\": 24, \"N_Articles\": 248, \"Share\": 9.7}, {\"Date\": \"2017-12-31T00:00:00\", \"Entity\": \"\\u0404\\u0421\", \"Frequency\": 23, \"N_Articles\": 200, \"Share\": 11.5}, {\"Date\": \"2017-12-31T00:00:00\", \"Entity\": \"\\u041c\\u0412\\u0424\", \"Frequency\": 1, \"N_Articles\": 200, \"Share\": 0.5}, {\"Date\": \"2017-12-31T00:00:00\", \"Entity\": \"\\u0420\\u0424\", \"Frequency\": 9, \"N_Articles\": 200, \"Share\": 4.5}, {\"Date\": \"2017-12-31T00:00:00\", \"Entity\": \"\\u0421\\u0428\\u0410\", \"Frequency\": 23, \"N_Articles\": 200, \"Share\": 11.5}, {\"Date\": \"2018-01-31T00:00:00\", \"Entity\": \"\\u0404\\u0421\", \"Frequency\": 16, \"N_Articles\": 213, \"Share\": 7.5}, {\"Date\": \"2018-01-31T00:00:00\", \"Entity\": \"\\u041c\\u0412\\u0424\", \"Frequency\": 2, \"N_Articles\": 213, \"Share\": 0.9}, {\"Date\": \"2018-01-31T00:00:00\", \"Entity\": \"\\u0420\\u0424\", \"Frequency\": 9, \"N_Articles\": 213, \"Share\": 4.2}, {\"Date\": \"2018-01-31T00:00:00\", \"Entity\": \"\\u0421\\u0428\\u0410\", \"Frequency\": 24, \"N_Articles\": 213, \"Share\": 11.3}, {\"Date\": \"2018-02-28T00:00:00\", \"Entity\": \"\\u0404\\u0421\", \"Frequency\": 20, \"N_Articles\": 218, \"Share\": 9.2}, {\"Date\": \"2018-02-28T00:00:00\", \"Entity\": \"\\u041c\\u0412\\u0424\", \"Frequency\": 8, \"N_Articles\": 218, \"Share\": 3.7}, {\"Date\": \"2018-02-28T00:00:00\", \"Entity\": \"\\u0420\\u0424\", \"Frequency\": 5, \"N_Articles\": 218, \"Share\": 2.3}, {\"Date\": \"2018-02-28T00:00:00\", \"Entity\": \"\\u0421\\u0428\\u0410\", \"Frequency\": 17, \"N_Articles\": 218, \"Share\": 7.8}, {\"Date\": \"2018-03-31T00:00:00\", \"Entity\": \"\\u0404\\u0421\", \"Frequency\": 41, \"N_Articles\": 244, \"Share\": 16.8}, {\"Date\": \"2018-03-31T00:00:00\", \"Entity\": \"\\u041c\\u0412\\u0424\", \"Frequency\": 6, \"N_Articles\": 244, \"Share\": 2.5}, {\"Date\": \"2018-03-31T00:00:00\", \"Entity\": \"\\u0420\\u0424\", \"Frequency\": 16, \"N_Articles\": 244, \"Share\": 6.6}, {\"Date\": \"2018-03-31T00:00:00\", \"Entity\": \"\\u0421\\u0428\\u0410\", \"Frequency\": 21, \"N_Articles\": 244, \"Share\": 8.6}, {\"Date\": \"2018-04-30T00:00:00\", \"Entity\": \"\\u0404\\u0421\", \"Frequency\": 25, \"N_Articles\": 184, \"Share\": 13.6}, {\"Date\": \"2018-04-30T00:00:00\", \"Entity\": \"\\u041c\\u0412\\u0424\", \"Frequency\": 7, \"N_Articles\": 184, \"Share\": 3.8}, {\"Date\": \"2018-04-30T00:00:00\", \"Entity\": \"\\u0420\\u0424\", \"Frequency\": 13, \"N_Articles\": 184, \"Share\": 7.1}, {\"Date\": \"2018-04-30T00:00:00\", \"Entity\": \"\\u0421\\u0428\\u0410\", \"Frequency\": 15, \"N_Articles\": 184, \"Share\": 8.2}, {\"Date\": \"2018-05-31T00:00:00\", \"Entity\": \"\\u0404\\u0421\", \"Frequency\": 28, \"N_Articles\": 194, \"Share\": 14.4}, {\"Date\": \"2018-05-31T00:00:00\", \"Entity\": \"\\u041c\\u0412\\u0424\", \"Frequency\": 11, \"N_Articles\": 194, \"Share\": 5.7}, {\"Date\": \"2018-05-31T00:00:00\", \"Entity\": \"\\u0420\\u0424\", \"Frequency\": 18, \"N_Articles\": 194, \"Share\": 9.3}, {\"Date\": \"2018-05-31T00:00:00\", \"Entity\": \"\\u0421\\u0428\\u0410\", \"Frequency\": 39, \"N_Articles\": 194, \"Share\": 20.1}, {\"Date\": \"2018-06-30T00:00:00\", \"Entity\": \"\\u0404\\u0421\", \"Frequency\": 22, \"N_Articles\": 158, \"Share\": 13.9}, {\"Date\": \"2018-06-30T00:00:00\", \"Entity\": \"\\u041c\\u0412\\u0424\", \"Frequency\": 5, \"N_Articles\": 158, \"Share\": 3.2}, {\"Date\": \"2018-06-30T00:00:00\", \"Entity\": \"\\u0420\\u0424\", \"Frequency\": 9, \"N_Articles\": 158, \"Share\": 5.7}, {\"Date\": \"2018-06-30T00:00:00\", \"Entity\": \"\\u0421\\u0428\\u0410\", \"Frequency\": 14, \"N_Articles\": 158, \"Share\": 8.9}, {\"Date\": \"2018-07-31T00:00:00\", \"Entity\": \"\\u0404\\u0421\", \"Frequency\": 9, \"N_Articles\": 92, \"Share\": 9.8}, {\"Date\": \"2018-07-31T00:00:00\", \"Entity\": \"\\u041c\\u0412\\u0424\", \"Frequency\": 4, \"N_Articles\": 92, \"Share\": 4.3}, {\"Date\": \"2018-07-31T00:00:00\", \"Entity\": \"\\u0420\\u0424\", \"Frequency\": 7, \"N_Articles\": 92, \"Share\": 7.6}, {\"Date\": \"2018-07-31T00:00:00\", \"Entity\": \"\\u0421\\u0428\\u0410\", \"Frequency\": 13, \"N_Articles\": 92, \"Share\": 14.1}, {\"Date\": \"2018-08-31T00:00:00\", \"Entity\": \"\\u0404\\u0421\", \"Frequency\": 9, \"N_Articles\": 227, \"Share\": 4.0}, {\"Date\": \"2018-08-31T00:00:00\", \"Entity\": \"\\u041c\\u0412\\u0424\", \"Frequency\": 8, \"N_Articles\": 227, \"Share\": 3.5}, {\"Date\": \"2018-08-31T00:00:00\", \"Entity\": \"\\u0420\\u0424\", \"Frequency\": 8, \"N_Articles\": 227, \"Share\": 3.5}, {\"Date\": \"2018-08-31T00:00:00\", \"Entity\": \"\\u0421\\u0428\\u0410\", \"Frequency\": 11, \"N_Articles\": 227, \"Share\": 4.8}, {\"Date\": \"2018-09-30T00:00:00\", \"Entity\": \"\\u0404\\u0421\", \"Frequency\": 13, \"N_Articles\": 185, \"Share\": 7.0}, {\"Date\": \"2018-09-30T00:00:00\", \"Entity\": \"\\u041c\\u0412\\u0424\", \"Frequency\": 11, \"N_Articles\": 185, \"Share\": 5.9}, {\"Date\": \"2018-09-30T00:00:00\", \"Entity\": \"\\u0420\\u0424\", \"Frequency\": 4, \"N_Articles\": 185, \"Share\": 2.2}, {\"Date\": \"2018-09-30T00:00:00\", \"Entity\": \"\\u0421\\u0428\\u0410\", \"Frequency\": 7, \"N_Articles\": 185, \"Share\": 3.8}, {\"Date\": \"2018-10-31T00:00:00\", \"Entity\": \"\\u0404\\u0421\", \"Frequency\": 6, \"N_Articles\": 218, \"Share\": 2.8}, {\"Date\": \"2018-10-31T00:00:00\", \"Entity\": \"\\u041c\\u0412\\u0424\", \"Frequency\": 12, \"N_Articles\": 218, \"Share\": 5.5}, {\"Date\": \"2018-10-31T00:00:00\", \"Entity\": \"\\u0420\\u0424\", \"Frequency\": 9, \"N_Articles\": 218, \"Share\": 4.1}, {\"Date\": \"2018-10-31T00:00:00\", \"Entity\": \"\\u0421\\u0428\\u0410\", \"Frequency\": 8, \"N_Articles\": 218, \"Share\": 3.7}, {\"Date\": \"2018-11-30T00:00:00\", \"Entity\": \"\\u0404\\u0421\", \"Frequency\": 8, \"N_Articles\": 172, \"Share\": 4.7}, {\"Date\": \"2018-11-30T00:00:00\", \"Entity\": \"\\u041c\\u0412\\u0424\", \"Frequency\": 2, \"N_Articles\": 172, \"Share\": 1.2}, {\"Date\": \"2018-11-30T00:00:00\", \"Entity\": \"\\u0420\\u0424\", \"Frequency\": 6, \"N_Articles\": 172, \"Share\": 3.5}, {\"Date\": \"2018-11-30T00:00:00\", \"Entity\": \"\\u0421\\u0428\\u0410\", \"Frequency\": 6, \"N_Articles\": 172, \"Share\": 3.5}, {\"Date\": \"2018-12-31T00:00:00\", \"Entity\": \"\\u0404\\u0421\", \"Frequency\": 13, \"N_Articles\": 128, \"Share\": 10.2}, {\"Date\": \"2018-12-31T00:00:00\", \"Entity\": \"\\u041c\\u0412\\u0424\", \"Frequency\": 2, \"N_Articles\": 128, \"Share\": 1.6}, {\"Date\": \"2018-12-31T00:00:00\", \"Entity\": \"\\u0420\\u0424\", \"Frequency\": 4, \"N_Articles\": 128, \"Share\": 3.1}, {\"Date\": \"2018-12-31T00:00:00\", \"Entity\": \"\\u0421\\u0428\\u0410\", \"Frequency\": 8, \"N_Articles\": 128, \"Share\": 6.2}, {\"Date\": \"2019-01-31T00:00:00\", \"Entity\": \"\\u0404\\u0421\", \"Frequency\": 13, \"N_Articles\": 105, \"Share\": 12.4}, {\"Date\": \"2019-01-31T00:00:00\", \"Entity\": \"\\u041c\\u0412\\u0424\", \"Frequency\": 1, \"N_Articles\": 105, \"Share\": 1.0}, {\"Date\": \"2019-01-31T00:00:00\", \"Entity\": \"\\u0420\\u0424\", \"Frequency\": 1, \"N_Articles\": 105, \"Share\": 1.0}, {\"Date\": \"2019-01-31T00:00:00\", \"Entity\": \"\\u0421\\u0428\\u0410\", \"Frequency\": 4, \"N_Articles\": 105, \"Share\": 3.8}, {\"Date\": \"2019-02-28T00:00:00\", \"Entity\": \"\\u0404\\u0421\", \"Frequency\": 5, \"N_Articles\": 61, \"Share\": 8.2}, {\"Date\": \"2019-02-28T00:00:00\", \"Entity\": \"\\u041c\\u0412\\u0424\", \"Frequency\": 1, \"N_Articles\": 61, \"Share\": 1.6}, {\"Date\": \"2019-02-28T00:00:00\", \"Entity\": \"\\u0420\\u0424\", \"Frequency\": 4, \"N_Articles\": 61, \"Share\": 6.6}, {\"Date\": \"2019-02-28T00:00:00\", \"Entity\": \"\\u0421\\u0428\\u0410\", \"Frequency\": 2, \"N_Articles\": 61, \"Share\": 3.3}, {\"Date\": \"2019-03-31T00:00:00\", \"Entity\": \"\\u0404\\u0421\", \"Frequency\": 3, \"N_Articles\": 43, \"Share\": 7.0}, {\"Date\": \"2019-03-31T00:00:00\", \"Entity\": \"\\u0420\\u0424\", \"Frequency\": 1, \"N_Articles\": 43, \"Share\": 2.3}, {\"Date\": \"2019-03-31T00:00:00\", \"Entity\": \"\\u0421\\u0428\\u0410\", \"Frequency\": 1, \"N_Articles\": 43, \"Share\": 2.3}, {\"Date\": \"2019-04-30T00:00:00\", \"Entity\": \"\\u0404\\u0421\", \"Frequency\": 12, \"N_Articles\": 108, \"Share\": 11.1}, {\"Date\": \"2019-04-30T00:00:00\", \"Entity\": \"\\u041c\\u0412\\u0424\", \"Frequency\": 3, \"N_Articles\": 108, \"Share\": 2.8}, {\"Date\": \"2019-04-30T00:00:00\", \"Entity\": \"\\u0420\\u0424\", \"Frequency\": 12, \"N_Articles\": 108, \"Share\": 11.1}, {\"Date\": \"2019-04-30T00:00:00\", \"Entity\": \"\\u0421\\u0428\\u0410\", \"Frequency\": 4, \"N_Articles\": 108, \"Share\": 3.7}, {\"Date\": \"2019-05-31T00:00:00\", \"Entity\": \"\\u0404\\u0421\", \"Frequency\": 4, \"N_Articles\": 99, \"Share\": 4.0}, {\"Date\": \"2019-05-31T00:00:00\", \"Entity\": \"\\u041c\\u0412\\u0424\", \"Frequency\": 2, \"N_Articles\": 99, \"Share\": 2.0}, {\"Date\": \"2019-05-31T00:00:00\", \"Entity\": \"\\u0420\\u0424\", \"Frequency\": 5, \"N_Articles\": 99, \"Share\": 5.1}, {\"Date\": \"2019-05-31T00:00:00\", \"Entity\": \"\\u0421\\u0428\\u0410\", \"Frequency\": 1, \"N_Articles\": 99, \"Share\": 1.0}, {\"Date\": \"2019-06-30T00:00:00\", \"Entity\": \"\\u0404\\u0421\", \"Frequency\": 3, \"N_Articles\": 73, \"Share\": 4.1}, {\"Date\": \"2019-06-30T00:00:00\", \"Entity\": \"\\u041c\\u0412\\u0424\", \"Frequency\": 1, \"N_Articles\": 73, \"Share\": 1.4}, {\"Date\": \"2019-06-30T00:00:00\", \"Entity\": \"\\u0420\\u0424\", \"Frequency\": 2, \"N_Articles\": 73, \"Share\": 2.7}, {\"Date\": \"2019-06-30T00:00:00\", \"Entity\": \"\\u0421\\u0428\\u0410\", \"Frequency\": 1, \"N_Articles\": 73, \"Share\": 1.4}, {\"Date\": \"2019-07-31T00:00:00\", \"Entity\": \"\\u0404\\u0421\", \"Frequency\": 9, \"N_Articles\": 144, \"Share\": 6.2}, {\"Date\": \"2019-07-31T00:00:00\", \"Entity\": \"\\u041c\\u0412\\u0424\", \"Frequency\": 1, \"N_Articles\": 144, \"Share\": 0.7}, {\"Date\": \"2019-07-31T00:00:00\", \"Entity\": \"\\u0420\\u0424\", \"Frequency\": 6, \"N_Articles\": 144, \"Share\": 4.2}, {\"Date\": \"2019-07-31T00:00:00\", \"Entity\": \"\\u0421\\u0428\\u0410\", \"Frequency\": 5, \"N_Articles\": 144, \"Share\": 3.5}, {\"Date\": \"2019-08-31T00:00:00\", \"Entity\": \"\\u0404\\u0421\", \"Frequency\": 10, \"N_Articles\": 130, \"Share\": 7.7}, {\"Date\": \"2019-08-31T00:00:00\", \"Entity\": \"\\u041c\\u0412\\u0424\", \"Frequency\": 1, \"N_Articles\": 130, \"Share\": 0.8}, {\"Date\": \"2019-08-31T00:00:00\", \"Entity\": \"\\u0420\\u0424\", \"Frequency\": 9, \"N_Articles\": 130, \"Share\": 6.9}, {\"Date\": \"2019-08-31T00:00:00\", \"Entity\": \"\\u0421\\u0428\\u0410\", \"Frequency\": 2, \"N_Articles\": 130, \"Share\": 1.5}, {\"Date\": \"2019-09-30T00:00:00\", \"Entity\": \"\\u0404\\u0421\", \"Frequency\": 12, \"N_Articles\": 166, \"Share\": 7.2}, {\"Date\": \"2019-09-30T00:00:00\", \"Entity\": \"\\u0420\\u0424\", \"Frequency\": 11, \"N_Articles\": 166, \"Share\": 6.6}, {\"Date\": \"2019-09-30T00:00:00\", \"Entity\": \"\\u0421\\u0428\\u0410\", \"Frequency\": 5, \"N_Articles\": 166, \"Share\": 3.0}, {\"Date\": \"2019-10-31T00:00:00\", \"Entity\": \"\\u0404\\u0421\", \"Frequency\": 23, \"N_Articles\": 229, \"Share\": 10.0}, {\"Date\": \"2019-10-31T00:00:00\", \"Entity\": \"\\u041c\\u0412\\u0424\", \"Frequency\": 4, \"N_Articles\": 229, \"Share\": 1.7}, {\"Date\": \"2019-10-31T00:00:00\", \"Entity\": \"\\u0420\\u0424\", \"Frequency\": 9, \"N_Articles\": 229, \"Share\": 3.9}, {\"Date\": \"2019-10-31T00:00:00\", \"Entity\": \"\\u0421\\u0428\\u0410\", \"Frequency\": 4, \"N_Articles\": 229, \"Share\": 1.7}, {\"Date\": \"2019-11-30T00:00:00\", \"Entity\": \"\\u0404\\u0421\", \"Frequency\": 25, \"N_Articles\": 195, \"Share\": 12.8}, {\"Date\": \"2019-11-30T00:00:00\", \"Entity\": \"\\u0420\\u0424\", \"Frequency\": 8, \"N_Articles\": 195, \"Share\": 4.1}, {\"Date\": \"2019-11-30T00:00:00\", \"Entity\": \"\\u0421\\u0428\\u0410\", \"Frequency\": 6, \"N_Articles\": 195, \"Share\": 3.1}, {\"Date\": \"2019-12-31T00:00:00\", \"Entity\": \"\\u0404\\u0421\", \"Frequency\": 21, \"N_Articles\": 172, \"Share\": 12.2}, {\"Date\": \"2019-12-31T00:00:00\", \"Entity\": \"\\u0420\\u0424\", \"Frequency\": 6, \"N_Articles\": 172, \"Share\": 3.5}, {\"Date\": \"2019-12-31T00:00:00\", \"Entity\": \"\\u0421\\u0428\\u0410\", \"Frequency\": 13, \"N_Articles\": 172, \"Share\": 7.6}, {\"Date\": \"2020-01-31T00:00:00\", \"Entity\": \"\\u0404\\u0421\", \"Frequency\": 13, \"N_Articles\": 123, \"Share\": 10.6}, {\"Date\": \"2020-01-31T00:00:00\", \"Entity\": \"\\u041c\\u0412\\u0424\", \"Frequency\": 2, \"N_Articles\": 123, \"Share\": 1.6}, {\"Date\": \"2020-01-31T00:00:00\", \"Entity\": \"\\u0420\\u0424\", \"Frequency\": 9, \"N_Articles\": 123, \"Share\": 7.3}, {\"Date\": \"2020-01-31T00:00:00\", \"Entity\": \"\\u0421\\u0428\\u0410\", \"Frequency\": 5, \"N_Articles\": 123, \"Share\": 4.1}, {\"Date\": \"2020-02-29T00:00:00\", \"Entity\": \"\\u0404\\u0421\", \"Frequency\": 10, \"N_Articles\": 197, \"Share\": 5.1}, {\"Date\": \"2020-02-29T00:00:00\", \"Entity\": \"\\u0420\\u0424\", \"Frequency\": 1, \"N_Articles\": 197, \"Share\": 0.5}, {\"Date\": \"2020-02-29T00:00:00\", \"Entity\": \"\\u0421\\u0428\\u0410\", \"Frequency\": 7, \"N_Articles\": 197, \"Share\": 3.6}, {\"Date\": \"2020-03-31T00:00:00\", \"Entity\": \"\\u0404\\u0421\", \"Frequency\": 12, \"N_Articles\": 270, \"Share\": 4.4}, {\"Date\": \"2020-03-31T00:00:00\", \"Entity\": \"\\u0420\\u0424\", \"Frequency\": 10, \"N_Articles\": 270, \"Share\": 3.7}, {\"Date\": \"2020-03-31T00:00:00\", \"Entity\": \"\\u0421\\u0428\\u0410\", \"Frequency\": 24, \"N_Articles\": 270, \"Share\": 8.9}, {\"Date\": \"2020-04-30T00:00:00\", \"Entity\": \"\\u0404\\u0421\", \"Frequency\": 18, \"N_Articles\": 276, \"Share\": 6.5}, {\"Date\": \"2020-04-30T00:00:00\", \"Entity\": \"\\u041c\\u0412\\u0424\", \"Frequency\": 1, \"N_Articles\": 276, \"Share\": 0.4}, {\"Date\": \"2020-04-30T00:00:00\", \"Entity\": \"\\u0420\\u0424\", \"Frequency\": 7, \"N_Articles\": 276, \"Share\": 2.5}, {\"Date\": \"2020-04-30T00:00:00\", \"Entity\": \"\\u0421\\u0428\\u0410\", \"Frequency\": 17, \"N_Articles\": 276, \"Share\": 6.2}, {\"Date\": \"2020-05-31T00:00:00\", \"Entity\": \"\\u0404\\u0421\", \"Frequency\": 28, \"N_Articles\": 197, \"Share\": 14.2}, {\"Date\": \"2020-05-31T00:00:00\", \"Entity\": \"\\u0420\\u0424\", \"Frequency\": 6, \"N_Articles\": 197, \"Share\": 3.0}, {\"Date\": \"2020-05-31T00:00:00\", \"Entity\": \"\\u0421\\u0428\\u0410\", \"Frequency\": 15, \"N_Articles\": 197, \"Share\": 7.6}, {\"Date\": \"2020-06-30T00:00:00\", \"Entity\": \"\\u0404\\u0421\", \"Frequency\": 9, \"N_Articles\": 97, \"Share\": 9.3}, {\"Date\": \"2020-06-30T00:00:00\", \"Entity\": \"\\u041c\\u0412\\u0424\", \"Frequency\": 4, \"N_Articles\": 97, \"Share\": 4.1}, {\"Date\": \"2020-06-30T00:00:00\", \"Entity\": \"\\u0420\\u0424\", \"Frequency\": 3, \"N_Articles\": 97, \"Share\": 3.1}, {\"Date\": \"2020-06-30T00:00:00\", \"Entity\": \"\\u0421\\u0428\\u0410\", \"Frequency\": 10, \"N_Articles\": 97, \"Share\": 10.3}], \"data-3b843f9f4f5fe846845e90d8d7431764\": [{\"Date\": \"2017-04-30T00:00:00\", \"Name\": \"\\u041a\\u043e\\u0431\\u043e\\u043b\\u0454\\u0432\", \"Share\": 2.0}, {\"Date\": \"2017-05-31T00:00:00\", \"Name\": \"\\u041a\\u043e\\u0431\\u043e\\u043b\\u0454\\u0432\", \"Share\": 1.5}, {\"Date\": \"2017-06-30T00:00:00\", \"Name\": \"\\u041a\\u043e\\u0431\\u043e\\u043b\\u0454\\u0432\", \"Share\": 6.2}, {\"Date\": \"2017-07-31T00:00:00\", \"Name\": \"\\u041a\\u043e\\u0431\\u043e\\u043b\\u0454\\u0432\", \"Share\": 1.6}, {\"Date\": \"2017-08-31T00:00:00\", \"Name\": \"\\u041a\\u043e\\u0431\\u043e\\u043b\\u0454\\u0432\", \"Share\": 2.4}, {\"Date\": \"2017-09-30T00:00:00\", \"Name\": \"\\u041a\\u043e\\u0431\\u043e\\u043b\\u0454\\u0432\", \"Share\": 2.9}, {\"Date\": \"2017-10-31T00:00:00\", \"Name\": \"\\u041a\\u043e\\u0431\\u043e\\u043b\\u0454\\u0432\", \"Share\": 0.4}, {\"Date\": \"2017-11-30T00:00:00\", \"Name\": \"\\u041a\\u043e\\u0431\\u043e\\u043b\\u0454\\u0432\", \"Share\": 2.0}, {\"Date\": \"2017-12-31T00:00:00\", \"Name\": \"\\u041a\\u043e\\u0431\\u043e\\u043b\\u0454\\u0432\", \"Share\": 3.0}, {\"Date\": \"2018-01-31T00:00:00\", \"Name\": \"\\u041a\\u043e\\u0431\\u043e\\u043b\\u0454\\u0432\", \"Share\": 3.3}, {\"Date\": \"2018-02-28T00:00:00\", \"Name\": \"\\u041a\\u043e\\u0431\\u043e\\u043b\\u0454\\u0432\", \"Share\": 3.7}, {\"Date\": \"2018-03-31T00:00:00\", \"Name\": \"\\u041a\\u043e\\u0431\\u043e\\u043b\\u0454\\u0432\", \"Share\": 5.3}, {\"Date\": \"2018-04-30T00:00:00\", \"Name\": \"\\u041a\\u043e\\u0431\\u043e\\u043b\\u0454\\u0432\", \"Share\": 3.3}, {\"Date\": \"2018-05-31T00:00:00\", \"Name\": \"\\u041a\\u043e\\u0431\\u043e\\u043b\\u0454\\u0432\", \"Share\": 3.1}, {\"Date\": \"2018-06-30T00:00:00\", \"Name\": \"\\u041a\\u043e\\u0431\\u043e\\u043b\\u0454\\u0432\", \"Share\": 4.4}, {\"Date\": \"2018-07-31T00:00:00\", \"Name\": \"\\u041a\\u043e\\u0431\\u043e\\u043b\\u0454\\u0432\", \"Share\": 3.3}, {\"Date\": \"2018-08-31T00:00:00\", \"Name\": \"\\u041a\\u043e\\u0431\\u043e\\u043b\\u0454\\u0432\", \"Share\": 3.5}, {\"Date\": \"2018-09-30T00:00:00\", \"Name\": \"\\u041a\\u043e\\u0431\\u043e\\u043b\\u0454\\u0432\", \"Share\": 4.3}, {\"Date\": \"2018-10-31T00:00:00\", \"Name\": \"\\u041a\\u043e\\u0431\\u043e\\u043b\\u0454\\u0432\", \"Share\": 3.7}, {\"Date\": \"2018-11-30T00:00:00\", \"Name\": \"\\u041a\\u043e\\u0431\\u043e\\u043b\\u0454\\u0432\", \"Share\": 9.3}, {\"Date\": \"2018-12-31T00:00:00\", \"Name\": \"\\u041a\\u043e\\u0431\\u043e\\u043b\\u0454\\u0432\", \"Share\": 3.9}, {\"Date\": \"2019-01-31T00:00:00\", \"Name\": \"\\u041a\\u043e\\u0431\\u043e\\u043b\\u0454\\u0432\", \"Share\": 14.3}, {\"Date\": \"2019-02-28T00:00:00\", \"Name\": \"\\u041a\\u043e\\u0431\\u043e\\u043b\\u0454\\u0432\", \"Share\": 14.8}, {\"Date\": \"2019-03-31T00:00:00\", \"Name\": \"\\u041a\\u043e\\u0431\\u043e\\u043b\\u0454\\u0432\", \"Share\": 11.6}, {\"Date\": \"2019-04-30T00:00:00\", \"Name\": \"\\u041a\\u043e\\u0431\\u043e\\u043b\\u0454\\u0432\", \"Share\": 8.3}, {\"Date\": \"2019-05-31T00:00:00\", \"Name\": \"\\u041a\\u043e\\u0431\\u043e\\u043b\\u0454\\u0432\", \"Share\": 6.1}, {\"Date\": \"2019-06-30T00:00:00\", \"Name\": \"\\u041a\\u043e\\u0431\\u043e\\u043b\\u0454\\u0432\", \"Share\": 9.6}, {\"Date\": \"2019-07-31T00:00:00\", \"Name\": \"\\u041a\\u043e\\u0431\\u043e\\u043b\\u0454\\u0432\", \"Share\": 9.0}, {\"Date\": \"2019-08-31T00:00:00\", \"Name\": \"\\u041a\\u043e\\u0431\\u043e\\u043b\\u0454\\u0432\", \"Share\": 3.8}, {\"Date\": \"2019-09-30T00:00:00\", \"Name\": \"\\u041a\\u043e\\u0431\\u043e\\u043b\\u0454\\u0432\", \"Share\": 8.4}, {\"Date\": \"2019-10-31T00:00:00\", \"Name\": \"\\u041a\\u043e\\u0431\\u043e\\u043b\\u0454\\u0432\", \"Share\": 6.6}, {\"Date\": \"2019-11-30T00:00:00\", \"Name\": \"\\u041a\\u043e\\u0431\\u043e\\u043b\\u0454\\u0432\", \"Share\": 2.6}, {\"Date\": \"2019-12-31T00:00:00\", \"Name\": \"\\u041a\\u043e\\u0431\\u043e\\u043b\\u0454\\u0432\", \"Share\": 13.4}, {\"Date\": \"2020-01-31T00:00:00\", \"Name\": \"\\u041a\\u043e\\u0431\\u043e\\u043b\\u0454\\u0432\", \"Share\": 7.3}, {\"Date\": \"2020-02-29T00:00:00\", \"Name\": \"\\u041a\\u043e\\u0431\\u043e\\u043b\\u0454\\u0432\", \"Share\": 5.6}, {\"Date\": \"2020-03-31T00:00:00\", \"Name\": \"\\u041a\\u043e\\u0431\\u043e\\u043b\\u0454\\u0432\", \"Share\": 3.0}, {\"Date\": \"2020-04-30T00:00:00\", \"Name\": \"\\u041a\\u043e\\u0431\\u043e\\u043b\\u0454\\u0432\", \"Share\": 2.9}, {\"Date\": \"2020-05-31T00:00:00\", \"Name\": \"\\u041a\\u043e\\u0431\\u043e\\u043b\\u0454\\u0432\", \"Share\": 2.5}, {\"Date\": \"2020-06-30T00:00:00\", \"Name\": \"\\u041a\\u043e\\u0431\\u043e\\u043b\\u0454\\u0432\", \"Share\": 9.3}, {\"Date\": \"2019-08-31T00:00:00\", \"Name\": \"\\u041e\\u0440\\u0436\\u0435\\u043b\\u044c\", \"Share\": 2.3}, {\"Date\": \"2019-09-30T00:00:00\", \"Name\": \"\\u041e\\u0440\\u0436\\u0435\\u043b\\u044c\", \"Share\": 14.5}, {\"Date\": \"2019-10-31T00:00:00\", \"Name\": \"\\u041e\\u0440\\u0436\\u0435\\u043b\\u044c\", \"Share\": 17.9}, {\"Date\": \"2019-11-30T00:00:00\", \"Name\": \"\\u041e\\u0440\\u0436\\u0435\\u043b\\u044c\", \"Share\": 19.5}, {\"Date\": \"2019-12-31T00:00:00\", \"Name\": \"\\u041e\\u0440\\u0436\\u0435\\u043b\\u044c\", \"Share\": 25.6}, {\"Date\": \"2020-01-31T00:00:00\", \"Name\": \"\\u041e\\u0440\\u0436\\u0435\\u043b\\u044c\", \"Share\": 15.4}, {\"Date\": \"2020-02-29T00:00:00\", \"Name\": \"\\u041e\\u0440\\u0436\\u0435\\u043b\\u044c\", \"Share\": 13.2}, {\"Date\": \"2020-03-31T00:00:00\", \"Name\": \"\\u041e\\u0440\\u0436\\u0435\\u043b\\u044c\", \"Share\": 5.9}, {\"Date\": \"2020-04-30T00:00:00\", \"Name\": \"\\u041e\\u0440\\u0436\\u0435\\u043b\\u044c\", \"Share\": 0.7}, {\"Date\": \"2020-05-31T00:00:00\", \"Name\": \"\\u041e\\u0440\\u0436\\u0435\\u043b\\u044c\", \"Share\": 1.5}, {\"Date\": \"2020-06-30T00:00:00\", \"Name\": \"\\u041e\\u0440\\u0436\\u0435\\u043b\\u044c\", \"Share\": 1.0}, {\"Date\": \"2017-04-30T00:00:00\", \"Name\": \"\\u0413\\u0440\\u043e\\u0439\\u0441\\u043c\\u0430\\u043d\", \"Share\": 10.2}, {\"Date\": \"2017-05-31T00:00:00\", \"Name\": \"\\u0413\\u0440\\u043e\\u0439\\u0441\\u043c\\u0430\\u043d\", \"Share\": 4.5}, {\"Date\": \"2017-06-30T00:00:00\", \"Name\": \"\\u0413\\u0440\\u043e\\u0439\\u0441\\u043c\\u0430\\u043d\", \"Share\": 5.5}, {\"Date\": \"2017-07-31T00:00:00\", \"Name\": \"\\u0413\\u0440\\u043e\\u0439\\u0441\\u043c\\u0430\\u043d\", \"Share\": 4.3}, {\"Date\": \"2017-08-31T00:00:00\", \"Name\": \"\\u0413\\u0440\\u043e\\u0439\\u0441\\u043c\\u0430\\u043d\", \"Share\": 5.4}, {\"Date\": \"2017-09-30T00:00:00\", \"Name\": \"\\u0413\\u0440\\u043e\\u0439\\u0441\\u043c\\u0430\\u043d\", \"Share\": 8.6}, {\"Date\": \"2017-10-31T00:00:00\", \"Name\": \"\\u0413\\u0440\\u043e\\u0439\\u0441\\u043c\\u0430\\u043d\", \"Share\": 4.7}, {\"Date\": \"2017-11-30T00:00:00\", \"Name\": \"\\u0413\\u0440\\u043e\\u0439\\u0441\\u043c\\u0430\\u043d\", \"Share\": 4.8}, {\"Date\": \"2017-12-31T00:00:00\", \"Name\": \"\\u0413\\u0440\\u043e\\u0439\\u0441\\u043c\\u0430\\u043d\", \"Share\": 4.0}, {\"Date\": \"2018-01-31T00:00:00\", \"Name\": \"\\u0413\\u0440\\u043e\\u0439\\u0441\\u043c\\u0430\\u043d\", \"Share\": 4.7}, {\"Date\": \"2018-02-28T00:00:00\", \"Name\": \"\\u0413\\u0440\\u043e\\u0439\\u0441\\u043c\\u0430\\u043d\", \"Share\": 4.6}, {\"Date\": \"2018-03-31T00:00:00\", \"Name\": \"\\u0413\\u0440\\u043e\\u0439\\u0441\\u043c\\u0430\\u043d\", \"Share\": 5.3}, {\"Date\": \"2018-04-30T00:00:00\", \"Name\": \"\\u0413\\u0440\\u043e\\u0439\\u0441\\u043c\\u0430\\u043d\", \"Share\": 3.3}, {\"Date\": \"2018-05-31T00:00:00\", \"Name\": \"\\u0413\\u0440\\u043e\\u0439\\u0441\\u043c\\u0430\\u043d\", \"Share\": 4.6}, {\"Date\": \"2018-06-30T00:00:00\", \"Name\": \"\\u0413\\u0440\\u043e\\u0439\\u0441\\u043c\\u0430\\u043d\", \"Share\": 7.0}, {\"Date\": \"2018-07-31T00:00:00\", \"Name\": \"\\u0413\\u0440\\u043e\\u0439\\u0441\\u043c\\u0430\\u043d\", \"Share\": 7.6}, {\"Date\": \"2018-08-31T00:00:00\", \"Name\": \"\\u0413\\u0440\\u043e\\u0439\\u0441\\u043c\\u0430\\u043d\", \"Share\": 4.0}, {\"Date\": \"2018-09-30T00:00:00\", \"Name\": \"\\u0413\\u0440\\u043e\\u0439\\u0441\\u043c\\u0430\\u043d\", \"Share\": 4.3}, {\"Date\": \"2018-10-31T00:00:00\", \"Name\": \"\\u0413\\u0440\\u043e\\u0439\\u0441\\u043c\\u0430\\u043d\", \"Share\": 12.4}, {\"Date\": \"2018-11-30T00:00:00\", \"Name\": \"\\u0413\\u0440\\u043e\\u0439\\u0441\\u043c\\u0430\\u043d\", \"Share\": 11.0}, {\"Date\": \"2018-12-31T00:00:00\", \"Name\": \"\\u0413\\u0440\\u043e\\u0439\\u0441\\u043c\\u0430\\u043d\", \"Share\": 7.0}, {\"Date\": \"2019-01-31T00:00:00\", \"Name\": \"\\u0413\\u0440\\u043e\\u0439\\u0441\\u043c\\u0430\\u043d\", \"Share\": 7.6}, {\"Date\": \"2019-02-28T00:00:00\", \"Name\": \"\\u0413\\u0440\\u043e\\u0439\\u0441\\u043c\\u0430\\u043d\", \"Share\": 3.3}, {\"Date\": \"2019-03-31T00:00:00\", \"Name\": \"\\u0413\\u0440\\u043e\\u0439\\u0441\\u043c\\u0430\\u043d\", \"Share\": 9.3}, {\"Date\": \"2019-04-30T00:00:00\", \"Name\": \"\\u0413\\u0440\\u043e\\u0439\\u0441\\u043c\\u0430\\u043d\", \"Share\": 9.3}, {\"Date\": \"2019-05-31T00:00:00\", \"Name\": \"\\u0413\\u0440\\u043e\\u0439\\u0441\\u043c\\u0430\\u043d\", \"Share\": 11.1}, {\"Date\": \"2019-06-30T00:00:00\", \"Name\": \"\\u0413\\u0440\\u043e\\u0439\\u0441\\u043c\\u0430\\u043d\", \"Share\": 11.0}, {\"Date\": \"2019-07-31T00:00:00\", \"Name\": \"\\u0413\\u0440\\u043e\\u0439\\u0441\\u043c\\u0430\\u043d\", \"Share\": 6.2}, {\"Date\": \"2019-08-31T00:00:00\", \"Name\": \"\\u0413\\u0440\\u043e\\u0439\\u0441\\u043c\\u0430\\u043d\", \"Share\": 3.8}, {\"Date\": \"2019-09-30T00:00:00\", \"Name\": \"\\u0413\\u0440\\u043e\\u0439\\u0441\\u043c\\u0430\\u043d\", \"Share\": 5.4}, {\"Date\": \"2019-10-31T00:00:00\", \"Name\": \"\\u0413\\u0440\\u043e\\u0439\\u0441\\u043c\\u0430\\u043d\", \"Share\": 3.9}, {\"Date\": \"2019-11-30T00:00:00\", \"Name\": \"\\u0413\\u0440\\u043e\\u0439\\u0441\\u043c\\u0430\\u043d\", \"Share\": 2.6}, {\"Date\": \"2019-12-31T00:00:00\", \"Name\": \"\\u0413\\u0440\\u043e\\u0439\\u0441\\u043c\\u0430\\u043d\", \"Share\": 1.7}, {\"Date\": \"2020-01-31T00:00:00\", \"Name\": \"\\u0413\\u0440\\u043e\\u0439\\u0441\\u043c\\u0430\\u043d\", \"Share\": 0.8}, {\"Date\": \"2020-02-29T00:00:00\", \"Name\": \"\\u0413\\u0440\\u043e\\u0439\\u0441\\u043c\\u0430\\u043d\", \"Share\": 1.5}, {\"Date\": \"2020-04-30T00:00:00\", \"Name\": \"\\u0413\\u0440\\u043e\\u0439\\u0441\\u043c\\u0430\\u043d\", \"Share\": 0.4}, {\"Date\": \"2017-05-31T00:00:00\", \"Name\": \"\\u0412\\u0456\\u0442\\u0440\\u0435\\u043d\\u043a\\u043e\", \"Share\": 1.5}, {\"Date\": \"2017-06-30T00:00:00\", \"Name\": \"\\u0412\\u0456\\u0442\\u0440\\u0435\\u043d\\u043a\\u043e\", \"Share\": 1.4}, {\"Date\": \"2017-07-31T00:00:00\", \"Name\": \"\\u0412\\u0456\\u0442\\u0440\\u0435\\u043d\\u043a\\u043e\", \"Share\": 0.4}, {\"Date\": \"2017-08-31T00:00:00\", \"Name\": \"\\u0412\\u0456\\u0442\\u0440\\u0435\\u043d\\u043a\\u043e\", \"Share\": 1.8}, {\"Date\": \"2017-09-30T00:00:00\", \"Name\": \"\\u0412\\u0456\\u0442\\u0440\\u0435\\u043d\\u043a\\u043e\", \"Share\": 0.4}, {\"Date\": \"2017-10-31T00:00:00\", \"Name\": \"\\u0412\\u0456\\u0442\\u0440\\u0435\\u043d\\u043a\\u043e\", \"Share\": 0.4}, {\"Date\": \"2017-11-30T00:00:00\", \"Name\": \"\\u0412\\u0456\\u0442\\u0440\\u0435\\u043d\\u043a\\u043e\", \"Share\": 0.8}, {\"Date\": \"2017-12-31T00:00:00\", \"Name\": \"\\u0412\\u0456\\u0442\\u0440\\u0435\\u043d\\u043a\\u043e\", \"Share\": 2.0}, {\"Date\": \"2018-02-28T00:00:00\", \"Name\": \"\\u0412\\u0456\\u0442\\u0440\\u0435\\u043d\\u043a\\u043e\", \"Share\": 0.9}, {\"Date\": \"2018-03-31T00:00:00\", \"Name\": \"\\u0412\\u0456\\u0442\\u0440\\u0435\\u043d\\u043a\\u043e\", \"Share\": 5.7}, {\"Date\": \"2018-04-30T00:00:00\", \"Name\": \"\\u0412\\u0456\\u0442\\u0440\\u0435\\u043d\\u043a\\u043e\", \"Share\": 1.1}, {\"Date\": \"2018-05-31T00:00:00\", \"Name\": \"\\u0412\\u0456\\u0442\\u0440\\u0435\\u043d\\u043a\\u043e\", \"Share\": 0.5}, {\"Date\": \"2018-06-30T00:00:00\", \"Name\": \"\\u0412\\u0456\\u0442\\u0440\\u0435\\u043d\\u043a\\u043e\", \"Share\": 3.2}, {\"Date\": \"2018-07-31T00:00:00\", \"Name\": \"\\u0412\\u0456\\u0442\\u0440\\u0435\\u043d\\u043a\\u043e\", \"Share\": 3.3}, {\"Date\": \"2018-08-31T00:00:00\", \"Name\": \"\\u0412\\u0456\\u0442\\u0440\\u0435\\u043d\\u043a\\u043e\", \"Share\": 0.9}, {\"Date\": \"2018-09-30T00:00:00\", \"Name\": \"\\u0412\\u0456\\u0442\\u0440\\u0435\\u043d\\u043a\\u043e\", \"Share\": 5.9}, {\"Date\": \"2018-10-31T00:00:00\", \"Name\": \"\\u0412\\u0456\\u0442\\u0440\\u0435\\u043d\\u043a\\u043e\", \"Share\": 2.8}, {\"Date\": \"2018-11-30T00:00:00\", \"Name\": \"\\u0412\\u0456\\u0442\\u0440\\u0435\\u043d\\u043a\\u043e\", \"Share\": 0.6}, {\"Date\": \"2018-12-31T00:00:00\", \"Name\": \"\\u0412\\u0456\\u0442\\u0440\\u0435\\u043d\\u043a\\u043e\", \"Share\": 0.8}, {\"Date\": \"2019-01-31T00:00:00\", \"Name\": \"\\u0412\\u0456\\u0442\\u0440\\u0435\\u043d\\u043a\\u043e\", \"Share\": 4.8}, {\"Date\": \"2019-02-28T00:00:00\", \"Name\": \"\\u0412\\u0456\\u0442\\u0440\\u0435\\u043d\\u043a\\u043e\", \"Share\": 1.6}, {\"Date\": \"2019-04-30T00:00:00\", \"Name\": \"\\u0412\\u0456\\u0442\\u0440\\u0435\\u043d\\u043a\\u043e\", \"Share\": 0.9}, {\"Date\": \"2019-05-31T00:00:00\", \"Name\": \"\\u0412\\u0456\\u0442\\u0440\\u0435\\u043d\\u043a\\u043e\", \"Share\": 1.0}, {\"Date\": \"2019-06-30T00:00:00\", \"Name\": \"\\u0412\\u0456\\u0442\\u0440\\u0435\\u043d\\u043a\\u043e\", \"Share\": 1.4}, {\"Date\": \"2019-07-31T00:00:00\", \"Name\": \"\\u0412\\u0456\\u0442\\u0440\\u0435\\u043d\\u043a\\u043e\", \"Share\": 2.1}, {\"Date\": \"2019-09-30T00:00:00\", \"Name\": \"\\u0412\\u0456\\u0442\\u0440\\u0435\\u043d\\u043a\\u043e\", \"Share\": 1.8}, {\"Date\": \"2019-10-31T00:00:00\", \"Name\": \"\\u0412\\u0456\\u0442\\u0440\\u0435\\u043d\\u043a\\u043e\", \"Share\": 1.3}, {\"Date\": \"2019-11-30T00:00:00\", \"Name\": \"\\u0412\\u0456\\u0442\\u0440\\u0435\\u043d\\u043a\\u043e\", \"Share\": 4.1}, {\"Date\": \"2019-12-31T00:00:00\", \"Name\": \"\\u0412\\u0456\\u0442\\u0440\\u0435\\u043d\\u043a\\u043e\", \"Share\": 10.5}, {\"Date\": \"2020-01-31T00:00:00\", \"Name\": \"\\u0412\\u0456\\u0442\\u0440\\u0435\\u043d\\u043a\\u043e\", \"Share\": 11.4}, {\"Date\": \"2020-02-29T00:00:00\", \"Name\": \"\\u0412\\u0456\\u0442\\u0440\\u0435\\u043d\\u043a\\u043e\", \"Share\": 3.6}, {\"Date\": \"2020-03-31T00:00:00\", \"Name\": \"\\u0412\\u0456\\u0442\\u0440\\u0435\\u043d\\u043a\\u043e\", \"Share\": 0.4}, {\"Date\": \"2020-04-30T00:00:00\", \"Name\": \"\\u0412\\u0456\\u0442\\u0440\\u0435\\u043d\\u043a\\u043e\", \"Share\": 1.4}, {\"Date\": \"2020-05-31T00:00:00\", \"Name\": \"\\u0412\\u0456\\u0442\\u0440\\u0435\\u043d\\u043a\\u043e\", \"Share\": 4.6}, {\"Date\": \"2020-06-30T00:00:00\", \"Name\": \"\\u0412\\u0456\\u0442\\u0440\\u0435\\u043d\\u043a\\u043e\", \"Share\": 1.0}, {\"Date\": \"2017-12-31T00:00:00\", \"Name\": \"\\u0411\\u0443\\u0441\\u043b\\u0430\\u0432\\u0435\\u0446\\u044c\", \"Share\": 0.5}, {\"Date\": \"2018-01-31T00:00:00\", \"Name\": \"\\u0411\\u0443\\u0441\\u043b\\u0430\\u0432\\u0435\\u0446\\u044c\", \"Share\": 0.5}, {\"Date\": \"2018-02-28T00:00:00\", \"Name\": \"\\u0411\\u0443\\u0441\\u043b\\u0430\\u0432\\u0435\\u0446\\u044c\", \"Share\": 0.5}, {\"Date\": \"2018-04-30T00:00:00\", \"Name\": \"\\u0411\\u0443\\u0441\\u043b\\u0430\\u0432\\u0435\\u0446\\u044c\", \"Share\": 0.5}, {\"Date\": \"2018-08-31T00:00:00\", \"Name\": \"\\u0411\\u0443\\u0441\\u043b\\u0430\\u0432\\u0435\\u0446\\u044c\", \"Share\": 0.4}, {\"Date\": \"2018-09-30T00:00:00\", \"Name\": \"\\u0411\\u0443\\u0441\\u043b\\u0430\\u0432\\u0435\\u0446\\u044c\", \"Share\": 0.5}, {\"Date\": \"2018-11-30T00:00:00\", \"Name\": \"\\u0411\\u0443\\u0441\\u043b\\u0430\\u0432\\u0435\\u0446\\u044c\", \"Share\": 0.6}, {\"Date\": \"2019-01-31T00:00:00\", \"Name\": \"\\u0411\\u0443\\u0441\\u043b\\u0430\\u0432\\u0435\\u0446\\u044c\", \"Share\": 1.0}, {\"Date\": \"2019-02-28T00:00:00\", \"Name\": \"\\u0411\\u0443\\u0441\\u043b\\u0430\\u0432\\u0435\\u0446\\u044c\", \"Share\": 1.6}, {\"Date\": \"2019-07-31T00:00:00\", \"Name\": \"\\u0411\\u0443\\u0441\\u043b\\u0430\\u0432\\u0435\\u0446\\u044c\", \"Share\": 0.7}, {\"Date\": \"2020-03-31T00:00:00\", \"Name\": \"\\u0411\\u0443\\u0441\\u043b\\u0430\\u0432\\u0435\\u0446\\u044c\", \"Share\": 1.1}, {\"Date\": \"2020-04-30T00:00:00\", \"Name\": \"\\u0411\\u0443\\u0441\\u043b\\u0430\\u0432\\u0435\\u0446\\u044c\", \"Share\": 8.7}, {\"Date\": \"2020-05-31T00:00:00\", \"Name\": \"\\u0411\\u0443\\u0441\\u043b\\u0430\\u0432\\u0435\\u0446\\u044c\", \"Share\": 25.4}, {\"Date\": \"2020-06-30T00:00:00\", \"Name\": \"\\u0411\\u0443\\u0441\\u043b\\u0430\\u0432\\u0435\\u0446\\u044c\", \"Share\": 21.6}, {\"Date\": \"2019-08-31T00:00:00\", \"Name\": \"\\u0413\\u043e\\u043d\\u0447\\u0430\\u0440\\u0443\\u043a\", \"Share\": 3.1}, {\"Date\": \"2019-09-30T00:00:00\", \"Name\": \"\\u0413\\u043e\\u043d\\u0447\\u0430\\u0440\\u0443\\u043a\", \"Share\": 11.4}, {\"Date\": \"2019-10-31T00:00:00\", \"Name\": \"\\u0413\\u043e\\u043d\\u0447\\u0430\\u0440\\u0443\\u043a\", \"Share\": 11.8}, {\"Date\": \"2019-11-30T00:00:00\", \"Name\": \"\\u0413\\u043e\\u043d\\u0447\\u0430\\u0440\\u0443\\u043a\", \"Share\": 9.2}, {\"Date\": \"2019-12-31T00:00:00\", \"Name\": \"\\u0413\\u043e\\u043d\\u0447\\u0430\\u0440\\u0443\\u043a\", \"Share\": 7.6}, {\"Date\": \"2020-01-31T00:00:00\", \"Name\": \"\\u0413\\u043e\\u043d\\u0447\\u0430\\u0440\\u0443\\u043a\", \"Share\": 5.7}, {\"Date\": \"2020-02-29T00:00:00\", \"Name\": \"\\u0413\\u043e\\u043d\\u0447\\u0430\\u0440\\u0443\\u043a\", \"Share\": 15.2}, {\"Date\": \"2020-03-31T00:00:00\", \"Name\": \"\\u0413\\u043e\\u043d\\u0447\\u0430\\u0440\\u0443\\u043a\", \"Share\": 5.2}, {\"Date\": \"2020-04-30T00:00:00\", \"Name\": \"\\u0413\\u043e\\u043d\\u0447\\u0430\\u0440\\u0443\\u043a\", \"Share\": 2.2}, {\"Date\": \"2020-05-31T00:00:00\", \"Name\": \"\\u0413\\u043e\\u043d\\u0447\\u0430\\u0440\\u0443\\u043a\", \"Share\": 2.0}]}}, {\"mode\": \"vega-lite\"});\n",
       "</script>"
      ],
      "text/plain": [
       "alt.VConcatChart(...)"
      ]
     },
     "execution_count": 36,
     "metadata": {},
     "output_type": "execute_result"
    }
   ],
   "source": [
    "alt.vconcat(\n",
    "    chart1, alt.hconcat(chart2, chart3), chart4, chart5,\n",
    "    title = alt.TitleParams(\"Dashboard on Text Data from UA-Energy.org\",\n",
    "                            fontSize=24, anchor='start', offset = 30)\n",
    ").resolve_scale(\n",
    "    color='independent'\n",
    ").configure_point(\n",
    "    size=70\n",
    ")"
   ]
  },
  {
   "cell_type": "code",
   "execution_count": null,
   "metadata": {},
   "outputs": [],
   "source": []
  }
 ],
 "metadata": {
  "kernelspec": {
   "display_name": "Python 3",
   "language": "python",
   "name": "python3"
  },
  "language_info": {
   "codemirror_mode": {
    "name": "ipython",
    "version": 3
   },
   "file_extension": ".py",
   "mimetype": "text/x-python",
   "name": "python",
   "nbconvert_exporter": "python",
   "pygments_lexer": "ipython3",
   "version": "3.7.7"
  },
  "toc": {
   "base_numbering": 1,
   "nav_menu": {},
   "number_sections": false,
   "sideBar": true,
   "skip_h1_title": false,
   "title_cell": "Table of Contents",
   "title_sidebar": "Contents",
   "toc_cell": false,
   "toc_position": {
    "height": "calc(100% - 180px)",
    "left": "10px",
    "top": "150px",
    "width": "336px"
   },
   "toc_section_display": true,
   "toc_window_display": false
  },
  "varInspector": {
   "cols": {
    "lenName": 16,
    "lenType": 16,
    "lenVar": 40
   },
   "kernels_config": {
    "python": {
     "delete_cmd_postfix": "",
     "delete_cmd_prefix": "del ",
     "library": "var_list.py",
     "varRefreshCmd": "print(var_dic_list())"
    },
    "r": {
     "delete_cmd_postfix": ") ",
     "delete_cmd_prefix": "rm(",
     "library": "var_list.r",
     "varRefreshCmd": "cat(var_dic_list()) "
    }
   },
   "types_to_exclude": [
    "module",
    "function",
    "builtin_function_or_method",
    "instance",
    "_Feature"
   ],
   "window_display": false
  }
 },
 "nbformat": 4,
 "nbformat_minor": 4
}
